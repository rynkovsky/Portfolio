{
 "cells": [
  {
   "cell_type": "code",
   "execution_count": 131,
   "id": "91e171d2",
   "metadata": {},
   "outputs": [],
   "source": [
    "from sklearn.datasets import load_boston\n",
    "import pandas as pd\n",
    "import matplotlib.pyplot as plt\n",
    "import seaborn as sns"
   ]
  },
  {
   "cell_type": "code",
   "execution_count": 132,
   "id": "c22287a4",
   "metadata": {},
   "outputs": [],
   "source": [
    "data = pd.read_csv('E:\\\\Python\\\\STPY-26\\\\STPY_HW4\\\\water.csv')"
   ]
  },
  {
   "cell_type": "code",
   "execution_count": 133,
   "id": "4d2d4e80",
   "metadata": {},
   "outputs": [
    {
     "data": {
      "text/html": [
       "<div>\n",
       "<style scoped>\n",
       "    .dataframe tbody tr th:only-of-type {\n",
       "        vertical-align: middle;\n",
       "    }\n",
       "\n",
       "    .dataframe tbody tr th {\n",
       "        vertical-align: top;\n",
       "    }\n",
       "\n",
       "    .dataframe thead th {\n",
       "        text-align: right;\n",
       "    }\n",
       "</style>\n",
       "<table border=\"1\" class=\"dataframe\">\n",
       "  <thead>\n",
       "    <tr style=\"text-align: right;\">\n",
       "      <th></th>\n",
       "      <th>Unnamed: 0</th>\n",
       "      <th>location</th>\n",
       "      <th>town</th>\n",
       "      <th>mortality</th>\n",
       "      <th>hardness</th>\n",
       "    </tr>\n",
       "  </thead>\n",
       "  <tbody>\n",
       "    <tr>\n",
       "      <th>0</th>\n",
       "      <td>1</td>\n",
       "      <td>South</td>\n",
       "      <td>Bath</td>\n",
       "      <td>1247</td>\n",
       "      <td>105</td>\n",
       "    </tr>\n",
       "    <tr>\n",
       "      <th>1</th>\n",
       "      <td>2</td>\n",
       "      <td>North</td>\n",
       "      <td>Birkenhead</td>\n",
       "      <td>1668</td>\n",
       "      <td>17</td>\n",
       "    </tr>\n",
       "    <tr>\n",
       "      <th>2</th>\n",
       "      <td>3</td>\n",
       "      <td>South</td>\n",
       "      <td>Birmingham</td>\n",
       "      <td>1466</td>\n",
       "      <td>5</td>\n",
       "    </tr>\n",
       "    <tr>\n",
       "      <th>3</th>\n",
       "      <td>4</td>\n",
       "      <td>North</td>\n",
       "      <td>Blackburn</td>\n",
       "      <td>1800</td>\n",
       "      <td>14</td>\n",
       "    </tr>\n",
       "    <tr>\n",
       "      <th>4</th>\n",
       "      <td>5</td>\n",
       "      <td>North</td>\n",
       "      <td>Blackpool</td>\n",
       "      <td>1609</td>\n",
       "      <td>18</td>\n",
       "    </tr>\n",
       "  </tbody>\n",
       "</table>\n",
       "</div>"
      ],
      "text/plain": [
       "   Unnamed: 0 location        town  mortality  hardness\n",
       "0           1    South        Bath       1247       105\n",
       "1           2    North  Birkenhead       1668        17\n",
       "2           3    South  Birmingham       1466         5\n",
       "3           4    North   Blackburn       1800        14\n",
       "4           5    North   Blackpool       1609        18"
      ]
     },
     "execution_count": 133,
     "metadata": {},
     "output_type": "execute_result"
    }
   ],
   "source": [
    "data.head()"
   ]
  },
  {
   "cell_type": "markdown",
   "id": "8e2d1ec1",
   "metadata": {},
   "source": [
    "##  Задание 1.\n",
    "Ответить на вопрос: есть ли связь между жёсткостью воды и средней годовой смертностью?"
   ]
  },
  {
   "cell_type": "code",
   "execution_count": 134,
   "id": "c83343e9",
   "metadata": {},
   "outputs": [
    {
     "data": {
      "text/plain": [
       "<AxesSubplot:xlabel='hardness', ylabel='mortality'>"
      ]
     },
     "execution_count": 134,
     "metadata": {},
     "output_type": "execute_result"
    },
    {
     "data": {
      "image/png": "[encoded data removed]",
      "text/plain": [
       "<Figure size 432x288 with 1 Axes>"
      ]
     },
     "metadata": {
      "needs_background": "light"
     },
     "output_type": "display_data"
    }
   ],
   "source": [
    "data.plot(kind='scatter', x='hardness', y='mortality')"
   ]
  },
  {
   "cell_type": "code",
   "execution_count": 135,
   "id": "25f9099e",
   "metadata": {},
   "outputs": [
    {
     "data": {
      "text/html": [
       "<div>\n",
       "<style scoped>\n",
       "    .dataframe tbody tr th:only-of-type {\n",
       "        vertical-align: middle;\n",
       "    }\n",
       "\n",
       "    .dataframe tbody tr th {\n",
       "        vertical-align: top;\n",
       "    }\n",
       "\n",
       "    .dataframe thead th {\n",
       "        text-align: right;\n",
       "    }\n",
       "</style>\n",
       "<table border=\"1\" class=\"dataframe\">\n",
       "  <thead>\n",
       "    <tr style=\"text-align: right;\">\n",
       "      <th></th>\n",
       "      <th>hardness</th>\n",
       "      <th>mortality</th>\n",
       "    </tr>\n",
       "  </thead>\n",
       "  <tbody>\n",
       "    <tr>\n",
       "      <th>hardness</th>\n",
       "      <td>1.000000</td>\n",
       "      <td>-0.654849</td>\n",
       "    </tr>\n",
       "    <tr>\n",
       "      <th>mortality</th>\n",
       "      <td>-0.654849</td>\n",
       "      <td>1.000000</td>\n",
       "    </tr>\n",
       "  </tbody>\n",
       "</table>\n",
       "</div>"
      ],
      "text/plain": [
       "           hardness  mortality\n",
       "hardness   1.000000  -0.654849\n",
       "mortality -0.654849   1.000000"
      ]
     },
     "execution_count": 135,
     "metadata": {},
     "output_type": "execute_result"
    }
   ],
   "source": [
    "data[['hardness', 'mortality']].corr()"
   ]
  },
  {
   "cell_type": "code",
   "execution_count": 136,
   "id": "d34ac881",
   "metadata": {},
   "outputs": [
    {
     "data": {
      "text/html": [
       "<div>\n",
       "<style scoped>\n",
       "    .dataframe tbody tr th:only-of-type {\n",
       "        vertical-align: middle;\n",
       "    }\n",
       "\n",
       "    .dataframe tbody tr th {\n",
       "        vertical-align: top;\n",
       "    }\n",
       "\n",
       "    .dataframe thead th {\n",
       "        text-align: right;\n",
       "    }\n",
       "</style>\n",
       "<table border=\"1\" class=\"dataframe\">\n",
       "  <thead>\n",
       "    <tr style=\"text-align: right;\">\n",
       "      <th></th>\n",
       "      <th>hardness</th>\n",
       "      <th>mortality</th>\n",
       "    </tr>\n",
       "  </thead>\n",
       "  <tbody>\n",
       "    <tr>\n",
       "      <th>hardness</th>\n",
       "      <td>1.000000</td>\n",
       "      <td>-0.631665</td>\n",
       "    </tr>\n",
       "    <tr>\n",
       "      <th>mortality</th>\n",
       "      <td>-0.631665</td>\n",
       "      <td>1.000000</td>\n",
       "    </tr>\n",
       "  </tbody>\n",
       "</table>\n",
       "</div>"
      ],
      "text/plain": [
       "           hardness  mortality\n",
       "hardness   1.000000  -0.631665\n",
       "mortality -0.631665   1.000000"
      ]
     },
     "execution_count": 136,
     "metadata": {},
     "output_type": "execute_result"
    }
   ],
   "source": [
    "data[['hardness', 'mortality']].corr(method='spearman')"
   ]
  },
  {
   "cell_type": "code",
   "execution_count": 137,
   "id": "59724e7c",
   "metadata": {},
   "outputs": [],
   "source": [
    "from sklearn.linear_model import LinearRegression\n",
    "from sklearn.model_selection import train_test_split"
   ]
  },
  {
   "cell_type": "code",
   "execution_count": 138,
   "id": "f73df71a",
   "metadata": {},
   "outputs": [],
   "source": [
    "X = data[['hardness']]\n",
    "y = data['mortality']"
   ]
  },
  {
   "cell_type": "code",
   "execution_count": 139,
   "id": "ca7f4310",
   "metadata": {},
   "outputs": [],
   "source": [
    "X_train, X_test, y_train, y_test = train_test_split(X, y, test_size=0.30)"
   ]
  },
  {
   "cell_type": "code",
   "execution_count": 140,
   "id": "0c0eed9c",
   "metadata": {},
   "outputs": [
    {
     "data": {
      "text/plain": [
       "(42, 1)"
      ]
     },
     "execution_count": 140,
     "metadata": {},
     "output_type": "execute_result"
    }
   ],
   "source": [
    "X_train.shape"
   ]
  },
  {
   "cell_type": "code",
   "execution_count": 141,
   "id": "4284f0da",
   "metadata": {},
   "outputs": [
    {
     "data": {
      "text/plain": [
       "(42,)"
      ]
     },
     "execution_count": 141,
     "metadata": {},
     "output_type": "execute_result"
    }
   ],
   "source": [
    "y_train.shape"
   ]
  },
  {
   "cell_type": "code",
   "execution_count": 142,
   "id": "ef0bd95f",
   "metadata": {},
   "outputs": [
    {
     "data": {
      "text/plain": [
       "LinearRegression()"
      ]
     },
     "execution_count": 142,
     "metadata": {},
     "output_type": "execute_result"
    }
   ],
   "source": [
    "model = LinearRegression()\n",
    "model.fit(X_train, y_train)"
   ]
  },
  {
   "cell_type": "code",
   "execution_count": 143,
   "id": "43f2e558",
   "metadata": {},
   "outputs": [
    {
     "data": {
      "text/plain": [
       "array([-3.50616562])"
      ]
     },
     "execution_count": 143,
     "metadata": {},
     "output_type": "execute_result"
    }
   ],
   "source": [
    "model.coef_"
   ]
  },
  {
   "cell_type": "code",
   "execution_count": 144,
   "id": "84a783e5",
   "metadata": {},
   "outputs": [
    {
     "data": {
      "text/plain": [
       "1693.1651163336157"
      ]
     },
     "execution_count": 144,
     "metadata": {},
     "output_type": "execute_result"
    }
   ],
   "source": [
    "model.intercept_"
   ]
  },
  {
   "cell_type": "code",
   "execution_count": 145,
   "id": "3a67fd2c",
   "metadata": {},
   "outputs": [
    {
     "data": {
      "text/plain": [
       "array([1538.89382905, 1265.41291069, 1644.07879765, 1623.04180393,\n",
       "       1444.22735731, 1665.11579137, 1325.01772623, 1619.53563831,\n",
       "       1658.10346013, 1637.06646641, 1493.31367599, 1640.57263203,\n",
       "       1658.10346013, 1647.58496327, 1598.49864459, 1644.07879765,\n",
       "       1602.00481021, 1675.63428823, 1339.04238871])"
      ]
     },
     "execution_count": 145,
     "metadata": {},
     "output_type": "execute_result"
    }
   ],
   "source": [
    "y_pred = model.predict(X_test)\n",
    "y_pred"
   ]
  },
  {
   "cell_type": "code",
   "execution_count": 146,
   "id": "da013e0d",
   "metadata": {},
   "outputs": [
    {
     "data": {
      "text/plain": [
       "0.2983823598635743"
      ]
     },
     "execution_count": 146,
     "metadata": {},
     "output_type": "execute_result"
    }
   ],
   "source": [
    "model.score(X_test, y_test) "
   ]
  },
  {
   "cell_type": "code",
   "execution_count": 175,
   "id": "8ea9ae9b",
   "metadata": {},
   "outputs": [
    {
     "data": {
      "text/plain": [
       "<matplotlib.collections.PathCollection at 0x1ccadce1eb0>"
      ]
     },
     "execution_count": 175,
     "metadata": {},
     "output_type": "execute_result"
    },
    {
     "data": {
      "image/png": "[encoded data removed]",
      "text/plain": [
       "<Figure size 432x288 with 1 Axes>"
      ]
     },
     "metadata": {
      "needs_background": "light"
     },
     "output_type": "display_data"
    }
   ],
   "source": [
    "plt.scatter(X_test, y_test - y_pred)"
   ]
  },
  {
   "cell_type": "code",
   "execution_count": 178,
   "id": "f3ae9847",
   "metadata": {},
   "outputs": [
    {
     "data": {
      "text/plain": [
       "(array([3., 0., 5., 3., 1., 2., 1., 2., 1., 1.]),\n",
       " array([-209.63428823, -161.79359514, -113.95290205,  -66.11220896,\n",
       "         -18.27151587,   29.56917723,   77.40987032,  125.25056341,\n",
       "         173.0912565 ,  220.9319496 ,  268.77264269]),\n",
       " <BarContainer object of 10 artists>)"
      ]
     },
     "execution_count": 178,
     "metadata": {},
     "output_type": "execute_result"
    },
    {
     "data": {
      "image/png": "[encoded data removed]",
      "text/plain": [
       "<Figure size 432x288 with 1 Axes>"
      ]
     },
     "metadata": {
      "needs_background": "light"
     },
     "output_type": "display_data"
    }
   ],
   "source": [
    "plt.hist(y_test - y_pred)"
   ]
  },
  {
   "cell_type": "markdown",
   "id": "656e8ce8",
   "metadata": {},
   "source": [
    "## Задание 2.\n",
    "Ответить на вопрос: сохраняется ли аналогичная зависимость для северных и южных городов по отдельности?"
   ]
  },
  {
   "cell_type": "code",
   "execution_count": 148,
   "id": "78edfcf2",
   "metadata": {},
   "outputs": [],
   "source": [
    "data_north = (data.loc[data.location == 'North'])"
   ]
  },
  {
   "cell_type": "code",
   "execution_count": 149,
   "id": "4f6b833d",
   "metadata": {},
   "outputs": [],
   "source": [
    "data_south = (data.loc[data.location == 'South'])"
   ]
  },
  {
   "cell_type": "code",
   "execution_count": 150,
   "id": "9d7511cb",
   "metadata": {},
   "outputs": [
    {
     "data": {
      "text/plain": [
       "<AxesSubplot:xlabel='hardness', ylabel='mortality'>"
      ]
     },
     "execution_count": 150,
     "metadata": {},
     "output_type": "execute_result"
    },
    {
     "data": {
      "image/png": "[encoded data removed]",
      "text/plain": [
       "<Figure size 432x288 with 1 Axes>"
      ]
     },
     "metadata": {
      "needs_background": "light"
     },
     "output_type": "display_data"
    }
   ],
   "source": [
    "data_north.plot(kind='scatter', x='hardness', y='mortality')"
   ]
  },
  {
   "cell_type": "code",
   "execution_count": 151,
   "id": "d1eb26cd",
   "metadata": {},
   "outputs": [
    {
     "data": {
      "text/plain": [
       "<AxesSubplot:xlabel='hardness', ylabel='mortality'>"
      ]
     },
     "execution_count": 151,
     "metadata": {},
     "output_type": "execute_result"
    },
    {
     "data": {
      "image/png": "[encoded data removed]",
      "text/plain": [
       "<Figure size 432x288 with 1 Axes>"
      ]
     },
     "metadata": {
      "needs_background": "light"
     },
     "output_type": "display_data"
    }
   ],
   "source": [
    "data_south.plot(kind='scatter', x='hardness', y='mortality')"
   ]
  },
  {
   "cell_type": "code",
   "execution_count": 152,
   "id": "b9e69203",
   "metadata": {},
   "outputs": [
    {
     "data": {
      "text/html": [
       "<div>\n",
       "<style scoped>\n",
       "    .dataframe tbody tr th:only-of-type {\n",
       "        vertical-align: middle;\n",
       "    }\n",
       "\n",
       "    .dataframe tbody tr th {\n",
       "        vertical-align: top;\n",
       "    }\n",
       "\n",
       "    .dataframe thead th {\n",
       "        text-align: right;\n",
       "    }\n",
       "</style>\n",
       "<table border=\"1\" class=\"dataframe\">\n",
       "  <thead>\n",
       "    <tr style=\"text-align: right;\">\n",
       "      <th></th>\n",
       "      <th>hardness</th>\n",
       "      <th>mortality</th>\n",
       "    </tr>\n",
       "  </thead>\n",
       "  <tbody>\n",
       "    <tr>\n",
       "      <th>hardness</th>\n",
       "      <td>1.000000</td>\n",
       "      <td>-0.368598</td>\n",
       "    </tr>\n",
       "    <tr>\n",
       "      <th>mortality</th>\n",
       "      <td>-0.368598</td>\n",
       "      <td>1.000000</td>\n",
       "    </tr>\n",
       "  </tbody>\n",
       "</table>\n",
       "</div>"
      ],
      "text/plain": [
       "           hardness  mortality\n",
       "hardness   1.000000  -0.368598\n",
       "mortality -0.368598   1.000000"
      ]
     },
     "execution_count": 152,
     "metadata": {},
     "output_type": "execute_result"
    }
   ],
   "source": [
    "data_north[['hardness', 'mortality']].corr()"
   ]
  },
  {
   "cell_type": "code",
   "execution_count": 153,
   "id": "39a0d62b",
   "metadata": {},
   "outputs": [
    {
     "data": {
      "text/html": [
       "<div>\n",
       "<style scoped>\n",
       "    .dataframe tbody tr th:only-of-type {\n",
       "        vertical-align: middle;\n",
       "    }\n",
       "\n",
       "    .dataframe tbody tr th {\n",
       "        vertical-align: top;\n",
       "    }\n",
       "\n",
       "    .dataframe thead th {\n",
       "        text-align: right;\n",
       "    }\n",
       "</style>\n",
       "<table border=\"1\" class=\"dataframe\">\n",
       "  <thead>\n",
       "    <tr style=\"text-align: right;\">\n",
       "      <th></th>\n",
       "      <th>hardness</th>\n",
       "      <th>mortality</th>\n",
       "    </tr>\n",
       "  </thead>\n",
       "  <tbody>\n",
       "    <tr>\n",
       "      <th>hardness</th>\n",
       "      <td>1.000000</td>\n",
       "      <td>-0.602153</td>\n",
       "    </tr>\n",
       "    <tr>\n",
       "      <th>mortality</th>\n",
       "      <td>-0.602153</td>\n",
       "      <td>1.000000</td>\n",
       "    </tr>\n",
       "  </tbody>\n",
       "</table>\n",
       "</div>"
      ],
      "text/plain": [
       "           hardness  mortality\n",
       "hardness   1.000000  -0.602153\n",
       "mortality -0.602153   1.000000"
      ]
     },
     "execution_count": 153,
     "metadata": {},
     "output_type": "execute_result"
    }
   ],
   "source": [
    "data_south[['hardness', 'mortality']].corr()"
   ]
  },
  {
   "cell_type": "code",
   "execution_count": 154,
   "id": "0b89c9cd",
   "metadata": {},
   "outputs": [
    {
     "data": {
      "text/html": [
       "<div>\n",
       "<style scoped>\n",
       "    .dataframe tbody tr th:only-of-type {\n",
       "        vertical-align: middle;\n",
       "    }\n",
       "\n",
       "    .dataframe tbody tr th {\n",
       "        vertical-align: top;\n",
       "    }\n",
       "\n",
       "    .dataframe thead th {\n",
       "        text-align: right;\n",
       "    }\n",
       "</style>\n",
       "<table border=\"1\" class=\"dataframe\">\n",
       "  <thead>\n",
       "    <tr style=\"text-align: right;\">\n",
       "      <th></th>\n",
       "      <th>hardness</th>\n",
       "      <th>mortality</th>\n",
       "    </tr>\n",
       "  </thead>\n",
       "  <tbody>\n",
       "    <tr>\n",
       "      <th>hardness</th>\n",
       "      <td>1.000000</td>\n",
       "      <td>-0.404208</td>\n",
       "    </tr>\n",
       "    <tr>\n",
       "      <th>mortality</th>\n",
       "      <td>-0.404208</td>\n",
       "      <td>1.000000</td>\n",
       "    </tr>\n",
       "  </tbody>\n",
       "</table>\n",
       "</div>"
      ],
      "text/plain": [
       "           hardness  mortality\n",
       "hardness   1.000000  -0.404208\n",
       "mortality -0.404208   1.000000"
      ]
     },
     "execution_count": 154,
     "metadata": {},
     "output_type": "execute_result"
    }
   ],
   "source": [
    "data_north[['hardness', 'mortality']].corr(method='spearman')"
   ]
  },
  {
   "cell_type": "code",
   "execution_count": 155,
   "id": "d5f879b1",
   "metadata": {},
   "outputs": [
    {
     "data": {
      "text/html": [
       "<div>\n",
       "<style scoped>\n",
       "    .dataframe tbody tr th:only-of-type {\n",
       "        vertical-align: middle;\n",
       "    }\n",
       "\n",
       "    .dataframe tbody tr th {\n",
       "        vertical-align: top;\n",
       "    }\n",
       "\n",
       "    .dataframe thead th {\n",
       "        text-align: right;\n",
       "    }\n",
       "</style>\n",
       "<table border=\"1\" class=\"dataframe\">\n",
       "  <thead>\n",
       "    <tr style=\"text-align: right;\">\n",
       "      <th></th>\n",
       "      <th>hardness</th>\n",
       "      <th>mortality</th>\n",
       "    </tr>\n",
       "  </thead>\n",
       "  <tbody>\n",
       "    <tr>\n",
       "      <th>hardness</th>\n",
       "      <td>1.000000</td>\n",
       "      <td>-0.595723</td>\n",
       "    </tr>\n",
       "    <tr>\n",
       "      <th>mortality</th>\n",
       "      <td>-0.595723</td>\n",
       "      <td>1.000000</td>\n",
       "    </tr>\n",
       "  </tbody>\n",
       "</table>\n",
       "</div>"
      ],
      "text/plain": [
       "           hardness  mortality\n",
       "hardness   1.000000  -0.595723\n",
       "mortality -0.595723   1.000000"
      ]
     },
     "execution_count": 155,
     "metadata": {},
     "output_type": "execute_result"
    }
   ],
   "source": [
    "data_south[['hardness', 'mortality']].corr(method='spearman')"
   ]
  },
  {
   "cell_type": "code",
   "execution_count": 156,
   "id": "beaf0d92",
   "metadata": {},
   "outputs": [],
   "source": [
    "Xn = data_north[['hardness']]\n",
    "yn = data_north['mortality']"
   ]
  },
  {
   "cell_type": "code",
   "execution_count": 157,
   "id": "17858cbb",
   "metadata": {},
   "outputs": [],
   "source": [
    "Xs = data_south[['hardness']]\n",
    "ys = data_south['mortality']"
   ]
  },
  {
   "cell_type": "code",
   "execution_count": 158,
   "id": "bf9d5f46",
   "metadata": {},
   "outputs": [],
   "source": [
    "Xn_train, Xn_test, yn_train, yn_test = train_test_split(Xn, yn, test_size=0.30)\n",
    "Xs_train, Xs_test, ys_train, ys_test = train_test_split(Xs, ys, test_size=0.30)"
   ]
  },
  {
   "cell_type": "code",
   "execution_count": 159,
   "id": "2d18d71f",
   "metadata": {},
   "outputs": [
    {
     "data": {
      "text/plain": [
       "(24, 1)"
      ]
     },
     "execution_count": 159,
     "metadata": {},
     "output_type": "execute_result"
    }
   ],
   "source": [
    "Xn_train.shape"
   ]
  },
  {
   "cell_type": "code",
   "execution_count": 160,
   "id": "1390face",
   "metadata": {},
   "outputs": [
    {
     "data": {
      "text/plain": [
       "(18, 1)"
      ]
     },
     "execution_count": 160,
     "metadata": {},
     "output_type": "execute_result"
    }
   ],
   "source": [
    "Xs_train.shape"
   ]
  },
  {
   "cell_type": "code",
   "execution_count": 161,
   "id": "f0527112",
   "metadata": {},
   "outputs": [
    {
     "data": {
      "text/plain": [
       "(24,)"
      ]
     },
     "execution_count": 161,
     "metadata": {},
     "output_type": "execute_result"
    }
   ],
   "source": [
    "yn_train.shape"
   ]
  },
  {
   "cell_type": "code",
   "execution_count": 162,
   "id": "b70f1cbb",
   "metadata": {},
   "outputs": [
    {
     "data": {
      "text/plain": [
       "(18,)"
      ]
     },
     "execution_count": 162,
     "metadata": {},
     "output_type": "execute_result"
    }
   ],
   "source": [
    "ys_train.shape"
   ]
  },
  {
   "cell_type": "code",
   "execution_count": 163,
   "id": "c9bc676d",
   "metadata": {},
   "outputs": [
    {
     "data": {
      "text/plain": [
       "LinearRegression()"
      ]
     },
     "execution_count": 163,
     "metadata": {},
     "output_type": "execute_result"
    }
   ],
   "source": [
    "model_north = LinearRegression()\n",
    "model_north.fit(Xn_train, yn_train)"
   ]
  },
  {
   "cell_type": "code",
   "execution_count": 164,
   "id": "3270a5e7",
   "metadata": {},
   "outputs": [
    {
     "data": {
      "text/plain": [
       "LinearRegression()"
      ]
     },
     "execution_count": 164,
     "metadata": {},
     "output_type": "execute_result"
    }
   ],
   "source": [
    "model_south = LinearRegression()\n",
    "model_south.fit(Xs_train, ys_train)"
   ]
  },
  {
   "cell_type": "code",
   "execution_count": 165,
   "id": "f1bdbab5",
   "metadata": {},
   "outputs": [
    {
     "data": {
      "text/plain": [
       "array([-2.32983587])"
      ]
     },
     "execution_count": 165,
     "metadata": {},
     "output_type": "execute_result"
    }
   ],
   "source": [
    "model_north.coef_"
   ]
  },
  {
   "cell_type": "code",
   "execution_count": 166,
   "id": "aedd9e9a",
   "metadata": {},
   "outputs": [
    {
     "data": {
      "text/plain": [
       "array([-2.09081213])"
      ]
     },
     "execution_count": 166,
     "metadata": {},
     "output_type": "execute_result"
    }
   ],
   "source": [
    "model_south.coef_"
   ]
  },
  {
   "cell_type": "code",
   "execution_count": 167,
   "id": "21598083",
   "metadata": {},
   "outputs": [
    {
     "data": {
      "text/plain": [
       "1717.980595279309"
      ]
     },
     "execution_count": 167,
     "metadata": {},
     "output_type": "execute_result"
    }
   ],
   "source": [
    "model_north.intercept_"
   ]
  },
  {
   "cell_type": "code",
   "execution_count": 168,
   "id": "bf609c7a",
   "metadata": {},
   "outputs": [
    {
     "data": {
      "text/plain": [
       "1528.830912488708"
      ]
     },
     "execution_count": 168,
     "metadata": {},
     "output_type": "execute_result"
    }
   ],
   "source": [
    "model_south.intercept_"
   ]
  },
  {
   "cell_type": "code",
   "execution_count": 169,
   "id": "f92823c4",
   "metadata": {},
   "outputs": [
    {
     "data": {
      "text/plain": [
       "array([1685.36289313, 1678.37338553, 1694.6822366 , 1552.56224868,\n",
       "       1699.34190834, 1655.07502685, 1505.96553132, 1676.04354966,\n",
       "       1657.40486272, 1552.56224868, 1704.00158007])"
      ]
     },
     "execution_count": 169,
     "metadata": {},
     "output_type": "execute_result"
    }
   ],
   "source": [
    "yn_pred = model_north.predict(Xn_test)\n",
    "yn_pred"
   ]
  },
  {
   "cell_type": "code",
   "execution_count": 170,
   "id": "ae576cf8",
   "metadata": {},
   "outputs": [
    {
     "data": {
      "text/plain": [
       "array([1317.65888732, 1484.92385775, 1499.55954266, 1518.37685184,\n",
       "       1365.74756632, 1501.65035479, 1309.2956388 , 1340.65782076])"
      ]
     },
     "execution_count": 170,
     "metadata": {},
     "output_type": "execute_result"
    }
   ],
   "source": [
    "ys_pred = model_south.predict(Xs_test)\n",
    "ys_pred"
   ]
  },
  {
   "cell_type": "code",
   "execution_count": 171,
   "id": "8ed27e75",
   "metadata": {},
   "outputs": [
    {
     "data": {
      "text/plain": [
       "-0.12335587445789065"
      ]
     },
     "execution_count": 171,
     "metadata": {},
     "output_type": "execute_result"
    }
   ],
   "source": [
    "model_north.score(Xn_test, yn_test) "
   ]
  },
  {
   "cell_type": "code",
   "execution_count": 172,
   "id": "c10e0573",
   "metadata": {},
   "outputs": [
    {
     "data": {
      "text/plain": [
       "0.3949054308935357"
      ]
     },
     "execution_count": 172,
     "metadata": {},
     "output_type": "execute_result"
    }
   ],
   "source": [
    "model_south.score(Xs_test, ys_test) "
   ]
  },
  {
   "cell_type": "code",
   "execution_count": 176,
   "id": "c68f964e",
   "metadata": {},
   "outputs": [
    {
     "data": {
      "text/plain": [
       "<matplotlib.collections.PathCollection at 0x1ccadd3e550>"
      ]
     },
     "execution_count": 176,
     "metadata": {},
     "output_type": "execute_result"
    },
    {
     "data": {
      "image/png": "[encoded data removed]",
      "text/plain": [
       "<Figure size 432x288 with 1 Axes>"
      ]
     },
     "metadata": {
      "needs_background": "light"
     },
     "output_type": "display_data"
    }
   ],
   "source": [
    "plt.scatter(Xn_test, yn_test - yn_pred)"
   ]
  },
  {
   "cell_type": "code",
   "execution_count": 179,
   "id": "bcfab8d5",
   "metadata": {},
   "outputs": [
    {
     "data": {
      "text/plain": [
       "(array([2., 1., 1., 0., 1., 1., 2., 2., 0., 1.]),\n",
       " array([-228.07502685, -189.22374903, -150.37247122, -111.5211934 ,\n",
       "         -72.66991558,  -33.81863776,    5.03264005,   43.88391787,\n",
       "          82.73519569,  121.58647351,  160.43775132]),\n",
       " <BarContainer object of 10 artists>)"
      ]
     },
     "execution_count": 179,
     "metadata": {},
     "output_type": "execute_result"
    },
    {
     "data": {
      "image/png": "[encoded data removed]",
      "text/plain": [
       "<Figure size 432x288 with 1 Axes>"
      ]
     },
     "metadata": {
      "needs_background": "light"
     },
     "output_type": "display_data"
    }
   ],
   "source": [
    "plt.hist(yn_test - yn_pred)"
   ]
  },
  {
   "cell_type": "code",
   "execution_count": 177,
   "id": "cd263c51",
   "metadata": {},
   "outputs": [
    {
     "data": {
      "text/plain": [
       "<matplotlib.collections.PathCollection at 0x1ccadd8ed90>"
      ]
     },
     "execution_count": 177,
     "metadata": {},
     "output_type": "execute_result"
    },
    {
     "data": {
      "image/png": "[encoded data removed]",
      "text/plain": [
       "<Figure size 432x288 with 1 Axes>"
      ]
     },
     "metadata": {
      "needs_background": "light"
     },
     "output_type": "display_data"
    }
   ],
   "source": [
    "plt.scatter(Xs_test, ys_test - ys_pred)"
   ]
  },
  {
   "cell_type": "code",
   "execution_count": 180,
   "id": "8c1a6212",
   "metadata": {},
   "outputs": [
    {
     "data": {
      "text/plain": [
       "(array([1., 0., 0., 0., 4., 0., 0., 0., 1., 2.]),\n",
       " array([-224.92385775, -190.09650746, -155.26915716, -120.44180686,\n",
       "         -85.61445657,  -50.78710627,  -15.95975598,   18.86759432,\n",
       "          53.69494461,   88.52229491,  123.34964521]),\n",
       " <BarContainer object of 10 artists>)"
      ]
     },
     "execution_count": 180,
     "metadata": {},
     "output_type": "execute_result"
    },
    {
     "data": {
      "image/png": "[encoded data removed]",
      "text/plain": [
       "<Figure size 432x288 with 1 Axes>"
      ]
     },
     "metadata": {
      "needs_background": "light"
     },
     "output_type": "display_data"
    }
   ],
   "source": [
    "plt.hist(ys_test - ys_pred)"
   ]
  },
  {
   "cell_type": "code",
   "execution_count": null,
   "id": "1cf57dc1",
   "metadata": {},
   "outputs": [],
   "source": []
  }
 ],
 "metadata": {
  "kernelspec": {
   "display_name": "Python 3",
   "language": "python",
   "name": "python3"
  },
  "language_info": {
   "codemirror_mode": {
    "name": "ipython",
    "version": 3
   },
   "file_extension": ".py",
   "mimetype": "text/x-python",
   "name": "python",
   "nbconvert_exporter": "python",
   "pygments_lexer": "ipython3",
   "version": "3.8.8"
  }
 },
 "nbformat": 4,
 "nbformat_minor": 5
}
