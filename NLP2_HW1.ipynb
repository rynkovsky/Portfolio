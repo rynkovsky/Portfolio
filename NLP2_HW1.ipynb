{
 "cells": [
  {
   "cell_type": "code",
   "execution_count": 1,
   "id": "067b753f",
   "metadata": {},
   "outputs": [],
   "source": [
    "import json\n",
    "\n",
    "import bz2\n",
    "import regex\n",
    "from tqdm import tqdm\n",
    "from scipy import sparse"
   ]
  },
  {
   "cell_type": "code",
   "execution_count": 2,
   "id": "ba9c69b0",
   "metadata": {},
   "outputs": [
    {
     "name": "stdout",
     "output_type": "stream",
     "text": [
      "Populating the interactive namespace from numpy and matplotlib\n"
     ]
    }
   ],
   "source": [
    "import pandas as pd\n",
    "import numpy as np\n",
    "import nltk\n",
    "import matplotlib.pyplot as plt\n",
    "import seaborn as sns\n",
    "%matplotlib inline\n",
    "%pylab inline"
   ]
  },
  {
   "cell_type": "code",
   "execution_count": 3,
   "id": "51bbef50",
   "metadata": {},
   "outputs": [
    {
     "name": "stderr",
     "output_type": "stream",
     "text": [
      "201030it [02:00, 1663.27it/s]\n"
     ]
    }
   ],
   "source": [
    "responses = []\n",
    "with bz2.BZ2File('E:\\\\Python\\\\NLP-2\\\\banki_responses.json.bz2', 'r') as thefile:\n",
    "    for row in tqdm(thefile):\n",
    "        resp = json.loads(row)\n",
    "        if not resp['rating_not_checked'] and (len(resp['text'].split()) > 0):\n",
    "            responses.append(resp)"
   ]
  },
  {
   "cell_type": "code",
   "execution_count": 4,
   "id": "a946db1c",
   "metadata": {},
   "outputs": [
    {
     "data": {
      "text/plain": [
       "{'city': 'г. Москва',\n",
       " 'rating_not_checked': False,\n",
       " 'title': 'Звонки по ночам.',\n",
       " 'num_comments': 0,\n",
       " 'bank_license': 'лицензия № 3279',\n",
       " 'author': 'HAB728',\n",
       " 'bank_name': 'Национальный Банк «Траст»',\n",
       " 'datetime': '2015-06-07 21:37:17',\n",
       " 'text': 'Уважаемый банк и г-жа станецкая, скажите, в какие рамки закона попадают звонки по ночам, в час ночи, в три ночи ...в выходные дни. Скрин не нашла как прицепить. Отправлю заодно в роскомнадзор и цб. \\xa0Приятна забота, но услугу \"разбуди меня\" я не заказывала. Если только с завтраком в номер и на югах. А так не смешно, дамы и господа.',\n",
       " 'rating_grade': None}"
      ]
     },
     "execution_count": 4,
     "metadata": {},
     "output_type": "execute_result"
    }
   ],
   "source": [
    "responses[67]"
   ]
  },
  {
   "cell_type": "markdown",
   "id": "ec2410be",
   "metadata": {},
   "source": [
    "# Часть 1. Анализ текстов"
   ]
  },
  {
   "cell_type": "markdown",
   "id": "948ef1dd",
   "metadata": {},
   "source": [
    "### Посчитайте количество отзывов в разных городах и на разные банки"
   ]
  },
  {
   "cell_type": "code",
   "execution_count": 5,
   "id": "03f641e0",
   "metadata": {},
   "outputs": [],
   "source": [
    "df = pd.DataFrame(responses)"
   ]
  },
  {
   "cell_type": "code",
   "execution_count": 6,
   "id": "159f7162",
   "metadata": {},
   "outputs": [
    {
     "data": {
      "text/html": [
       "<div>\n",
       "<style scoped>\n",
       "    .dataframe tbody tr th:only-of-type {\n",
       "        vertical-align: middle;\n",
       "    }\n",
       "\n",
       "    .dataframe tbody tr th {\n",
       "        vertical-align: top;\n",
       "    }\n",
       "\n",
       "    .dataframe thead th {\n",
       "        text-align: right;\n",
       "    }\n",
       "</style>\n",
       "<table border=\"1\" class=\"dataframe\">\n",
       "  <thead>\n",
       "    <tr style=\"text-align: right;\">\n",
       "      <th></th>\n",
       "      <th>city</th>\n",
       "      <th>rating_not_checked</th>\n",
       "      <th>title</th>\n",
       "      <th>num_comments</th>\n",
       "      <th>bank_license</th>\n",
       "      <th>author</th>\n",
       "      <th>bank_name</th>\n",
       "      <th>datetime</th>\n",
       "      <th>text</th>\n",
       "      <th>rating_grade</th>\n",
       "    </tr>\n",
       "  </thead>\n",
       "  <tbody>\n",
       "    <tr>\n",
       "      <th>0</th>\n",
       "      <td>г. Москва</td>\n",
       "      <td>False</td>\n",
       "      <td>Жалоба</td>\n",
       "      <td>0</td>\n",
       "      <td>лицензия № 2562</td>\n",
       "      <td>uhnov1</td>\n",
       "      <td>Бинбанк</td>\n",
       "      <td>2015-06-08 12:50:54</td>\n",
       "      <td>Добрый день! Я не являюсь клиентом банка и пор...</td>\n",
       "      <td>NaN</td>\n",
       "    </tr>\n",
       "    <tr>\n",
       "      <th>1</th>\n",
       "      <td>г. Новосибирск</td>\n",
       "      <td>False</td>\n",
       "      <td>Не могу пользоваться услугой Сбербанк он-лайн</td>\n",
       "      <td>0</td>\n",
       "      <td>лицензия № 1481</td>\n",
       "      <td>Foryou</td>\n",
       "      <td>Сбербанк России</td>\n",
       "      <td>2015-06-08 11:09:57</td>\n",
       "      <td>Доброго дня! Являюсь держателем зарплатной кар...</td>\n",
       "      <td>NaN</td>\n",
       "    </tr>\n",
       "    <tr>\n",
       "      <th>2</th>\n",
       "      <td>г. Москва</td>\n",
       "      <td>False</td>\n",
       "      <td>Двойное списание за один товар.</td>\n",
       "      <td>1</td>\n",
       "      <td>лицензия № 2562</td>\n",
       "      <td>Vladimir84</td>\n",
       "      <td>Бинбанк</td>\n",
       "      <td>2015-06-05 20:14:28</td>\n",
       "      <td>Здравствуйте!  Дублирую свое заявление от 03.0...</td>\n",
       "      <td>NaN</td>\n",
       "    </tr>\n",
       "    <tr>\n",
       "      <th>3</th>\n",
       "      <td>г. Ставрополь</td>\n",
       "      <td>False</td>\n",
       "      <td>Меняют проценты комиссии  не предупредив и не ...</td>\n",
       "      <td>2</td>\n",
       "      <td>лицензия № 1481</td>\n",
       "      <td>643609</td>\n",
       "      <td>Сбербанк России</td>\n",
       "      <td>2015-06-05 13:51:01</td>\n",
       "      <td>Добрый день!! Я открыл расчетный счет в СберБа...</td>\n",
       "      <td>NaN</td>\n",
       "    </tr>\n",
       "    <tr>\n",
       "      <th>4</th>\n",
       "      <td>г. Челябинск</td>\n",
       "      <td>False</td>\n",
       "      <td>Верните денежные средства за страховку</td>\n",
       "      <td>1</td>\n",
       "      <td>лицензия № 2766</td>\n",
       "      <td>anfisa-2003</td>\n",
       "      <td>ОТП Банк</td>\n",
       "      <td>2015-06-05 10:58:12</td>\n",
       "      <td>04.03.2015 г. взяла кредит в вашем банке, заяв...</td>\n",
       "      <td>NaN</td>\n",
       "    </tr>\n",
       "  </tbody>\n",
       "</table>\n",
       "</div>"
      ],
      "text/plain": [
       "             city  rating_not_checked  \\\n",
       "0       г. Москва               False   \n",
       "1  г. Новосибирск               False   \n",
       "2       г. Москва               False   \n",
       "3   г. Ставрополь               False   \n",
       "4    г. Челябинск               False   \n",
       "\n",
       "                                               title  num_comments  \\\n",
       "0                                             Жалоба             0   \n",
       "1      Не могу пользоваться услугой Сбербанк он-лайн             0   \n",
       "2                    Двойное списание за один товар.             1   \n",
       "3  Меняют проценты комиссии  не предупредив и не ...             2   \n",
       "4             Верните денежные средства за страховку             1   \n",
       "\n",
       "      bank_license       author        bank_name             datetime  \\\n",
       "0  лицензия № 2562       uhnov1          Бинбанк  2015-06-08 12:50:54   \n",
       "1  лицензия № 1481       Foryou  Сбербанк России  2015-06-08 11:09:57   \n",
       "2  лицензия № 2562   Vladimir84          Бинбанк  2015-06-05 20:14:28   \n",
       "3  лицензия № 1481       643609  Сбербанк России  2015-06-05 13:51:01   \n",
       "4  лицензия № 2766  anfisa-2003         ОТП Банк  2015-06-05 10:58:12   \n",
       "\n",
       "                                                text  rating_grade  \n",
       "0  Добрый день! Я не являюсь клиентом банка и пор...           NaN  \n",
       "1  Доброго дня! Являюсь держателем зарплатной кар...           NaN  \n",
       "2  Здравствуйте!  Дублирую свое заявление от 03.0...           NaN  \n",
       "3  Добрый день!! Я открыл расчетный счет в СберБа...           NaN  \n",
       "4  04.03.2015 г. взяла кредит в вашем банке, заяв...           NaN  "
      ]
     },
     "execution_count": 6,
     "metadata": {},
     "output_type": "execute_result"
    }
   ],
   "source": [
    "df.head()"
   ]
  },
  {
   "cell_type": "code",
   "execution_count": 7,
   "id": "8376297e",
   "metadata": {},
   "outputs": [
    {
     "data": {
      "text/plain": [
       "г. Москва                                55354\n",
       "г. Санкт-Петербург                       14342\n",
       "г. Екатеринбург                           2337\n",
       "г. Новосибирск                            2300\n",
       "г. Нижний Новгород                        1976\n",
       "                                         ...  \n",
       "г. Республика Карелия петрозаводск           1\n",
       "г. Москва, Гончарная ул.                     1\n",
       "г. Семилуки, Воронеж                         1\n",
       "г. Самара Чернореченская 42а (Самара)        1\n",
       "г. Непонятно                                 1\n",
       "Name: city, Length: 5823, dtype: int64"
      ]
     },
     "execution_count": 7,
     "metadata": {},
     "output_type": "execute_result"
    }
   ],
   "source": [
    "df['city'].value_counts()"
   ]
  },
  {
   "cell_type": "code",
   "execution_count": 8,
   "id": "638bd48a",
   "metadata": {},
   "outputs": [
    {
     "data": {
      "text/plain": [
       "Сбербанк России     26327\n",
       "Альфа-Банк          10224\n",
       "ВТБ 24               8185\n",
       "Русский Стандарт     7943\n",
       "Хоум Кредит Банк     7549\n",
       "                    ...  \n",
       "Традо-Банк              1\n",
       "УИК-Банк                1\n",
       "Курган                  1\n",
       "Рублевский              1\n",
       "Сибнефтебанк            1\n",
       "Name: bank_name, Length: 670, dtype: int64"
      ]
     },
     "execution_count": 8,
     "metadata": {},
     "output_type": "execute_result"
    }
   ],
   "source": [
    "df['bank_name'].value_counts()"
   ]
  },
  {
   "cell_type": "code",
   "execution_count": 9,
   "id": "b06e1541",
   "metadata": {},
   "outputs": [
    {
     "data": {
      "text/plain": [
       "1.0    47387\n",
       "5.0    14713\n",
       "2.0    13509\n",
       "3.0     9261\n",
       "4.0     3788\n",
       "Name: rating_grade, dtype: int64"
      ]
     },
     "execution_count": 9,
     "metadata": {},
     "output_type": "execute_result"
    }
   ],
   "source": [
    "df['rating_grade'].value_counts()"
   ]
  },
  {
   "cell_type": "markdown",
   "id": "fba255e9",
   "metadata": {},
   "source": [
    "### Постройте гистограмы длин слов в символах и в словах"
   ]
  },
  {
   "cell_type": "code",
   "execution_count": 10,
   "id": "c8286fb3",
   "metadata": {},
   "outputs": [
    {
     "data": {
      "image/png": "[encoded data removed]",
      "text/plain": [
       "<Figure size 576x432 with 1 Axes>"
      ]
     },
     "metadata": {
      "needs_background": "light"
     },
     "output_type": "display_data"
    }
   ],
   "source": [
    "len_c = df.text.apply(len)\n",
    "rcParams['figure.figsize'] = 8, 6\n",
    "len_c[len_c<10000].plot(kind='hist',bins=50)\n",
    "plt.xlabel('Длины отзывов в символах')\n",
    "plt.ylabel('')\n",
    "plt.show()"
   ]
  },
  {
   "cell_type": "code",
   "execution_count": 11,
   "id": "f0909c7b",
   "metadata": {},
   "outputs": [
    {
     "data": {
      "image/png": "[encoded data removed]",
      "text/plain": [
       "<Figure size 576x432 with 1 Axes>"
      ]
     },
     "metadata": {
      "needs_background": "light"
     },
     "output_type": "display_data"
    }
   ],
   "source": [
    "len_t = df.text.str.split().apply(len)\n",
    "rcParams['figure.figsize'] = 8, 6\n",
    "len_t[len_t<2000].plot(kind='hist',bins=50)\n",
    "plt.xlabel('Длины отзывов в словах')\n",
    "plt.ylabel('')\n",
    "plt.show()"
   ]
  },
  {
   "cell_type": "markdown",
   "id": "3c00f89a",
   "metadata": {},
   "source": [
    "### Найдите 10 самых частых:\n",
    "#### слов\n",
    "#### слов без стоп-слов\n",
    "#### лемм\n",
    "#### существительных"
   ]
  },
  {
   "cell_type": "code",
   "execution_count": 12,
   "id": "01fd8999",
   "metadata": {},
   "outputs": [
    {
     "name": "stderr",
     "output_type": "stream",
     "text": [
      "[nltk_data] Downloading package punkt to\n",
      "[nltk_data]     C:\\Users\\SD\\AppData\\Roaming\\nltk_data...\n",
      "[nltk_data]   Package punkt is already up-to-date!\n"
     ]
    },
    {
     "data": {
      "text/plain": [
       "True"
      ]
     },
     "execution_count": 12,
     "metadata": {},
     "output_type": "execute_result"
    }
   ],
   "source": [
    "import nltk\n",
    "nltk.download('punkt')"
   ]
  },
  {
   "cell_type": "code",
   "execution_count": 13,
   "id": "f3d81042",
   "metadata": {},
   "outputs": [],
   "source": [
    "from nltk.tokenize import word_tokenize"
   ]
  },
  {
   "cell_type": "code",
   "execution_count": 14,
   "id": "83ef9cd2",
   "metadata": {},
   "outputs": [
    {
     "name": "stderr",
     "output_type": "stream",
     "text": [
      "[nltk_data] Downloading package stopwords to\n",
      "[nltk_data]     C:\\Users\\SD\\AppData\\Roaming\\nltk_data...\n",
      "[nltk_data]   Package stopwords is already up-to-date!\n"
     ]
    },
    {
     "data": {
      "text/plain": [
       "True"
      ]
     },
     "execution_count": 14,
     "metadata": {},
     "output_type": "execute_result"
    }
   ],
   "source": [
    "nltk.download('stopwords')"
   ]
  },
  {
   "cell_type": "code",
   "execution_count": 15,
   "id": "9e570437",
   "metadata": {},
   "outputs": [
    {
     "name": "stdout",
     "output_type": "stream",
     "text": [
      "['и', 'в', 'во', 'не', 'что', 'он', 'на', 'я', 'с', 'со', 'как', 'а', 'то', 'все', 'она', 'так', 'его', 'но', 'да', 'ты', 'к', 'у', 'же', 'вы', 'за', 'бы', 'по', 'только', 'ее', 'мне', 'было', 'вот', 'от', 'меня', 'еще', 'нет', 'о', 'из', 'ему', 'теперь', 'когда', 'даже', 'ну', 'вдруг', 'ли', 'если', 'уже', 'или', 'ни', 'быть', 'был', 'него', 'до', 'вас', 'нибудь', 'опять', 'уж', 'вам', 'ведь', 'там', 'потом', 'себя', 'ничего', 'ей', 'может', 'они', 'тут', 'где', 'есть', 'надо', 'ней', 'для', 'мы', 'тебя', 'их', 'чем', 'была', 'сам', 'чтоб', 'без', 'будто', 'чего', 'раз', 'тоже', 'себе', 'под', 'будет', 'ж', 'тогда', 'кто', 'этот', 'того', 'потому', 'этого', 'какой', 'совсем', 'ним', 'здесь', 'этом', 'один', 'почти', 'мой', 'тем', 'чтобы', 'нее', 'сейчас', 'были', 'куда', 'зачем', 'всех', 'никогда', 'можно', 'при', 'наконец', 'два', 'об', 'другой', 'хоть', 'после', 'над', 'больше', 'тот', 'через', 'эти', 'нас', 'про', 'всего', 'них', 'какая', 'много', 'разве', 'три', 'эту', 'моя', 'впрочем', 'хорошо', 'свою', 'этой', 'перед', 'иногда', 'лучше', 'чуть', 'том', 'нельзя', 'такой', 'им', 'более', 'всегда', 'конечно', 'всю', 'между']\n"
     ]
    }
   ],
   "source": [
    "from nltk.corpus import stopwords\n",
    "print(stopwords.words('russian'))"
   ]
  },
  {
   "cell_type": "code",
   "execution_count": 16,
   "id": "325a3312",
   "metadata": {},
   "outputs": [],
   "source": [
    "regex = re.compile(\"[А-Яа-я]+\")\n",
    "\n",
    "def words_only(text, regex=regex):\n",
    "    try:\n",
    "        return \" \".join(regex.findall(text))\n",
    "    except:\n",
    "        return \"\""
   ]
  },
  {
   "cell_type": "code",
   "execution_count": 17,
   "id": "399611cf",
   "metadata": {},
   "outputs": [],
   "source": [
    "df['text_tokinized'] =  df.text.str.lower().apply(words_only)"
   ]
  },
  {
   "cell_type": "code",
   "execution_count": 18,
   "id": "26cd60b1",
   "metadata": {},
   "outputs": [
    {
     "name": "stderr",
     "output_type": "stream",
     "text": [
      "<ipython-input-18-bafe643cd23a>:9: TqdmDeprecationWarning: This function will be removed in tqdm==5.0.0\n",
      "Please use `tqdm.notebook.tqdm` instead of `tqdm.tqdm_notebook`\n",
      "  for index, row in tqdm(df.iterrows(), total = len(df)):\n"
     ]
    },
    {
     "data": {
      "application/vnd.jupyter.widget-view+json": {
       "model_id": "6cdd8c902dbb458f87412a37c6105e34",
       "version_major": 2,
       "version_minor": 0
      },
      "text/plain": [
       "  0%|          | 0/153499 [00:00<?, ?it/s]"
      ]
     },
     "metadata": {},
     "output_type": "display_data"
    },
    {
     "name": "stdout",
     "output_type": "stream",
     "text": [
      "('в', 1330550)\n",
      "('и', 1058997)\n",
      "('не', 855335)\n",
      "('на', 707935)\n",
      "('что', 640057)\n",
      "('я', 577500)\n",
      "('с', 464037)\n",
      "('по', 372769)\n",
      "('мне', 320958)\n",
      "('банка', 275906)\n"
     ]
    }
   ],
   "source": [
    "from tqdm import tqdm_notebook as tqdm\n",
    "from collections import Counter\n",
    "\n",
    "cnt = Counter()\n",
    "n_types = []\n",
    "n_tokens = []\n",
    "tokens = []\n",
    "\n",
    "for index, row in tqdm(df.iterrows(), total = len(df)):\n",
    "    tokens = row['text_tokinized'].split()\n",
    "    cnt.update(tokens)\n",
    "    n_types.append(len(cnt))\n",
    "    n_tokens.append(sum(list(cnt.values())))\n",
    "\n",
    "for i in cnt.most_common(10):\n",
    "    print(i)"
   ]
  },
  {
   "cell_type": "markdown",
   "id": "73899f50",
   "metadata": {},
   "source": [
    "## Cлова без стоп-слов"
   ]
  },
  {
   "cell_type": "code",
   "execution_count": 19,
   "id": "5a7bc1ad",
   "metadata": {},
   "outputs": [],
   "source": [
    "from nltk.corpus import stopwords\n",
    "# import nltk\n",
    "# nltk.download('stopwords')\n",
    "\n",
    "mystopwords = stopwords.words('russian') + ['это', 'наш' , 'тыс', 'млн', 'млрд', 'также', 'т', 'д', 'г']\n",
    "def remove_stopwords(text, mystopwords=mystopwords):\n",
    "    try:\n",
    "        return \" \".join([token for token in text.split() if not token in mystopwords])\n",
    "    except:\n",
    "        return \"\""
   ]
  },
  {
   "cell_type": "code",
   "execution_count": 20,
   "id": "23030b84",
   "metadata": {},
   "outputs": [],
   "source": [
    "df['text_tokinized_stop_worlds'] = df.text_tokinized.str.lower().apply(remove_stopwords)\n"
   ]
  },
  {
   "cell_type": "code",
   "execution_count": 21,
   "id": "d073453e",
   "metadata": {},
   "outputs": [
    {
     "data": {
      "text/html": [
       "<div>\n",
       "<style scoped>\n",
       "    .dataframe tbody tr th:only-of-type {\n",
       "        vertical-align: middle;\n",
       "    }\n",
       "\n",
       "    .dataframe tbody tr th {\n",
       "        vertical-align: top;\n",
       "    }\n",
       "\n",
       "    .dataframe thead th {\n",
       "        text-align: right;\n",
       "    }\n",
       "</style>\n",
       "<table border=\"1\" class=\"dataframe\">\n",
       "  <thead>\n",
       "    <tr style=\"text-align: right;\">\n",
       "      <th></th>\n",
       "      <th>city</th>\n",
       "      <th>rating_not_checked</th>\n",
       "      <th>title</th>\n",
       "      <th>num_comments</th>\n",
       "      <th>bank_license</th>\n",
       "      <th>author</th>\n",
       "      <th>bank_name</th>\n",
       "      <th>datetime</th>\n",
       "      <th>text</th>\n",
       "      <th>rating_grade</th>\n",
       "      <th>text_tokinized</th>\n",
       "      <th>text_tokinized_stop_worlds</th>\n",
       "    </tr>\n",
       "  </thead>\n",
       "  <tbody>\n",
       "    <tr>\n",
       "      <th>0</th>\n",
       "      <td>г. Москва</td>\n",
       "      <td>False</td>\n",
       "      <td>Жалоба</td>\n",
       "      <td>0</td>\n",
       "      <td>лицензия № 2562</td>\n",
       "      <td>uhnov1</td>\n",
       "      <td>Бинбанк</td>\n",
       "      <td>2015-06-08 12:50:54</td>\n",
       "      <td>Добрый день! Я не являюсь клиентом банка и пор...</td>\n",
       "      <td>NaN</td>\n",
       "      <td>добрый день я не являюсь клиентом банка и пору...</td>\n",
       "      <td>добрый день являюсь клиентом банка поручителем...</td>\n",
       "    </tr>\n",
       "    <tr>\n",
       "      <th>1</th>\n",
       "      <td>г. Новосибирск</td>\n",
       "      <td>False</td>\n",
       "      <td>Не могу пользоваться услугой Сбербанк он-лайн</td>\n",
       "      <td>0</td>\n",
       "      <td>лицензия № 1481</td>\n",
       "      <td>Foryou</td>\n",
       "      <td>Сбербанк России</td>\n",
       "      <td>2015-06-08 11:09:57</td>\n",
       "      <td>Доброго дня! Являюсь держателем зарплатной кар...</td>\n",
       "      <td>NaN</td>\n",
       "      <td>доброго дня являюсь держателем зарплатной карт...</td>\n",
       "      <td>доброго дня являюсь держателем зарплатной карт...</td>\n",
       "    </tr>\n",
       "    <tr>\n",
       "      <th>2</th>\n",
       "      <td>г. Москва</td>\n",
       "      <td>False</td>\n",
       "      <td>Двойное списание за один товар.</td>\n",
       "      <td>1</td>\n",
       "      <td>лицензия № 2562</td>\n",
       "      <td>Vladimir84</td>\n",
       "      <td>Бинбанк</td>\n",
       "      <td>2015-06-05 20:14:28</td>\n",
       "      <td>Здравствуйте!  Дублирую свое заявление от 03.0...</td>\n",
       "      <td>NaN</td>\n",
       "      <td>здравствуйте дублирую свое заявление от в до м...</td>\n",
       "      <td>здравствуйте дублирую свое заявление можайский...</td>\n",
       "    </tr>\n",
       "  </tbody>\n",
       "</table>\n",
       "</div>"
      ],
      "text/plain": [
       "             city  rating_not_checked  \\\n",
       "0       г. Москва               False   \n",
       "1  г. Новосибирск               False   \n",
       "2       г. Москва               False   \n",
       "\n",
       "                                           title  num_comments  \\\n",
       "0                                         Жалоба             0   \n",
       "1  Не могу пользоваться услугой Сбербанк он-лайн             0   \n",
       "2                Двойное списание за один товар.             1   \n",
       "\n",
       "      bank_license      author        bank_name             datetime  \\\n",
       "0  лицензия № 2562      uhnov1          Бинбанк  2015-06-08 12:50:54   \n",
       "1  лицензия № 1481      Foryou  Сбербанк России  2015-06-08 11:09:57   \n",
       "2  лицензия № 2562  Vladimir84          Бинбанк  2015-06-05 20:14:28   \n",
       "\n",
       "                                                text  rating_grade  \\\n",
       "0  Добрый день! Я не являюсь клиентом банка и пор...           NaN   \n",
       "1  Доброго дня! Являюсь держателем зарплатной кар...           NaN   \n",
       "2  Здравствуйте!  Дублирую свое заявление от 03.0...           NaN   \n",
       "\n",
       "                                      text_tokinized  \\\n",
       "0  добрый день я не являюсь клиентом банка и пору...   \n",
       "1  доброго дня являюсь держателем зарплатной карт...   \n",
       "2  здравствуйте дублирую свое заявление от в до м...   \n",
       "\n",
       "                          text_tokinized_stop_worlds  \n",
       "0  добрый день являюсь клиентом банка поручителем...  \n",
       "1  доброго дня являюсь держателем зарплатной карт...  \n",
       "2  здравствуйте дублирую свое заявление можайский...  "
      ]
     },
     "execution_count": 21,
     "metadata": {},
     "output_type": "execute_result"
    }
   ],
   "source": [
    "df.head(3)"
   ]
  },
  {
   "cell_type": "code",
   "execution_count": 22,
   "id": "435c643c",
   "metadata": {},
   "outputs": [
    {
     "name": "stderr",
     "output_type": "stream",
     "text": [
      "<ipython-input-22-5e7bdfedadc5>:7: TqdmDeprecationWarning: This function will be removed in tqdm==5.0.0\n",
      "Please use `tqdm.notebook.tqdm` instead of `tqdm.tqdm_notebook`\n",
      "  for index, row in tqdm(df.iterrows(), total = len(df)):\n"
     ]
    },
    {
     "data": {
      "application/vnd.jupyter.widget-view+json": {
       "model_id": "99416d735e7744ceb58b00b05c9c6e25",
       "version_major": 2,
       "version_minor": 0
      },
      "text/plain": [
       "  0%|          | 0/153499 [00:00<?, ?it/s]"
      ]
     },
     "metadata": {},
     "output_type": "display_data"
    },
    {
     "name": "stdout",
     "output_type": "stream",
     "text": [
      "('банка', 275906)\n",
      "('банк', 215426)\n",
      "('деньги', 131201)\n",
      "('карту', 105829)\n",
      "('карты', 101821)\n",
      "('кредит', 81136)\n",
      "('день', 76552)\n",
      "('банке', 72169)\n",
      "('заявление', 70423)\n",
      "('очень', 66824)\n"
     ]
    }
   ],
   "source": [
    "cnt = Counter()\n",
    "n_types = []\n",
    "n_tokens = []\n",
    "tokens = []\n",
    "tokens_all=[]\n",
    "\n",
    "for index, row in tqdm(df.iterrows(), total = len(df)):\n",
    "    tokens = row['text_tokinized_stop_worlds'].split()\n",
    "    tokens_all+=tokens\n",
    "    cnt.update(tokens)\n",
    "    n_types.append(len(cnt))\n",
    "    n_tokens.append(sum(cnt.values()))\n",
    "    \n",
    "for i in cnt.most_common(10):\n",
    "    print(i)"
   ]
  },
  {
   "cell_type": "markdown",
   "id": "6d5b2606",
   "metadata": {},
   "source": [
    "## Леммы\n"
   ]
  },
  {
   "cell_type": "code",
   "execution_count": 31,
   "id": "18f154ba",
   "metadata": {},
   "outputs": [],
   "source": [
    "from pymorphy2 import MorphAnalyzer\n",
    "from pymystem3 import Mystem"
   ]
  },
  {
   "cell_type": "code",
   "execution_count": 32,
   "id": "33e85b34",
   "metadata": {},
   "outputs": [],
   "source": [
    "m = Mystem()\n",
    "\n",
    "def lemmatize(text, mystem=m):\n",
    "    try:\n",
    "        return \"\".join(m.lemmatize(text)).strip()  \n",
    "    except:\n",
    "        return \" \""
   ]
  },
  {
   "cell_type": "code",
   "execution_count": 33,
   "id": "07405182",
   "metadata": {},
   "outputs": [],
   "source": [
    "mystoplemmas = stopwords.words('russian') + ['который','прошлый','сей', 'свой', 'наш', 'мочь', 'г']\n",
    "\n",
    "def remove_stoplemmas(text, mystoplemmas=mystoplemmas):\n",
    "    try:\n",
    "        return \" \".join([token for token in text.split() if not token in mystoplemmas])\n",
    "    except:\n",
    "        return \"\""
   ]
  },
  {
   "cell_type": "code",
   "execution_count": 34,
   "id": "bf89f706",
   "metadata": {},
   "outputs": [],
   "source": [
    "df['lemma'] = df['text_tokinized_stop_worlds'].apply(lemmatize)"
   ]
  },
  {
   "cell_type": "code",
   "execution_count": 35,
   "id": "04acf09b",
   "metadata": {},
   "outputs": [
    {
     "data": {
      "text/html": [
       "<div>\n",
       "<style scoped>\n",
       "    .dataframe tbody tr th:only-of-type {\n",
       "        vertical-align: middle;\n",
       "    }\n",
       "\n",
       "    .dataframe tbody tr th {\n",
       "        vertical-align: top;\n",
       "    }\n",
       "\n",
       "    .dataframe thead th {\n",
       "        text-align: right;\n",
       "    }\n",
       "</style>\n",
       "<table border=\"1\" class=\"dataframe\">\n",
       "  <thead>\n",
       "    <tr style=\"text-align: right;\">\n",
       "      <th></th>\n",
       "      <th>city</th>\n",
       "      <th>rating_not_checked</th>\n",
       "      <th>title</th>\n",
       "      <th>num_comments</th>\n",
       "      <th>bank_license</th>\n",
       "      <th>author</th>\n",
       "      <th>bank_name</th>\n",
       "      <th>datetime</th>\n",
       "      <th>text</th>\n",
       "      <th>rating_grade</th>\n",
       "      <th>text_tokinized</th>\n",
       "      <th>text_tokinized_stop_worlds</th>\n",
       "      <th>lemma</th>\n",
       "    </tr>\n",
       "  </thead>\n",
       "  <tbody>\n",
       "    <tr>\n",
       "      <th>0</th>\n",
       "      <td>г. Москва</td>\n",
       "      <td>False</td>\n",
       "      <td>Жалоба</td>\n",
       "      <td>0</td>\n",
       "      <td>лицензия № 2562</td>\n",
       "      <td>uhnov1</td>\n",
       "      <td>Бинбанк</td>\n",
       "      <td>2015-06-08 12:50:54</td>\n",
       "      <td>Добрый день! Я не являюсь клиентом банка и пор...</td>\n",
       "      <td>NaN</td>\n",
       "      <td>добрый день я не являюсь клиентом банка и пору...</td>\n",
       "      <td>добрый день являюсь клиентом банка поручителем...</td>\n",
       "      <td>добрый день являться клиент банк поручитель кр...</td>\n",
       "    </tr>\n",
       "    <tr>\n",
       "      <th>1</th>\n",
       "      <td>г. Новосибирск</td>\n",
       "      <td>False</td>\n",
       "      <td>Не могу пользоваться услугой Сбербанк он-лайн</td>\n",
       "      <td>0</td>\n",
       "      <td>лицензия № 1481</td>\n",
       "      <td>Foryou</td>\n",
       "      <td>Сбербанк России</td>\n",
       "      <td>2015-06-08 11:09:57</td>\n",
       "      <td>Доброго дня! Являюсь держателем зарплатной кар...</td>\n",
       "      <td>NaN</td>\n",
       "      <td>доброго дня являюсь держателем зарплатной карт...</td>\n",
       "      <td>доброго дня являюсь держателем зарплатной карт...</td>\n",
       "      <td>добрый день являться держатель зарплатной карт...</td>\n",
       "    </tr>\n",
       "    <tr>\n",
       "      <th>2</th>\n",
       "      <td>г. Москва</td>\n",
       "      <td>False</td>\n",
       "      <td>Двойное списание за один товар.</td>\n",
       "      <td>1</td>\n",
       "      <td>лицензия № 2562</td>\n",
       "      <td>Vladimir84</td>\n",
       "      <td>Бинбанк</td>\n",
       "      <td>2015-06-05 20:14:28</td>\n",
       "      <td>Здравствуйте!  Дублирую свое заявление от 03.0...</td>\n",
       "      <td>NaN</td>\n",
       "      <td>здравствуйте дублирую свое заявление от в до м...</td>\n",
       "      <td>здравствуйте дублирую свое заявление можайский...</td>\n",
       "      <td>здравствовать дублировать свой заявление можай...</td>\n",
       "    </tr>\n",
       "  </tbody>\n",
       "</table>\n",
       "</div>"
      ],
      "text/plain": [
       "             city  rating_not_checked  \\\n",
       "0       г. Москва               False   \n",
       "1  г. Новосибирск               False   \n",
       "2       г. Москва               False   \n",
       "\n",
       "                                           title  num_comments  \\\n",
       "0                                         Жалоба             0   \n",
       "1  Не могу пользоваться услугой Сбербанк он-лайн             0   \n",
       "2                Двойное списание за один товар.             1   \n",
       "\n",
       "      bank_license      author        bank_name             datetime  \\\n",
       "0  лицензия № 2562      uhnov1          Бинбанк  2015-06-08 12:50:54   \n",
       "1  лицензия № 1481      Foryou  Сбербанк России  2015-06-08 11:09:57   \n",
       "2  лицензия № 2562  Vladimir84          Бинбанк  2015-06-05 20:14:28   \n",
       "\n",
       "                                                text  rating_grade  \\\n",
       "0  Добрый день! Я не являюсь клиентом банка и пор...           NaN   \n",
       "1  Доброго дня! Являюсь держателем зарплатной кар...           NaN   \n",
       "2  Здравствуйте!  Дублирую свое заявление от 03.0...           NaN   \n",
       "\n",
       "                                      text_tokinized  \\\n",
       "0  добрый день я не являюсь клиентом банка и пору...   \n",
       "1  доброго дня являюсь держателем зарплатной карт...   \n",
       "2  здравствуйте дублирую свое заявление от в до м...   \n",
       "\n",
       "                          text_tokinized_stop_worlds  \\\n",
       "0  добрый день являюсь клиентом банка поручителем...   \n",
       "1  доброго дня являюсь держателем зарплатной карт...   \n",
       "2  здравствуйте дублирую свое заявление можайский...   \n",
       "\n",
       "                                               lemma  \n",
       "0  добрый день являться клиент банк поручитель кр...  \n",
       "1  добрый день являться держатель зарплатной карт...  \n",
       "2  здравствовать дублировать свой заявление можай...  "
      ]
     },
     "execution_count": 35,
     "metadata": {},
     "output_type": "execute_result"
    }
   ],
   "source": [
    "df.head(3)"
   ]
  },
  {
   "cell_type": "code",
   "execution_count": 37,
   "id": "429bfe31",
   "metadata": {},
   "outputs": [
    {
     "name": "stderr",
     "output_type": "stream",
     "text": [
      "<ipython-input-37-d63bfb088876>:7: TqdmDeprecationWarning: This function will be removed in tqdm==5.0.0\n",
      "Please use `tqdm.notebook.tqdm` instead of `tqdm.tqdm_notebook`\n",
      "  for index, row in tqdm(df.iterrows(), total = len(df)):\n"
     ]
    },
    {
     "data": {
      "application/vnd.jupyter.widget-view+json": {
       "model_id": "4874f4af0b7c4e4c87a114fde673d256",
       "version_major": 2,
       "version_minor": 0
      },
      "text/plain": [
       "  0%|          | 0/153499 [00:00<?, ?it/s]"
      ]
     },
     "metadata": {},
     "output_type": "display_data"
    },
    {
     "name": "stdout",
     "output_type": "stream",
     "text": [
      "('банк', 229140)\n",
      "('карта', 108102)\n",
      "('мой', 61840)\n",
      "('день', 61816)\n",
      "('деньги', 59356)\n",
      "('кредит', 57684)\n",
      "('который', 53977)\n",
      "('сотрудник', 53725)\n",
      "('клиент', 48068)\n",
      "('отделение', 47088)\n"
     ]
    }
   ],
   "source": [
    "cnt = Counter()\n",
    "n_types = []\n",
    "n_tokens = []\n",
    "tokens = []\n",
    "tokens_all=[]\n",
    "\n",
    "for index, row in tqdm(df.iterrows(), total = len(df)):\n",
    "    tokens = row['lemma'].split()\n",
    "    cnt.update(tokens)\n",
    "    n_types.append(len(cnt))\n",
    "    tokens_all+=tokens\n",
    "    n_tokens.append(sum(cnt.values()))\n",
    "    \n",
    "for i in cnt.most_common(10):\n",
    "    print(i)"
   ]
  },
  {
   "cell_type": "markdown",
   "id": "b113dfb3",
   "metadata": {},
   "source": [
    "## Существительные\n"
   ]
  },
  {
   "cell_type": "code",
   "execution_count": 32,
   "id": "7d538920",
   "metadata": {},
   "outputs": [
    {
     "data": {
      "text/plain": [
       "'день держатель карта сбербанк россия год фамилия банк документ копия паспорт свидетельство брак карта фамилия муж токарева мария александровна секлетина необходимость услуга сбербанк страница карта специалист отделение сбербанк база банк фамилия секлетина скан документ контакт звонок ч время ситуация база секлетина карта фамилия токарева связь истечение срок обслуживание документ копия паспорт свидетельство брак результат ноль ситуация уважение токарев мария александровна'"
      ]
     },
     "execution_count": 32,
     "metadata": {},
     "output_type": "execute_result"
    }
   ],
   "source": [
    "def to_nouns(text, mystem=m):\n",
    "    m=MorphAnalyzer()\n",
    "    try:\n",
    "        return \" \".join([noun for noun in text.split() if m.parse(noun)[0].tag.POS =='NOUN'])\n",
    "    except:\n",
    "        return []\n",
    "\n",
    "to_nouns(df.lemma.iloc[1])"
   ]
  },
  {
   "cell_type": "code",
   "execution_count": null,
   "id": "5f8e937d",
   "metadata": {},
   "outputs": [],
   "source": [
    "from multiprocessing import Pool\n",
    "\n",
    "with Pool() as p:\n",
    "    df['nouns']=p.map(to_nouns,df.lemma)"
   ]
  },
  {
   "cell_type": "code",
   "execution_count": null,
   "id": "021a5511",
   "metadata": {},
   "outputs": [],
   "source": [
    "cnt_noun = Counter()\n",
    "n_types_noun = []\n",
    "n_tokens_noun= []\n",
    "tokens_noun = []\n",
    "tokens_all_noun=[]\n",
    "\n",
    "for index, row in tqdm(df.iterrows(), total = len(df)):\n",
    "    tokens = row['nouns'].split()\n",
    "    cnt_noun.update(tokens)\n",
    "    n_types_noun.append(len(cnt))\n",
    "    tokens_all_noun+=tokens\n",
    "    n_tokens_noun.append(sum(cnt.values()))\n",
    "\n",
    "for i in cnt_noun.most_common(10):\n",
    "    print(i"
   ]
  },
  {
   "cell_type": "markdown",
   "id": "93e8028f",
   "metadata": {},
   "source": [
    "## 4. Постройте кривую Ципфа\n"
   ]
  },
  {
   "cell_type": "code",
   "execution_count": 23,
   "id": "a76fe1d3",
   "metadata": {},
   "outputs": [
    {
     "data": {
      "image/png": "[encoded data removed]",
      "text/plain": [
       "<Figure size 864x288 with 1 Axes>"
      ]
     },
     "metadata": {
      "needs_background": "light"
     },
     "output_type": "display_data"
    }
   ],
   "source": [
    "freqs = list(cnt.values())\n",
    "freqs = sorted(freqs, reverse = True)\n",
    "\n",
    "fig, ax = plt.subplots(figsize=(12,4))\n",
    "ax.plot(freqs[:300], range(300))\n",
    "plt.xlabel('Номер слова')\n",
    "plt.ylabel('Частота слова')\n",
    "plt.title('Кривая Ципфа')\n",
    "plt.show()"
   ]
  },
  {
   "cell_type": "code",
   "execution_count": null,
   "id": "2ca15dc7",
   "metadata": {},
   "outputs": [],
   "source": [
    "fig, ax = plt.subplots(figsize=(12,4))\n",
    "ax.plot(n_tokens,n_types)\n",
    "plt.xlabel('Количество  токенов')\n",
    "plt.ylabel('Число слов')\n",
    "plt.title('Кривая Хипса')\n",
    "plt.show()"
   ]
  },
  {
   "cell_type": "markdown",
   "id": "4fc4ce8b",
   "metadata": {},
   "source": [
    "## 5. Ответьте на следующие вопросы:\n",
    "какое слово встречается чаще, \"сотрудник\" или \"клиент\"?\n",
    "сколько раз встречается слова \"мошенничество\" и \"доверие\"?"
   ]
  },
  {
   "cell_type": "code",
   "execution_count": 39,
   "id": "85dd88c8",
   "metadata": {},
   "outputs": [],
   "source": [
    "from nltk import FreqDist\n",
    "Freq_Dist = FreqDist(tokens_all)"
   ]
  },
  {
   "cell_type": "code",
   "execution_count": 40,
   "id": "f83bd07d",
   "metadata": {},
   "outputs": [
    {
     "name": "stdout",
     "output_type": "stream",
     "text": [
      "Слово \"сотрудник\" встречается -\" 53725 раз\n",
      "Слово \"клиент\" встречается -\" 48068 раз\n"
     ]
    }
   ],
   "source": [
    "print('Слово \"сотрудник\" встречается -\"',Freq_Dist['сотрудник'],'раз')\n",
    "print('Слово \"клиент\" встречается -\"',Freq_Dist['клиент'],'раз')"
   ]
  },
  {
   "cell_type": "code",
   "execution_count": 41,
   "id": "fe860051",
   "metadata": {},
   "outputs": [
    {
     "name": "stdout",
     "output_type": "stream",
     "text": [
      "Слово \"мошенничество\" встречается -\" 1225 раз\n",
      "Слово \"доверие\" встречается -\" 767 раз\n"
     ]
    }
   ],
   "source": [
    "print('Слово \"мошенничество\" встречается -\"',Freq_Dist['мошенничество'],'раз')\n",
    "print('Слово \"доверие\" встречается -\"',Freq_Dist['доверие'],'раз')"
   ]
  },
  {
   "cell_type": "markdown",
   "id": "43086cc8",
   "metadata": {},
   "source": [
    "### 6. В поле \"rating_grade\" записана оценка отзыва по шкале от 1 до 5. Используйте меру 𝑡𝑓−𝑖𝑑𝑓 , для того, чтобы найти ключевые слова и биграмы для положительных отзывов (с оценкой 5) и отрицательных отзывов (с оценкой 1)"
   ]
  },
  {
   "cell_type": "code",
   "execution_count": 42,
   "id": "bed6b066",
   "metadata": {},
   "outputs": [
    {
     "data": {
      "text/plain": [
       "1.0    47387\n",
       "5.0    14713\n",
       "2.0    13509\n",
       "3.0     9261\n",
       "4.0     3788\n",
       "Name: rating_grade, dtype: int64"
      ]
     },
     "execution_count": 42,
     "metadata": {},
     "output_type": "execute_result"
    }
   ],
   "source": [
    "df['rating_grade'].value_counts()"
   ]
  },
  {
   "cell_type": "code",
   "execution_count": 43,
   "id": "0a5a6a44",
   "metadata": {},
   "outputs": [
    {
     "data": {
      "text/plain": [
       "5.0    10000\n",
       "1.0    10000\n",
       "Name: rating_grade, dtype: int64"
      ]
     },
     "execution_count": 43,
     "metadata": {},
     "output_type": "execute_result"
    }
   ],
   "source": [
    "num=10000\n",
    "\n",
    "df_sample = df[(df.rating_grade==1)].sample(n=num).copy()\n",
    "df_sample = df_sample.append(df[(df.rating_grade==5)].sample(n=num))\n",
    "\n",
    "df_sample.rating_grade.value_counts()"
   ]
  },
  {
   "cell_type": "code",
   "execution_count": 44,
   "id": "03937f71",
   "metadata": {},
   "outputs": [],
   "source": [
    "tokens_by_topic = []\n",
    "\n",
    "for rating in df_sample.rating_grade.unique():\n",
    "    tokens=[]\n",
    "    sample=df_sample[df_sample['rating_grade']==rating]\n",
    "    \n",
    "    for i in range(len(sample)):\n",
    "        tokens += sample.lemma.iloc[i].split()\n",
    "        \n",
    "    tokens_by_topic.append(tokens)"
   ]
  },
  {
   "cell_type": "code",
   "execution_count": 45,
   "id": "d8bb8c8e",
   "metadata": {},
   "outputs": [
    {
     "data": {
      "text/html": [
       "<div>\n",
       "<style scoped>\n",
       "    .dataframe tbody tr th:only-of-type {\n",
       "        vertical-align: middle;\n",
       "    }\n",
       "\n",
       "    .dataframe tbody tr th {\n",
       "        vertical-align: top;\n",
       "    }\n",
       "\n",
       "    .dataframe thead th {\n",
       "        text-align: right;\n",
       "    }\n",
       "</style>\n",
       "<table border=\"1\" class=\"dataframe\">\n",
       "  <thead>\n",
       "    <tr style=\"text-align: right;\">\n",
       "      <th></th>\n",
       "      <th>city</th>\n",
       "      <th>rating_not_checked</th>\n",
       "      <th>title</th>\n",
       "      <th>num_comments</th>\n",
       "      <th>bank_license</th>\n",
       "      <th>author</th>\n",
       "      <th>bank_name</th>\n",
       "      <th>datetime</th>\n",
       "      <th>text</th>\n",
       "      <th>rating_grade</th>\n",
       "      <th>text_tokinized</th>\n",
       "      <th>text_tokinized_stop_worlds</th>\n",
       "      <th>lemma</th>\n",
       "    </tr>\n",
       "  </thead>\n",
       "  <tbody>\n",
       "    <tr>\n",
       "      <th>16358</th>\n",
       "      <td>г. Орел</td>\n",
       "      <td>False</td>\n",
       "      <td>Получение перевода за 800 рублей</td>\n",
       "      <td>0</td>\n",
       "      <td>лицензия № 2412</td>\n",
       "      <td>gater91</td>\n",
       "      <td>Пробизнесбанк</td>\n",
       "      <td>2015-01-25 11:38:00</td>\n",
       "      <td>Мне выслали денежный перевод по Золотой Короне...</td>\n",
       "      <td>1.0</td>\n",
       "      <td>мне выслали денежный перевод по золотой короне...</td>\n",
       "      <td>выслали денежный перевод золотой короне посмот...</td>\n",
       "      <td>высылать денежный перевод золотой корона посмо...</td>\n",
       "    </tr>\n",
       "    <tr>\n",
       "      <th>38608</th>\n",
       "      <td>г. Москва</td>\n",
       "      <td>False</td>\n",
       "      <td>\"Ваш звонок очень важен для нас\"</td>\n",
       "      <td>1</td>\n",
       "      <td>лицензия № 2272</td>\n",
       "      <td>damirsalihov</td>\n",
       "      <td>Росбанк</td>\n",
       "      <td>2014-08-05 14:06:00</td>\n",
       "      <td>В недалеком 2011 году ещё до окончательного сл...</td>\n",
       "      <td>1.0</td>\n",
       "      <td>в недалеком году ещ до окончательного слияния ...</td>\n",
       "      <td>недалеком году ещ окончательного слияния росба...</td>\n",
       "      <td>недалекий год ещ окончательный слияние росбанк...</td>\n",
       "    </tr>\n",
       "    <tr>\n",
       "      <th>46859</th>\n",
       "      <td>г. Москва</td>\n",
       "      <td>False</td>\n",
       "      <td>Неделю не могут открыть счёт!</td>\n",
       "      <td>3</td>\n",
       "      <td>лицензия № 1</td>\n",
       "      <td>jazzy</td>\n",
       "      <td>ЮниКредит Банк</td>\n",
       "      <td>2014-05-21 17:51:00</td>\n",
       "      <td>Я являюсь клиентом банка, как частное лицо, уж...</td>\n",
       "      <td>1.0</td>\n",
       "      <td>я являюсь клиентом банка как частное лицо уже ...</td>\n",
       "      <td>являюсь клиентом банка частное лицо лет раньше...</td>\n",
       "      <td>являться клиент банк частный лицо год рано ник...</td>\n",
       "    </tr>\n",
       "  </tbody>\n",
       "</table>\n",
       "</div>"
      ],
      "text/plain": [
       "            city  rating_not_checked                             title  \\\n",
       "16358    г. Орел               False  Получение перевода за 800 рублей   \n",
       "38608  г. Москва               False  \"Ваш звонок очень важен для нас\"   \n",
       "46859  г. Москва               False     Неделю не могут открыть счёт!   \n",
       "\n",
       "       num_comments     bank_license        author       bank_name  \\\n",
       "16358             0  лицензия № 2412       gater91   Пробизнесбанк   \n",
       "38608             1  лицензия № 2272  damirsalihov         Росбанк   \n",
       "46859             3     лицензия № 1         jazzy  ЮниКредит Банк   \n",
       "\n",
       "                  datetime                                               text  \\\n",
       "16358  2015-01-25 11:38:00  Мне выслали денежный перевод по Золотой Короне...   \n",
       "38608  2014-08-05 14:06:00  В недалеком 2011 году ещё до окончательного сл...   \n",
       "46859  2014-05-21 17:51:00  Я являюсь клиентом банка, как частное лицо, уж...   \n",
       "\n",
       "       rating_grade                                     text_tokinized  \\\n",
       "16358           1.0  мне выслали денежный перевод по золотой короне...   \n",
       "38608           1.0  в недалеком году ещ до окончательного слияния ...   \n",
       "46859           1.0  я являюсь клиентом банка как частное лицо уже ...   \n",
       "\n",
       "                              text_tokinized_stop_worlds  \\\n",
       "16358  выслали денежный перевод золотой короне посмот...   \n",
       "38608  недалеком году ещ окончательного слияния росба...   \n",
       "46859  являюсь клиентом банка частное лицо лет раньше...   \n",
       "\n",
       "                                                   lemma  \n",
       "16358  высылать денежный перевод золотой корона посмо...  \n",
       "38608  недалекий год ещ окончательный слияние росбанк...  \n",
       "46859  являться клиент банк частный лицо год рано ник...  "
      ]
     },
     "execution_count": 45,
     "metadata": {},
     "output_type": "execute_result"
    }
   ],
   "source": [
    "df_sample.head(3)"
   ]
  },
  {
   "cell_type": "markdown",
   "id": "44dc956e",
   "metadata": {},
   "source": [
    "### Униграммы"
   ]
  },
  {
   "cell_type": "code",
   "execution_count": 46,
   "id": "97beb0bf",
   "metadata": {},
   "outputs": [],
   "source": [
    "from sklearn.feature_extraction.text import TfidfVectorizer\n",
    "import numpy as np\n",
    "\n",
    "tfidf = TfidfVectorizer(analyzer='word', ngram_range=(1,1), min_df = 0)\n",
    "tfidf_matrix =  tfidf.fit_transform([' '.join(tokens) for tokens in tokens_by_topic])\n",
    "feature_names = tfidf.get_feature_names() \n",
    "tfidf_ranking_5 = []\n",
    "tfidf_ranking_1 = []\n",
    "dense = tfidf_matrix.todense()\n",
    "\n",
    "text = dense[1].tolist()[0]\n",
    "phrase_scores = [pair for pair in zip(range(0, len(text)), text) if pair[1] > 0]\n",
    "sorted_phrase_scores = sorted(phrase_scores, key=lambda t: t[1] * -1)\n",
    "phrases = []\n",
    "\n",
    "for phrase, score in [(feature_names[word_id], score) for (word_id, score) in sorted_phrase_scores][:70]:\n",
    "    tfidf_ranking_5.append(phrase)\n",
    "    \n",
    "text = dense[0].tolist()[0]\n",
    "phrase_scores = [pair for pair in zip(range(0, len(text)), text) if pair[1] > 0]\n",
    "sorted_phrase_scores = sorted(phrase_scores, key=lambda t: t[1] * -1)\n",
    "phrases = []\n",
    "\n",
    "for phrase, score in [(feature_names[word_id], score) for (word_id, score) in sorted_phrase_scores][:70]:\n",
    "    tfidf_ranking_1.append(phrase)"
   ]
  },
  {
   "cell_type": "code",
   "execution_count": 47,
   "id": "8d85e29f",
   "metadata": {},
   "outputs": [
    {
     "data": {
      "text/html": [
       "<div>\n",
       "<style scoped>\n",
       "    .dataframe tbody tr th:only-of-type {\n",
       "        vertical-align: middle;\n",
       "    }\n",
       "\n",
       "    .dataframe tbody tr th {\n",
       "        vertical-align: top;\n",
       "    }\n",
       "\n",
       "    .dataframe thead th {\n",
       "        text-align: right;\n",
       "    }\n",
       "</style>\n",
       "<table border=\"1\" class=\"dataframe\">\n",
       "  <thead>\n",
       "    <tr style=\"text-align: right;\">\n",
       "      <th></th>\n",
       "      <th>tfidf_ranking_5</th>\n",
       "      <th>tfidf_ranking_1</th>\n",
       "    </tr>\n",
       "  </thead>\n",
       "  <tbody>\n",
       "    <tr>\n",
       "      <th>0</th>\n",
       "      <td>банк</td>\n",
       "      <td>банк</td>\n",
       "    </tr>\n",
       "    <tr>\n",
       "      <th>1</th>\n",
       "      <td>карта</td>\n",
       "      <td>карта</td>\n",
       "    </tr>\n",
       "    <tr>\n",
       "      <th>2</th>\n",
       "      <td>клиент</td>\n",
       "      <td>день</td>\n",
       "    </tr>\n",
       "    <tr>\n",
       "      <th>3</th>\n",
       "      <td>вклад</td>\n",
       "      <td>деньги</td>\n",
       "    </tr>\n",
       "    <tr>\n",
       "      <th>4</th>\n",
       "      <td>очень</td>\n",
       "      <td>мой</td>\n",
       "    </tr>\n",
       "    <tr>\n",
       "      <th>5</th>\n",
       "      <td>сотрудник</td>\n",
       "      <td>отделение</td>\n",
       "    </tr>\n",
       "    <tr>\n",
       "      <th>6</th>\n",
       "      <td>день</td>\n",
       "      <td>сотрудник</td>\n",
       "    </tr>\n",
       "    <tr>\n",
       "      <th>7</th>\n",
       "      <td>отделение</td>\n",
       "      <td>который</td>\n",
       "    </tr>\n",
       "    <tr>\n",
       "      <th>8</th>\n",
       "      <td>который</td>\n",
       "      <td>кредит</td>\n",
       "    </tr>\n",
       "    <tr>\n",
       "      <th>9</th>\n",
       "      <td>мой</td>\n",
       "      <td>сказать</td>\n",
       "    </tr>\n",
       "  </tbody>\n",
       "</table>\n",
       "</div>"
      ],
      "text/plain": [
       "  tfidf_ranking_5 tfidf_ranking_1\n",
       "0            банк            банк\n",
       "1           карта           карта\n",
       "2          клиент            день\n",
       "3           вклад          деньги\n",
       "4           очень             мой\n",
       "5       сотрудник       отделение\n",
       "6            день       сотрудник\n",
       "7       отделение         который\n",
       "8         который          кредит\n",
       "9             мой         сказать"
      ]
     },
     "execution_count": 47,
     "metadata": {},
     "output_type": "execute_result"
    }
   ],
   "source": [
    "rank = pd.DataFrame({'tfidf_ranking_5': tfidf_ranking_5,'tfidf_ranking_1': tfidf_ranking_1})\n",
    "rank.head(10)"
   ]
  },
  {
   "cell_type": "code",
   "execution_count": 48,
   "id": "879217a8",
   "metadata": {},
   "outputs": [],
   "source": [
    "rank['tfidf_ranking_5_without_1']=rank.tfidf_ranking_5[~rank.tfidf_ranking_5.isin(rank.tfidf_ranking_1)]\n",
    "rank['tfidf_ranking_1_without_5']=rank.tfidf_ranking_1[~rank.tfidf_ranking_1.isin(rank.tfidf_ranking_5)]"
   ]
  },
  {
   "cell_type": "code",
   "execution_count": 49,
   "id": "73354afa",
   "metadata": {},
   "outputs": [
    {
     "data": {
      "text/html": [
       "<div>\n",
       "<style scoped>\n",
       "    .dataframe tbody tr th:only-of-type {\n",
       "        vertical-align: middle;\n",
       "    }\n",
       "\n",
       "    .dataframe tbody tr th {\n",
       "        vertical-align: top;\n",
       "    }\n",
       "\n",
       "    .dataframe thead th {\n",
       "        text-align: right;\n",
       "    }\n",
       "</style>\n",
       "<table border=\"1\" class=\"dataframe\">\n",
       "  <thead>\n",
       "    <tr style=\"text-align: right;\">\n",
       "      <th></th>\n",
       "      <th>tfidf_ranking_5_without_1</th>\n",
       "      <th>tfidf_ranking_1_without_5</th>\n",
       "    </tr>\n",
       "  </thead>\n",
       "  <tbody>\n",
       "    <tr>\n",
       "      <th>31</th>\n",
       "      <td>быстро</td>\n",
       "      <td>средство</td>\n",
       "    </tr>\n",
       "    <tr>\n",
       "      <th>32</th>\n",
       "      <td>банка</td>\n",
       "      <td>номер</td>\n",
       "    </tr>\n",
       "    <tr>\n",
       "      <th>37</th>\n",
       "      <td>минута</td>\n",
       "      <td>месяц</td>\n",
       "    </tr>\n",
       "    <tr>\n",
       "      <th>39</th>\n",
       "      <td>отзыв</td>\n",
       "      <td>звонок</td>\n",
       "    </tr>\n",
       "    <tr>\n",
       "      <th>50</th>\n",
       "      <td>помогать</td>\n",
       "      <td>почему</td>\n",
       "    </tr>\n",
       "    <tr>\n",
       "      <th>51</th>\n",
       "      <td>первый</td>\n",
       "      <td>говорить</td>\n",
       "    </tr>\n",
       "    <tr>\n",
       "      <th>53</th>\n",
       "      <td>несколько</td>\n",
       "      <td>информация</td>\n",
       "    </tr>\n",
       "    <tr>\n",
       "      <th>54</th>\n",
       "      <td>пользоваться</td>\n",
       "      <td>срок</td>\n",
       "    </tr>\n",
       "    <tr>\n",
       "      <th>57</th>\n",
       "      <td>решение</td>\n",
       "      <td>смс</td>\n",
       "    </tr>\n",
       "    <tr>\n",
       "      <th>59</th>\n",
       "      <td>менеджер</td>\n",
       "      <td>банкомат</td>\n",
       "    </tr>\n",
       "    <tr>\n",
       "      <th>60</th>\n",
       "      <td>предлагать</td>\n",
       "      <td>заявка</td>\n",
       "    </tr>\n",
       "    <tr>\n",
       "      <th>61</th>\n",
       "      <td>администратор</td>\n",
       "      <td>претензия</td>\n",
       "    </tr>\n",
       "    <tr>\n",
       "      <th>63</th>\n",
       "      <td>процент</td>\n",
       "      <td>выдавать</td>\n",
       "    </tr>\n",
       "    <tr>\n",
       "      <th>65</th>\n",
       "      <td>являться</td>\n",
       "      <td>руб</td>\n",
       "    </tr>\n",
       "    <tr>\n",
       "      <th>66</th>\n",
       "      <td>условие</td>\n",
       "      <td>сегодня</td>\n",
       "    </tr>\n",
       "    <tr>\n",
       "      <th>67</th>\n",
       "      <td>вс</td>\n",
       "      <td>давать</td>\n",
       "    </tr>\n",
       "    <tr>\n",
       "      <th>68</th>\n",
       "      <td>становиться</td>\n",
       "      <td>принимать</td>\n",
       "    </tr>\n",
       "  </tbody>\n",
       "</table>\n",
       "</div>"
      ],
      "text/plain": [
       "   tfidf_ranking_5_without_1 tfidf_ranking_1_without_5\n",
       "31                    быстро                  средство\n",
       "32                     банка                     номер\n",
       "37                    минута                     месяц\n",
       "39                     отзыв                    звонок\n",
       "50                  помогать                    почему\n",
       "51                    первый                  говорить\n",
       "53                 несколько                информация\n",
       "54              пользоваться                      срок\n",
       "57                   решение                       смс\n",
       "59                  менеджер                  банкомат\n",
       "60                предлагать                    заявка\n",
       "61             администратор                 претензия\n",
       "63                   процент                  выдавать\n",
       "65                  являться                       руб\n",
       "66                   условие                   сегодня\n",
       "67                        вс                    давать\n",
       "68               становиться                 принимать"
      ]
     },
     "execution_count": 49,
     "metadata": {},
     "output_type": "execute_result"
    }
   ],
   "source": [
    "rank.iloc[:,-2:].dropna()"
   ]
  },
  {
   "cell_type": "markdown",
   "id": "de96e052",
   "metadata": {},
   "source": [
    "### Биграммы"
   ]
  },
  {
   "cell_type": "code",
   "execution_count": 50,
   "id": "53455641",
   "metadata": {},
   "outputs": [],
   "source": [
    "from sklearn.feature_extraction.text import TfidfVectorizer\n",
    "import numpy as np\n",
    "\n",
    "tfidf = TfidfVectorizer(analyzer='word', ngram_range=(2,2), min_df = 0)\n",
    "tfidf_matrix =  tfidf.fit_transform([' '.join(tokens) for tokens in tokens_by_topic])\n",
    "feature_names = tfidf.get_feature_names() \n",
    "tfidf_ranking_rank_is_5 = []\n",
    "tfidf_ranking_rank_is_1 = []\n",
    "dense = tfidf_matrix.todense()\n",
    "\n",
    "text = dense[1].tolist()[0]\n",
    "phrase_scores = [pair for pair in zip(range(0, len(text)), text) if pair[1] > 0]\n",
    "sorted_phrase_scores = sorted(phrase_scores, key=lambda t: t[1] * -1)\n",
    "phrases = []\n",
    "\n",
    "for phrase, score in [(feature_names[word_id], score) for (word_id, score) in sorted_phrase_scores][:70]:\n",
    "    tfidf_ranking_rank_is_5.append(phrase)\n",
    "    \n",
    "text = dense[0].tolist()[0]\n",
    "phrase_scores = [pair for pair in zip(range(0, len(text)), text) if pair[1] > 0]\n",
    "sorted_phrase_scores = sorted(phrase_scores, key=lambda t: t[1] * -1)\n",
    "phrases = []\n",
    "\n",
    "for phrase, score in [(feature_names[word_id], score) for (word_id, score) in sorted_phrase_scores][:70]:\n",
    "    tfidf_ranking_rank_is_1.append(phrase) "
   ]
  },
  {
   "cell_type": "code",
   "execution_count": 51,
   "id": "954897ae",
   "metadata": {},
   "outputs": [
    {
     "data": {
      "text/html": [
       "<div>\n",
       "<style scoped>\n",
       "    .dataframe tbody tr th:only-of-type {\n",
       "        vertical-align: middle;\n",
       "    }\n",
       "\n",
       "    .dataframe tbody tr th {\n",
       "        vertical-align: top;\n",
       "    }\n",
       "\n",
       "    .dataframe thead th {\n",
       "        text-align: right;\n",
       "    }\n",
       "</style>\n",
       "<table border=\"1\" class=\"dataframe\">\n",
       "  <thead>\n",
       "    <tr style=\"text-align: right;\">\n",
       "      <th></th>\n",
       "      <th>tfidf_ranking_rank_is_5</th>\n",
       "      <th>tfidf_ranking_rank_is_1</th>\n",
       "    </tr>\n",
       "  </thead>\n",
       "  <tbody>\n",
       "    <tr>\n",
       "      <th>0</th>\n",
       "      <td>интернет банк</td>\n",
       "      <td>сотрудник банк</td>\n",
       "    </tr>\n",
       "    <tr>\n",
       "      <th>1</th>\n",
       "      <td>другой банк</td>\n",
       "      <td>денежный средство</td>\n",
       "    </tr>\n",
       "    <tr>\n",
       "      <th>2</th>\n",
       "      <td>сотрудник банк</td>\n",
       "      <td>отделение банк</td>\n",
       "    </tr>\n",
       "    <tr>\n",
       "      <th>3</th>\n",
       "      <td>клиент банк</td>\n",
       "      <td>горячий линия</td>\n",
       "    </tr>\n",
       "    <tr>\n",
       "      <th>4</th>\n",
       "      <td>кредитный карта</td>\n",
       "      <td>кредитный карта</td>\n",
       "    </tr>\n",
       "    <tr>\n",
       "      <th>5</th>\n",
       "      <td>открывать вклад</td>\n",
       "      <td>написать заявление</td>\n",
       "    </tr>\n",
       "    <tr>\n",
       "      <th>6</th>\n",
       "      <td>являться клиент</td>\n",
       "      <td>ваш банк</td>\n",
       "    </tr>\n",
       "    <tr>\n",
       "      <th>7</th>\n",
       "      <td>добрый день</td>\n",
       "      <td>добрый день</td>\n",
       "    </tr>\n",
       "    <tr>\n",
       "      <th>8</th>\n",
       "      <td>отделение банк</td>\n",
       "      <td>колл центр</td>\n",
       "    </tr>\n",
       "    <tr>\n",
       "      <th>9</th>\n",
       "      <td>альфа банк</td>\n",
       "      <td>рабочий день</td>\n",
       "    </tr>\n",
       "  </tbody>\n",
       "</table>\n",
       "</div>"
      ],
      "text/plain": [
       "  tfidf_ranking_rank_is_5 tfidf_ranking_rank_is_1\n",
       "0           интернет банк          сотрудник банк\n",
       "1             другой банк       денежный средство\n",
       "2          сотрудник банк          отделение банк\n",
       "3             клиент банк           горячий линия\n",
       "4         кредитный карта         кредитный карта\n",
       "5         открывать вклад      написать заявление\n",
       "6         являться клиент                ваш банк\n",
       "7             добрый день             добрый день\n",
       "8          отделение банк              колл центр\n",
       "9              альфа банк            рабочий день"
      ]
     },
     "execution_count": 51,
     "metadata": {},
     "output_type": "execute_result"
    }
   ],
   "source": [
    "rankings = pd.DataFrame({'tfidf_ranking_rank_is_5': tfidf_ranking_rank_is_5,'tfidf_ranking_rank_is_1': tfidf_ranking_rank_is_1})\n",
    "rankings.head(10)"
   ]
  },
  {
   "cell_type": "code",
   "execution_count": 52,
   "id": "4eea09b2",
   "metadata": {},
   "outputs": [],
   "source": [
    "rankings['tfidf_ranking_rank_is_5_without_1']=rankings.tfidf_ranking_rank_is_5[~rankings.tfidf_ranking_rank_is_5.isin(rankings.tfidf_ranking_rank_is_1)]\n",
    "rankings['tfidf_ranking_rank_is_1_without_5']=rankings.tfidf_ranking_rank_is_1[~rankings.tfidf_ranking_rank_is_1.isin(rankings.tfidf_ranking_rank_is_5)]"
   ]
  },
  {
   "cell_type": "code",
   "execution_count": 53,
   "id": "73c130a2",
   "metadata": {},
   "outputs": [
    {
     "data": {
      "text/html": [
       "<div>\n",
       "<style scoped>\n",
       "    .dataframe tbody tr th:only-of-type {\n",
       "        vertical-align: middle;\n",
       "    }\n",
       "\n",
       "    .dataframe tbody tr th {\n",
       "        vertical-align: top;\n",
       "    }\n",
       "\n",
       "    .dataframe thead th {\n",
       "        text-align: right;\n",
       "    }\n",
       "</style>\n",
       "<table border=\"1\" class=\"dataframe\">\n",
       "  <thead>\n",
       "    <tr style=\"text-align: right;\">\n",
       "      <th></th>\n",
       "      <th>tfidf_ranking_rank_is_5_without_1</th>\n",
       "      <th>tfidf_ranking_rank_is_1_without_5</th>\n",
       "    </tr>\n",
       "  </thead>\n",
       "  <tbody>\n",
       "    <tr>\n",
       "      <th>18</th>\n",
       "      <td>мой вопрос</td>\n",
       "      <td>получать ответ</td>\n",
       "    </tr>\n",
       "    <tr>\n",
       "      <th>21</th>\n",
       "      <td>банк очень</td>\n",
       "      <td>отделение сбербанк</td>\n",
       "    </tr>\n",
       "    <tr>\n",
       "      <th>24</th>\n",
       "      <td>приятно удивлять</td>\n",
       "      <td>течение день</td>\n",
       "    </tr>\n",
       "    <tr>\n",
       "      <th>28</th>\n",
       "      <td>открытие вклад</td>\n",
       "      <td>мой заявление</td>\n",
       "    </tr>\n",
       "    <tr>\n",
       "      <th>30</th>\n",
       "      <td>отношение клиент</td>\n",
       "      <td>писать заявление</td>\n",
       "    </tr>\n",
       "    <tr>\n",
       "      <th>31</th>\n",
       "      <td>очень быстро</td>\n",
       "      <td>мой карта</td>\n",
       "    </tr>\n",
       "    <tr>\n",
       "      <th>32</th>\n",
       "      <td>год назад</td>\n",
       "      <td>ежемесячный платеж</td>\n",
       "    </tr>\n",
       "    <tr>\n",
       "      <th>36</th>\n",
       "      <td>огромный спасибо</td>\n",
       "      <td>свой деньги</td>\n",
       "    </tr>\n",
       "    <tr>\n",
       "      <th>38</th>\n",
       "      <td>работа банк</td>\n",
       "      <td>погашение кредит</td>\n",
       "    </tr>\n",
       "    <tr>\n",
       "      <th>39</th>\n",
       "      <td>администратор уважать</td>\n",
       "      <td>деньги счет</td>\n",
       "    </tr>\n",
       "    <tr>\n",
       "      <th>42</th>\n",
       "      <td>администратор автор</td>\n",
       "      <td>сайт банк</td>\n",
       "    </tr>\n",
       "    <tr>\n",
       "      <th>43</th>\n",
       "      <td>услуга банк</td>\n",
       "      <td>снимать деньги</td>\n",
       "    </tr>\n",
       "    <tr>\n",
       "      <th>44</th>\n",
       "      <td>хотеть поблагодарить</td>\n",
       "      <td>такой образ</td>\n",
       "    </tr>\n",
       "    <tr>\n",
       "      <th>47</th>\n",
       "      <td>хотеть сказать</td>\n",
       "      <td>потребительский кредит</td>\n",
       "    </tr>\n",
       "    <tr>\n",
       "      <th>48</th>\n",
       "      <td>банк клиент</td>\n",
       "      <td>данный ситуация</td>\n",
       "    </tr>\n",
       "    <tr>\n",
       "      <th>51</th>\n",
       "      <td>новый год</td>\n",
       "      <td>карта который</td>\n",
       "    </tr>\n",
       "    <tr>\n",
       "      <th>52</th>\n",
       "      <td>очень приятно</td>\n",
       "      <td>вопрос почему</td>\n",
       "    </tr>\n",
       "    <tr>\n",
       "      <th>56</th>\n",
       "      <td>очень удобно</td>\n",
       "      <td>сумма руб</td>\n",
       "    </tr>\n",
       "    <tr>\n",
       "      <th>58</th>\n",
       "      <td>банк работать</td>\n",
       "      <td>сбербанк онлайн</td>\n",
       "    </tr>\n",
       "    <tr>\n",
       "      <th>62</th>\n",
       "      <td>качественный обслуживание</td>\n",
       "      <td>позвонить горячий</td>\n",
       "    </tr>\n",
       "    <tr>\n",
       "      <th>64</th>\n",
       "      <td>мочь сказать</td>\n",
       "      <td>банк сказать</td>\n",
       "    </tr>\n",
       "    <tr>\n",
       "      <th>66</th>\n",
       "      <td>отдельный спасибо</td>\n",
       "      <td>личный кабинет</td>\n",
       "    </tr>\n",
       "    <tr>\n",
       "      <th>67</th>\n",
       "      <td>хоум кредит</td>\n",
       "      <td>сумма рубль</td>\n",
       "    </tr>\n",
       "    <tr>\n",
       "      <th>68</th>\n",
       "      <td>вопрос решать</td>\n",
       "      <td>написать претензия</td>\n",
       "    </tr>\n",
       "  </tbody>\n",
       "</table>\n",
       "</div>"
      ],
      "text/plain": [
       "   tfidf_ranking_rank_is_5_without_1 tfidf_ranking_rank_is_1_without_5\n",
       "18                        мой вопрос                    получать ответ\n",
       "21                        банк очень                отделение сбербанк\n",
       "24                  приятно удивлять                      течение день\n",
       "28                    открытие вклад                     мой заявление\n",
       "30                  отношение клиент                  писать заявление\n",
       "31                      очень быстро                         мой карта\n",
       "32                         год назад                ежемесячный платеж\n",
       "36                  огромный спасибо                       свой деньги\n",
       "38                       работа банк                  погашение кредит\n",
       "39             администратор уважать                       деньги счет\n",
       "42               администратор автор                         сайт банк\n",
       "43                       услуга банк                    снимать деньги\n",
       "44              хотеть поблагодарить                       такой образ\n",
       "47                    хотеть сказать            потребительский кредит\n",
       "48                       банк клиент                   данный ситуация\n",
       "51                         новый год                     карта который\n",
       "52                     очень приятно                     вопрос почему\n",
       "56                      очень удобно                         сумма руб\n",
       "58                     банк работать                   сбербанк онлайн\n",
       "62         качественный обслуживание                 позвонить горячий\n",
       "64                      мочь сказать                      банк сказать\n",
       "66                 отдельный спасибо                    личный кабинет\n",
       "67                       хоум кредит                       сумма рубль\n",
       "68                     вопрос решать                написать претензия"
      ]
     },
     "execution_count": 53,
     "metadata": {},
     "output_type": "execute_result"
    }
   ],
   "source": [
    "rankings.iloc[:,-2:].dropna()"
   ]
  },
  {
   "cell_type": "markdown",
   "id": "c8a9eec2",
   "metadata": {},
   "source": [
    "# Часть 2. Тематическое моделирование [20/100]\n",
    "\n",
    "### Постройте несколько тематических моделей коллекции документов с разным числом тем. Приведите примеры понятных (интерпретируемых) тем.\n",
    "###  Найдите темы, в которых упомянуты конкретные банки (Сбербанк, ВТБ, другой банк). Можете ли вы их прокомментировать / объяснить?\n",
    "Эта часть задания может быть сделана с использованием gensim."
   ]
  },
  {
   "cell_type": "code",
   "execution_count": 56,
   "id": "28d05e38",
   "metadata": {},
   "outputs": [
    {
     "name": "stdout",
     "output_type": "stream",
     "text": [
      "Collecting gensimNote: you may need to restart the kernel to use updated packages.\n",
      "  Downloading gensim-4.1.2-cp38-cp38-win_amd64.whl (24.0 MB)\n",
      "Requirement already satisfied: scipy>=0.18.1 in c:\\users\\sd\\anaconda3\\lib\\site-packages (from gensim) (1.6.2)\n",
      "Collecting smart-open>=1.8.1\n",
      "  Downloading smart_open-5.2.1-py3-none-any.whl (58 kB)\n",
      "Requirement already satisfied: Cython==0.29.23 in c:\\users\\sd\\anaconda3\\lib\\site-packages (from gensim) (0.29.23)\n",
      "Requirement already satisfied: numpy>=1.17.0 in c:\\users\\sd\\anaconda3\\lib\\site-packages (from gensim) (1.19.5)\n",
      "Installing collected packages: smart-open, gensim\n",
      "Successfully installed gensim-4.1.2 smart-open-5.2.1\n",
      "\n"
     ]
    }
   ],
   "source": [
    "pip install gensim "
   ]
  },
  {
   "cell_type": "code",
   "execution_count": 57,
   "id": "6ac21289",
   "metadata": {},
   "outputs": [],
   "source": [
    "import gensim.corpora as corpora\n",
    "from gensim.models import ldamodel"
   ]
  },
  {
   "cell_type": "code",
   "execution_count": 59,
   "id": "53147c78",
   "metadata": {},
   "outputs": [],
   "source": [
    "texts = [df['lemma'].iloc[i].split() for i in range(len(df))]\n",
    "dictionary = corpora.Dictionary(texts)\n",
    "corpus = [dictionary.doc2bow(text) for text in texts]"
   ]
  },
  {
   "cell_type": "code",
   "execution_count": 60,
   "id": "28a5a482",
   "metadata": {},
   "outputs": [],
   "source": [
    "random.seed(11)"
   ]
  },
  {
   "cell_type": "code",
   "execution_count": 61,
   "id": "0ecc6c7a",
   "metadata": {},
   "outputs": [
    {
     "name": "stderr",
     "output_type": "stream",
     "text": [
      "C:\\Users\\SD\\anaconda3\\lib\\site-packages\\gensim\\models\\ldamodel.py:846: RuntimeWarning: divide by zero encountered in double_scalars\n",
      "  perwordbound = self.bound(chunk, subsample_ratio=subsample_ratio) / (subsample_ratio * corpus_words)\n"
     ]
    }
   ],
   "source": [
    "lda = ldamodel.LdaModel(corpus=corpus, \n",
    "                        id2word=dictionary, \n",
    "                        num_topics=20, \n",
    "                        alpha='auto', \n",
    "                        eta='auto', \n",
    "                        iterations = 20, \n",
    "                        passes = 5)"
   ]
  },
  {
   "cell_type": "code",
   "execution_count": 62,
   "id": "14a540ad",
   "metadata": {},
   "outputs": [
    {
     "data": {
      "text/plain": [
       "[(17,\n",
       "  '0.012*\"курс\" + 0.010*\"валюта\" + 0.008*\"рубль\" + 0.008*\"доллар\" + 0.007*\"евро\" + 0.007*\"сч\" + 0.005*\"валютный\" + 0.003*\"конвертация\" + 0.003*\"рублевый\" + 0.002*\"обмен\"'),\n",
       " (6,\n",
       "  '0.032*\"платеж\" + 0.013*\"оплата\" + 0.011*\"оплачивать\" + 0.009*\"терминал\" + 0.006*\"квитанция\" + 0.006*\"реквизит\" + 0.006*\"траст\" + 0.005*\"получатель\" + 0.004*\"платежный\" + 0.002*\"платежок\"'),\n",
       " (0,\n",
       "  '0.035*\"отделение\" + 0.029*\"сотрудник\" + 0.017*\"заявление\" + 0.016*\"обращаться\" + 0.015*\"мой\" + 0.014*\"банк\" + 0.014*\"сбербанк\" + 0.013*\"получать\" + 0.013*\"офис\" + 0.011*\"вопрос\"'),\n",
       " (9,\n",
       "  '0.069*\"банк\" + 0.020*\"клиент\" + 0.013*\"вклад\" + 0.011*\"очень\" + 0.010*\"свой\" + 0.009*\"который\" + 0.008*\"год\" + 0.007*\"время\" + 0.007*\"такой\" + 0.007*\"банка\"'),\n",
       " (11,\n",
       "  '0.018*\"сказать\" + 0.014*\"день\" + 0.013*\"приходить\" + 0.011*\"деньги\" + 0.009*\"мочь\" + 0.009*\"банк\" + 0.009*\"говорить\" + 0.009*\"который\" + 0.008*\"позвонить\" + 0.008*\"звонить\"')]"
      ]
     },
     "execution_count": 62,
     "metadata": {},
     "output_type": "execute_result"
    }
   ],
   "source": [
    "# 20 тем, рандомная выборка 5\n",
    "lda.show_topics(5)"
   ]
  },
  {
   "cell_type": "code",
   "execution_count": null,
   "id": "14011069",
   "metadata": {},
   "outputs": [],
   "source": [
    "Обмен валют\n",
    "Покупка по акции, что-то связанное баллами карты\n",
    "Заявка в тех. поддержку банка\n",
    "Консультации в банке\n",
    "Проблема пастоянного клиента с банком"
   ]
  },
  {
   "cell_type": "code",
   "execution_count": 63,
   "id": "8a38e1b0",
   "metadata": {},
   "outputs": [],
   "source": [
    "lda15 = ldamodel.LdaModel(corpus=corpus, \n",
    "                          id2word=dictionary, \n",
    "                          num_topics=30, \n",
    "                          alpha='auto', \n",
    "                          eta='auto', \n",
    "                          iterations = 20, \n",
    "                          passes = 5)"
   ]
  },
  {
   "cell_type": "code",
   "execution_count": 64,
   "id": "16ecf0ee",
   "metadata": {},
   "outputs": [
    {
     "data": {
      "text/plain": [
       "[(18,\n",
       "  '0.026*\"выписка\" + 0.006*\"печать\" + 0.004*\"фирма\" + 0.003*\"директор\" + 0.002*\"нотариус\" + 0.002*\"подпись\" + 0.002*\"бла\" + 0.002*\"образец\" + 0.002*\"бухгалтер\" + 0.001*\"гибдд\"'),\n",
       " (14,\n",
       "  '0.043*\"р\" + 0.013*\"процент\" + 0.008*\"начислять\" + 0.006*\"начисление\" + 0.004*\"начисляться\" + 0.004*\"расчет\" + 0.001*\"калькулятор\" + 0.001*\"расписка\" + 0.001*\"сверх\" + 0.001*\"компенсация\"'),\n",
       " (27,\n",
       "  '0.067*\"банк\" + 0.031*\"клиент\" + 0.019*\"очень\" + 0.010*\"свой\" + 0.009*\"работа\" + 0.009*\"время\" + 0.009*\"сотрудник\" + 0.009*\"вопрос\" + 0.009*\"год\" + 0.009*\"который\"'),\n",
       " (15,\n",
       "  '0.029*\"день\" + 0.028*\"банк\" + 0.022*\"отделение\" + 0.021*\"сотрудник\" + 0.017*\"вопрос\" + 0.015*\"обращаться\" + 0.014*\"ответ\" + 0.014*\"сообщать\" + 0.012*\"позвонить\" + 0.012*\"мой\"'),\n",
       " (20,\n",
       "  '0.029*\"банк\" + 0.023*\"деньги\" + 0.021*\"сказать\" + 0.013*\"приходить\" + 0.012*\"день\" + 0.010*\"говорить\" + 0.010*\"такой\" + 0.010*\"который\" + 0.010*\"мочь\" + 0.008*\"мой\"')]"
      ]
     },
     "execution_count": 64,
     "metadata": {},
     "output_type": "execute_result"
    }
   ],
   "source": [
    "# 30 тем, рандомная выборка 5\n",
    "lda15.show_topics(5)"
   ]
  },
  {
   "cell_type": "code",
   "execution_count": null,
   "id": "ff80f2c5",
   "metadata": {},
   "outputs": [],
   "source": [
    "Открытие депозита\n",
    "Кредит, страховка, что-то связанное с квартирой\n",
    "Очередь в банке\n",
    "Звонок в банке\n",
    "Вопрос клиента сотруднику банка"
   ]
  },
  {
   "cell_type": "code",
   "execution_count": 66,
   "id": "310c4da1",
   "metadata": {},
   "outputs": [],
   "source": [
    "lda10 = ldamodel.LdaModel(corpus=corpus, \n",
    "                          id2word=dictionary, \n",
    "                          num_topics=10, \n",
    "                          alpha='auto', \n",
    "                          eta='auto', \n",
    "                          iterations = 20, \n",
    "                          passes = 5)"
   ]
  },
  {
   "cell_type": "code",
   "execution_count": 67,
   "id": "05311f54",
   "metadata": {},
   "outputs": [
    {
     "data": {
      "text/plain": [
       "[(0,\n",
       "  '0.036*\"вклад\" + 0.009*\"открывать\" + 0.006*\"процент\" + 0.004*\"курс\" + 0.004*\"валюта\" + 0.004*\"депозит\" + 0.004*\"вкладчик\" + 0.004*\"сумма\" + 0.003*\"доллар\" + 0.003*\"открытие\"'),\n",
       " (7,\n",
       "  '0.017*\"договор\" + 0.007*\"страхование\" + 0.006*\"рф\" + 0.005*\"банк\" + 0.005*\"право\" + 0.005*\"страховой\" + 0.005*\"закон\" + 0.004*\"средство\" + 0.003*\"условие\" + 0.003*\"услуга\"'),\n",
       " (3,\n",
       "  '0.035*\"деньги\" + 0.023*\"счет\" + 0.013*\"день\" + 0.012*\"средство\" + 0.010*\"банк\" + 0.008*\"сумма\" + 0.008*\"платеж\" + 0.008*\"сбербанк\" + 0.008*\"мой\" + 0.008*\"перевод\"'),\n",
       " (9,\n",
       "  '0.039*\"банк\" + 0.016*\"клиент\" + 0.009*\"свой\" + 0.008*\"очень\" + 0.007*\"который\" + 0.007*\"такой\" + 0.006*\"время\" + 0.006*\"работа\" + 0.005*\"сотрудник\" + 0.005*\"год\"'),\n",
       " (6,\n",
       "  '0.015*\"отделение\" + 0.015*\"карта\" + 0.013*\"сказать\" + 0.010*\"банк\" + 0.009*\"день\" + 0.009*\"приходить\" + 0.008*\"получать\" + 0.007*\"сотрудник\" + 0.007*\"позвонить\" + 0.007*\"офис\"')]"
      ]
     },
     "execution_count": 67,
     "metadata": {},
     "output_type": "execute_result"
    }
   ],
   "source": [
    "# 10 тем\n",
    "lda10.show_topics(5)"
   ]
  },
  {
   "cell_type": "code",
   "execution_count": null,
   "id": "3da54c1b",
   "metadata": {},
   "outputs": [],
   "source": [
    "Заявка на кредитный догово\n",
    "Открытие вклада\n",
    "Претензия клиента банку сбербанка\n",
    "Вопрос в поддержку банка\n",
    "Звонок клиента в банк"
   ]
  },
  {
   "cell_type": "markdown",
   "id": "c041ac73",
   "metadata": {},
   "source": [
    "# Часть 3. Классификация текстов [40/100]\n"
   ]
  },
  {
   "cell_type": "markdown",
   "id": "d90558dd",
   "metadata": {},
   "source": [
    "Сформулируем для простоты задачу бинарной классификации: будем классифицировать на два класса, то есть, различать резко отрицательные отзывы (с оценкой 1) и положительные отзывы (с оценкой 5).\n",
    "\n",
    "Составьте обучающее и тестовое множество: выберите из всего набора данных N1 отзывов с оценкой 1 и N2 отзывов с оценкой 5 (значение N1 и N2 – на ваше усмотрение). Используйте sklearn.model_selection.train_test_split для разделения множества отобранных документов на обучающее и тестовое.\n",
    "Используйте любой известный вам алгоритм классификации текстов для решения задачи и получите baseline. Сравните разные варианты векторизации текста: использование только униграм, пар или троек слов или с использованием символьных -грам.\n",
    "Сравните, как изменяется качество решения задачи при использовании скрытых тем в качестве признаков:\n",
    "1-ый вариант:  преобразование (sklearn.feature_extraction.text.TfidfTransformer) и сингулярное разложение (оно же – латентый семантический анализ) (sklearn.decomposition.TruncatedSVD),\n",
    "2-ой вариант: тематические модели LDA (sklearn.decomposition.LatentDirichletAllocation).\n",
    "Используйте accuracy и F-measure для оценки качества классификации.\n",
    "\n",
    "Ниже написан примерный Pipeline для классификации текстов.\n",
    "\n",
    "Эта часть задания может быть сделана с использованием sklearn.\n",
    "\n",
    "Составьте обучающее и тестовое множество: выберите из всего набора данных N1 отзывов с оценкой 1 и N2 отзывов с оценкой 5 (значение N1 и N2 – на ваше усмотрение). Используйте sklearn.model_selection.train_test_split для разделения множества отобранных документов на обучающее и тестовое."
   ]
  },
  {
   "cell_type": "code",
   "execution_count": 110,
   "id": "1635f4b1",
   "metadata": {},
   "outputs": [
    {
     "data": {
      "text/html": [
       "<div>\n",
       "<style scoped>\n",
       "    .dataframe tbody tr th:only-of-type {\n",
       "        vertical-align: middle;\n",
       "    }\n",
       "\n",
       "    .dataframe tbody tr th {\n",
       "        vertical-align: top;\n",
       "    }\n",
       "\n",
       "    .dataframe thead th {\n",
       "        text-align: right;\n",
       "    }\n",
       "</style>\n",
       "<table border=\"1\" class=\"dataframe\">\n",
       "  <thead>\n",
       "    <tr style=\"text-align: right;\">\n",
       "      <th></th>\n",
       "      <th>city</th>\n",
       "      <th>rating_not_checked</th>\n",
       "      <th>title</th>\n",
       "      <th>num_comments</th>\n",
       "      <th>bank_license</th>\n",
       "      <th>author</th>\n",
       "      <th>bank_name</th>\n",
       "      <th>datetime</th>\n",
       "      <th>text</th>\n",
       "      <th>rating_grade</th>\n",
       "      <th>text_tokinized</th>\n",
       "      <th>text_tokinized_stop_worlds</th>\n",
       "      <th>lemma</th>\n",
       "    </tr>\n",
       "  </thead>\n",
       "  <tbody>\n",
       "    <tr>\n",
       "      <th>16358</th>\n",
       "      <td>г. Орел</td>\n",
       "      <td>False</td>\n",
       "      <td>Получение перевода за 800 рублей</td>\n",
       "      <td>0</td>\n",
       "      <td>лицензия № 2412</td>\n",
       "      <td>gater91</td>\n",
       "      <td>Пробизнесбанк</td>\n",
       "      <td>2015-01-25 11:38:00</td>\n",
       "      <td>Мне выслали денежный перевод по Золотой Короне...</td>\n",
       "      <td>1.0</td>\n",
       "      <td>мне выслали денежный перевод по золотой короне...</td>\n",
       "      <td>выслали денежный перевод золотой короне посмот...</td>\n",
       "      <td>высылать денежный перевод золотой корона посмо...</td>\n",
       "    </tr>\n",
       "    <tr>\n",
       "      <th>38608</th>\n",
       "      <td>г. Москва</td>\n",
       "      <td>False</td>\n",
       "      <td>\"Ваш звонок очень важен для нас\"</td>\n",
       "      <td>1</td>\n",
       "      <td>лицензия № 2272</td>\n",
       "      <td>damirsalihov</td>\n",
       "      <td>Росбанк</td>\n",
       "      <td>2014-08-05 14:06:00</td>\n",
       "      <td>В недалеком 2011 году ещё до окончательного сл...</td>\n",
       "      <td>1.0</td>\n",
       "      <td>в недалеком году ещ до окончательного слияния ...</td>\n",
       "      <td>недалеком году ещ окончательного слияния росба...</td>\n",
       "      <td>недалекий год ещ окончательный слияние росбанк...</td>\n",
       "    </tr>\n",
       "    <tr>\n",
       "      <th>46859</th>\n",
       "      <td>г. Москва</td>\n",
       "      <td>False</td>\n",
       "      <td>Неделю не могут открыть счёт!</td>\n",
       "      <td>3</td>\n",
       "      <td>лицензия № 1</td>\n",
       "      <td>jazzy</td>\n",
       "      <td>ЮниКредит Банк</td>\n",
       "      <td>2014-05-21 17:51:00</td>\n",
       "      <td>Я являюсь клиентом банка, как частное лицо, уж...</td>\n",
       "      <td>1.0</td>\n",
       "      <td>я являюсь клиентом банка как частное лицо уже ...</td>\n",
       "      <td>являюсь клиентом банка частное лицо лет раньше...</td>\n",
       "      <td>являться клиент банк частный лицо год рано ник...</td>\n",
       "    </tr>\n",
       "  </tbody>\n",
       "</table>\n",
       "</div>"
      ],
      "text/plain": [
       "            city  rating_not_checked                             title  \\\n",
       "16358    г. Орел               False  Получение перевода за 800 рублей   \n",
       "38608  г. Москва               False  \"Ваш звонок очень важен для нас\"   \n",
       "46859  г. Москва               False     Неделю не могут открыть счёт!   \n",
       "\n",
       "       num_comments     bank_license        author       bank_name  \\\n",
       "16358             0  лицензия № 2412       gater91   Пробизнесбанк   \n",
       "38608             1  лицензия № 2272  damirsalihov         Росбанк   \n",
       "46859             3     лицензия № 1         jazzy  ЮниКредит Банк   \n",
       "\n",
       "                  datetime                                               text  \\\n",
       "16358  2015-01-25 11:38:00  Мне выслали денежный перевод по Золотой Короне...   \n",
       "38608  2014-08-05 14:06:00  В недалеком 2011 году ещё до окончательного сл...   \n",
       "46859  2014-05-21 17:51:00  Я являюсь клиентом банка, как частное лицо, уж...   \n",
       "\n",
       "       rating_grade                                     text_tokinized  \\\n",
       "16358           1.0  мне выслали денежный перевод по золотой короне...   \n",
       "38608           1.0  в недалеком году ещ до окончательного слияния ...   \n",
       "46859           1.0  я являюсь клиентом банка как частное лицо уже ...   \n",
       "\n",
       "                              text_tokinized_stop_worlds  \\\n",
       "16358  выслали денежный перевод золотой короне посмот...   \n",
       "38608  недалеком году ещ окончательного слияния росба...   \n",
       "46859  являюсь клиентом банка частное лицо лет раньше...   \n",
       "\n",
       "                                                   lemma  \n",
       "16358  высылать денежный перевод золотой корона посмо...  \n",
       "38608  недалекий год ещ окончательный слияние росбанк...  \n",
       "46859  являться клиент банк частный лицо год рано ник...  "
      ]
     },
     "execution_count": 110,
     "metadata": {},
     "output_type": "execute_result"
    }
   ],
   "source": [
    "df_sample.head(3)"
   ]
  },
  {
   "cell_type": "code",
   "execution_count": 112,
   "id": "94f0bd78",
   "metadata": {},
   "outputs": [
    {
     "name": "stdout",
     "output_type": "stream",
     "text": [
      "<class 'pandas.core.frame.DataFrame'>\n",
      "Int64Index: 20000 entries, 16358 to 132490\n",
      "Data columns (total 13 columns):\n",
      " #   Column                      Non-Null Count  Dtype  \n",
      "---  ------                      --------------  -----  \n",
      " 0   city                        15541 non-null  object \n",
      " 1   rating_not_checked          20000 non-null  bool   \n",
      " 2   title                       20000 non-null  object \n",
      " 3   num_comments                20000 non-null  int64  \n",
      " 4   bank_license                20000 non-null  object \n",
      " 5   author                      19996 non-null  object \n",
      " 6   bank_name                   20000 non-null  object \n",
      " 7   datetime                    20000 non-null  object \n",
      " 8   text                        20000 non-null  object \n",
      " 9   rating_grade                20000 non-null  float64\n",
      " 10  text_tokinized              20000 non-null  object \n",
      " 11  text_tokinized_stop_worlds  20000 non-null  object \n",
      " 12  lemma                       20000 non-null  object \n",
      "dtypes: bool(1), float64(1), int64(1), object(10)\n",
      "memory usage: 2.0+ MB\n"
     ]
    }
   ],
   "source": [
    "df_sample.info()"
   ]
  },
  {
   "cell_type": "code",
   "execution_count": 113,
   "id": "8170f1fd",
   "metadata": {},
   "outputs": [
    {
     "data": {
      "text/plain": [
       "5.0    10000\n",
       "1.0    10000\n",
       "Name: rating_grade, dtype: int64"
      ]
     },
     "execution_count": 113,
     "metadata": {},
     "output_type": "execute_result"
    }
   ],
   "source": [
    "df_sample.rating_grade.value_counts()"
   ]
  },
  {
   "cell_type": "code",
   "execution_count": 114,
   "id": "ffc7dca0",
   "metadata": {},
   "outputs": [
    {
     "data": {
      "text/plain": [
       "Index(['city', 'rating_not_checked', 'title', 'num_comments', 'bank_license',\n",
       "       'author', 'bank_name', 'datetime', 'text', 'rating_grade',\n",
       "       'text_tokinized', 'text_tokinized_stop_worlds', 'lemma'],\n",
       "      dtype='object')"
      ]
     },
     "execution_count": 114,
     "metadata": {},
     "output_type": "execute_result"
    }
   ],
   "source": [
    "df_sample.columns"
   ]
  },
  {
   "cell_type": "code",
   "execution_count": 115,
   "id": "f0a0c036",
   "metadata": {},
   "outputs": [],
   "source": [
    "X = df_sample['lemma'].values\n",
    "y = df_sample.rating_grade.values"
   ]
  },
  {
   "cell_type": "code",
   "execution_count": 116,
   "id": "b80ce9e4",
   "metadata": {},
   "outputs": [
    {
     "data": {
      "text/plain": [
       "((20000,), (20000,))"
      ]
     },
     "execution_count": 116,
     "metadata": {},
     "output_type": "execute_result"
    }
   ],
   "source": [
    "X.shape, y.shape"
   ]
  },
  {
   "cell_type": "code",
   "execution_count": 117,
   "id": "9f7064d7",
   "metadata": {},
   "outputs": [],
   "source": [
    "from sklearn.model_selection import train_test_split, GridSearchCV\n",
    "from sklearn.pipeline import Pipeline, FeatureUnion\n",
    "from sklearn.base import BaseEstimator, TransformerMixin\n",
    "from sklearn.feature_extraction.text import CountVectorizer, TfidfTransformer\n",
    "from sklearn.feature_extraction import DictVectorizer\n",
    "from sklearn.preprocessing import StandardScaler, OneHotEncoder\n",
    "from sklearn.decomposition import TruncatedSVD, LatentDirichletAllocation\n",
    "from sklearn.ensemble import RandomForestClassifier\n",
    "from sklearn.metrics import precision_score, recall_score, f1_score, accuracy_score, classification_report, confusion_matrix"
   ]
  },
  {
   "cell_type": "code",
   "execution_count": 118,
   "id": "cc0ae413",
   "metadata": {},
   "outputs": [],
   "source": [
    "X_train, X_test, y_train, y_test = train_test_split(X, y, test_size=0.3)"
   ]
  },
  {
   "cell_type": "code",
   "execution_count": 119,
   "id": "caf81e4e",
   "metadata": {},
   "outputs": [
    {
     "data": {
      "text/plain": [
       "((14000,), (6000,), (14000,), (6000,))"
      ]
     },
     "execution_count": 119,
     "metadata": {},
     "output_type": "execute_result"
    }
   ],
   "source": [
    "X_train.shape, X_test.shape, y_train.shape, y_test.shape"
   ]
  },
  {
   "cell_type": "code",
   "execution_count": 120,
   "id": "691635eb",
   "metadata": {},
   "outputs": [],
   "source": [
    "from sklearn.naive_bayes import MultinomialNB\n",
    "from sklearn.feature_extraction.text import CountVectorizer\n",
    "from sklearn.linear_model import LogisticRegression\n",
    "from sklearn import svm\n",
    "from sklearn.pipeline import Pipeline\n",
    "from sklearn.ensemble import RandomForestClassifier"
   ]
  },
  {
   "cell_type": "markdown",
   "id": "981357ba",
   "metadata": {},
   "source": [
    "### Используйте любой известный вам алгоритм классификации текстов для решения задачи и получите baseline. Сравните разные варианты векторизации текста: использование только униграм, пар или троек слов или с использованием символьных 𝑛 -грам. (Ниже написан примерный Pipeline для классификации текстов)."
   ]
  },
  {
   "cell_type": "code",
   "execution_count": 121,
   "id": "9ebec3b9",
   "metadata": {},
   "outputs": [],
   "source": [
    "# from sklearn.pipeline import Pipeline\n",
    "# from sklearn.ensemble import RandomForestClassifier\n",
    "\n",
    "# !!! На каждом этапе Pipeline нужно указать свои параметры\n",
    "# 1-ый вариант: tf-idf + LSI\n",
    "# 2-ой вариант: LDA\n",
    "\n",
    "# clf = Pipeline([\n",
    "#     ('vect', CountVectorizer(analyzer = 'char', ngram_range={4,6})),\n",
    "#     ('clf', RandomForestClassifier()),\n",
    "# ])\n",
    "\n",
    "# clf = Pipeline([ \n",
    "#     ('vect', CountVectorizer()), \n",
    "#     ('tfidf', TfidfTransformer()), \n",
    "#     ('tm', TruncatedSVD()), \n",
    "#     ('clf', RandomForestClassifier())\n",
    "# ])"
   ]
  },
  {
   "cell_type": "code",
   "execution_count": 122,
   "id": "fc888b26",
   "metadata": {},
   "outputs": [],
   "source": [
    "clf_countvectorized = Pipeline(\n",
    "    [('vect', CountVectorizer()),\n",
    "     ('clf', LogisticRegression())]\n",
    ")\n",
    "\n",
    "params_cntv = {\n",
    "    'vect__analyzer': ['word','char'],\n",
    "    'vect__max_df': (0.5, 0.75, 1.0),\n",
    "    'vect__ngram_range': ((1, 1), (2, 2), (3, 3)),\n",
    "    'clf__C': np.logspace(-3,3,7),\n",
    "    'clf__penalty': ['l1','l2']  \n",
    "}\n",
    "\n",
    "scores=['accuracy', 'f1']"
   ]
  },
  {
   "cell_type": "code",
   "execution_count": 123,
   "id": "765e09a6",
   "metadata": {},
   "outputs": [],
   "source": [
    "grid_cntv = GridSearchCV(\n",
    "    clf_countvectorized, \n",
    "    param_grid=params_cntv, \n",
    "    cv=3,\n",
    "    scoring=scores,\n",
    "    refit=scores[0],\n",
    "    n_jobs=-1, \n",
    "    verbose=1)"
   ]
  },
  {
   "cell_type": "code",
   "execution_count": 124,
   "id": "9f48f241",
   "metadata": {},
   "outputs": [
    {
     "name": "stdout",
     "output_type": "stream",
     "text": [
      "Fitting 3 folds for each of 252 candidates, totalling 756 fits\n"
     ]
    },
    {
     "name": "stderr",
     "output_type": "stream",
     "text": [
      "C:\\Users\\SD\\anaconda3\\lib\\site-packages\\joblib\\externals\\loky\\process_executor.py:688: UserWarning: A worker stopped while some jobs were given to the executor. This can be caused by a too short worker timeout or by a memory leak.\n",
      "  warnings.warn(\n",
      "C:\\Users\\SD\\anaconda3\\lib\\site-packages\\sklearn\\model_selection\\_search.py:918: UserWarning: One or more of the test scores are non-finite: [       nan        nan        nan        nan        nan        nan\n",
      "        nan        nan        nan        nan        nan        nan\n",
      "        nan        nan        nan        nan        nan        nan\n",
      " 0.63457135 0.60735708 0.54850009 0.63457135 0.60735708 0.54850009\n",
      " 0.63457135 0.60735708 0.54850009 0.59071424 0.63328573 0.64235723\n",
      " 0.59071424 0.63328573 0.64235723 0.59292855 0.63328573 0.64235723\n",
      "        nan        nan        nan        nan        nan        nan\n",
      "        nan        nan        nan        nan        nan        nan\n",
      "        nan        nan        nan        nan        nan        nan\n",
      " 0.64492861 0.62435699 0.58885712 0.64492861 0.62435699 0.58885712\n",
      " 0.64492861 0.62435699 0.58885712 0.59128565 0.63664276 0.64600009\n",
      " 0.59128565 0.63664276 0.64600009 0.59192848 0.63664276 0.64600009\n",
      "        nan        nan        nan        nan        nan        nan\n",
      "        nan        nan        nan        nan        nan        nan\n",
      "        nan        nan        nan        nan        nan        nan\n",
      " 0.64628572 0.63378568 0.59335707 0.64628572 0.63378568 0.59335707\n",
      " 0.64628572 0.63378568 0.59335707 0.59149992 0.63528557 0.64407142\n",
      " 0.59149992 0.63528557 0.64407142 0.5924999  0.63528557 0.64407142\n",
      "        nan        nan        nan        nan        nan        nan\n",
      "        nan        nan        nan        nan        nan        nan\n",
      "        nan        nan        nan        nan        nan        nan\n",
      " 0.64614286 0.63557142 0.60007135 0.64614286 0.63557142 0.60007135\n",
      " 0.64614286 0.63557142 0.60007135 0.59092848 0.63257144 0.64328575\n",
      " 0.59092848 0.63257144 0.64328575 0.59264279 0.63257144 0.64328575\n",
      "        nan        nan        nan        nan        nan        nan\n",
      "        nan        nan        nan        nan        nan        nan\n",
      "        nan        nan        nan        nan        nan        nan\n",
      " 0.64549994 0.63592854 0.60499977 0.64549994 0.63592854 0.60499977\n",
      " 0.64549994 0.63592854 0.60499977 0.59128564 0.63257133 0.64264289\n",
      " 0.59128564 0.63257133 0.64264289 0.5921428  0.63257133 0.64264289\n",
      "        nan        nan        nan        nan        nan        nan\n",
      "        nan        nan        nan        nan        nan        nan\n",
      "        nan        nan        nan        nan        nan        nan\n",
      " 0.64599997 0.63599998 0.60864258 0.64599997 0.63599998 0.60864258\n",
      " 0.64599997 0.63599998 0.60864258 0.59114279 0.63299991 0.64271429\n",
      " 0.59114279 0.63299991 0.64271429 0.59142847 0.63299991 0.64271429\n",
      "        nan        nan        nan        nan        nan        nan\n",
      "        nan        nan        nan        nan        nan        nan\n",
      "        nan        nan        nan        nan        nan        nan\n",
      " 0.64535714 0.63528568 0.61035687 0.64535714 0.63528568 0.61035687\n",
      " 0.64535714 0.63528568 0.61035687 0.59135705 0.63314278 0.64278565\n",
      " 0.59135705 0.63314278 0.64278565 0.59171419 0.63314278 0.64278565]\n",
      "  warnings.warn(\n",
      "C:\\Users\\SD\\anaconda3\\lib\\site-packages\\sklearn\\model_selection\\_search.py:918: UserWarning: One or more of the test scores are non-finite: [       nan        nan        nan        nan        nan        nan\n",
      "        nan        nan        nan        nan        nan        nan\n",
      "        nan        nan        nan        nan        nan        nan\n",
      " 0.4647344  0.43276538 0.68672212 0.4647344  0.43276538 0.68672212\n",
      " 0.4647344  0.43276538 0.68672212 0.40134091 0.45521681 0.47009886\n",
      " 0.40134091 0.45521681 0.47009886 0.40227758 0.45521681 0.47009886\n",
      "        nan        nan        nan        nan        nan        nan\n",
      "        nan        nan        nan        nan        nan        nan\n",
      "        nan        nan        nan        nan        nan        nan\n",
      " 0.47457973 0.44762761 0.33579433 0.47457973 0.44762761 0.33579433\n",
      " 0.47457973 0.44762761 0.33579433 0.40005113 0.4588798  0.47354985\n",
      " 0.40005113 0.4588798  0.47354985 0.39789439 0.4588798  0.47354985\n",
      "        nan        nan        nan        nan        nan        nan\n",
      "        nan        nan        nan        nan        nan        nan\n",
      "        nan        nan        nan        nan        nan        nan\n",
      " 0.47553406 0.46070486 0.3466008  0.47553406 0.46070486 0.3466008\n",
      " 0.47553406 0.46070486 0.3466008  0.39967673 0.45611052 0.47039893\n",
      " 0.39967673 0.45611052 0.47039893 0.39874294 0.45611052 0.47039893\n",
      "        nan        nan        nan        nan        nan        nan\n",
      "        nan        nan        nan        nan        nan        nan\n",
      "        nan        nan        nan        nan        nan        nan\n",
      " 0.47464755 0.46361539 0.37040056 0.47464755 0.46361539 0.37040056\n",
      " 0.47464755 0.46361539 0.37040056 0.39895122 0.45030513 0.46871265\n",
      " 0.39895122 0.45030513 0.46871265 0.39882894 0.45030513 0.46871265\n",
      "        nan        nan        nan        nan        nan        nan\n",
      "        nan        nan        nan        nan        nan        nan\n",
      "        nan        nan        nan        nan        nan        nan\n",
      " 0.47308236 0.46476021 0.38949574 0.47308236 0.46476021 0.38949574\n",
      " 0.47308236 0.46476021 0.38949574 0.39916698 0.45030265 0.4677037\n",
      " 0.39916698 0.45030265 0.4677037  0.39777384 0.45030265 0.4677037\n",
      "        nan        nan        nan        nan        nan        nan\n",
      "        nan        nan        nan        nan        nan        nan\n",
      "        nan        nan        nan        nan        nan        nan\n",
      " 0.47421952 0.46514877 0.40206001 0.47421952 0.46514877 0.40206001\n",
      " 0.47421952 0.46514877 0.40206001 0.39945887 0.45047749 0.46649934\n",
      " 0.39945887 0.45047749 0.46649934 0.39645912 0.45047749 0.46649934\n",
      "        nan        nan        nan        nan        nan        nan\n",
      "        nan        nan        nan        nan        nan        nan\n",
      "        nan        nan        nan        nan        nan        nan\n",
      " 0.47253668 0.46678964 0.41212251 0.47253668 0.46678964 0.41212251\n",
      " 0.47253668 0.46678964 0.41212251 0.39933645 0.45104316 0.46677887\n",
      " 0.39933645 0.45104316 0.46677887 0.39725397 0.45104316 0.46677887]\n",
      "  warnings.warn(\n"
     ]
    },
    {
     "data": {
      "text/plain": [
       "GridSearchCV(cv=3,\n",
       "             estimator=Pipeline(steps=[('vect', CountVectorizer()),\n",
       "                                       ('clf', LogisticRegression())]),\n",
       "             n_jobs=-1,\n",
       "             param_grid={'clf__C': array([1.e-03, 1.e-02, 1.e-01, 1.e+00, 1.e+01, 1.e+02, 1.e+03]),\n",
       "                         'clf__penalty': ['l1', 'l2'],\n",
       "                         'vect__analyzer': ['word', 'char'],\n",
       "                         'vect__max_df': (0.5, 0.75, 1.0),\n",
       "                         'vect__ngram_range': ((1, 1), (2, 2), (3, 3))},\n",
       "             refit='accuracy', scoring=['accuracy', 'f1'], verbose=1)"
      ]
     },
     "execution_count": 124,
     "metadata": {},
     "output_type": "execute_result"
    }
   ],
   "source": [
    "grid_cntv.fit(X_train, y_train)"
   ]
  },
  {
   "cell_type": "code",
   "execution_count": 125,
   "id": "4e91a685",
   "metadata": {},
   "outputs": [
    {
     "name": "stdout",
     "output_type": "stream",
     "text": [
      "Best score: 0.646\n"
     ]
    }
   ],
   "source": [
    "# print(grid_cntv.best_estimator_)\n",
    "print(\"Best score: %0.3f\" % grid_cntv.best_score_)"
   ]
  },
  {
   "cell_type": "code",
   "execution_count": 126,
   "id": "bb456706",
   "metadata": {},
   "outputs": [],
   "source": [
    "predictions=grid_cntv.best_estimator_.predict(X_test)"
   ]
  },
  {
   "cell_type": "code",
   "execution_count": 127,
   "id": "c8acd0ca",
   "metadata": {},
   "outputs": [
    {
     "name": "stdout",
     "output_type": "stream",
     "text": [
      "Precision:   0.76\n",
      "Recall:      0.65\n",
      "F1_score:    0.61\n",
      "Accuracy:    0.65\n"
     ]
    }
   ],
   "source": [
    "print(\"Precision: {0:6.2f}\".format(precision_score(y_test, predictions, average='macro')))\n",
    "print(\"Recall:    {0:6.2f}\".format(recall_score(y_test, predictions, average='macro')))\n",
    "print(\"F1_score:  {0:6.2f}\".format(f1_score(y_test, predictions, average='macro')))\n",
    "print(\"Accuracy:  {0:6.2f}\".format(accuracy_score(y_test, predictions)))"
   ]
  },
  {
   "cell_type": "code",
   "execution_count": 128,
   "id": "1d9711da",
   "metadata": {},
   "outputs": [
    {
     "name": "stdout",
     "output_type": "stream",
     "text": [
      "              precision    recall  f1-score   support\n",
      "\n",
      "         1.0       0.93      0.32      0.48      2966\n",
      "         5.0       0.59      0.98      0.74      3034\n",
      "\n",
      "    accuracy                           0.65      6000\n",
      "   macro avg       0.76      0.65      0.61      6000\n",
      "weighted avg       0.76      0.65      0.61      6000\n",
      "\n"
     ]
    }
   ],
   "source": [
    "print(classification_report(y_test, predictions))"
   ]
  },
  {
   "cell_type": "code",
   "execution_count": 129,
   "id": "3bdff817",
   "metadata": {},
   "outputs": [
    {
     "data": {
      "image/png": "[encoded data removed]",
      "text/plain": [
       "<Figure size 576x432 with 1 Axes>"
      ]
     },
     "metadata": {
      "needs_background": "light"
     },
     "output_type": "display_data"
    }
   ],
   "source": [
    "labels = grid_cntv.best_estimator_.classes_\n",
    "\n",
    "sns.heatmap(\n",
    "    data=confusion_matrix(y_test, predictions), \n",
    "    annot=True, \n",
    "    fmt=\"d\", \n",
    "    cbar=False, \n",
    "    xticklabels=labels, \n",
    "    yticklabels=labels\n",
    ")\n",
    "\n",
    "plt.title(\"Confusion matrix\")\n",
    "plt.show()\n"
   ]
  },
  {
   "cell_type": "markdown",
   "id": "4fa6ea9e",
   "metadata": {},
   "source": [
    "### Сравните, как изменяется качество решения задачи при использовании скрытых тем в качестве признаков:\n",
    "1-ый вариант: 𝑡𝑓−𝑖𝑑𝑓 преобразование (sklearn.feature_extraction.text.TfidfTransformer) и сингулярное разложение (оно же – латентый семантический анализ) (sklearn.decomposition.TruncatedSVD),\n",
    "2-ой вариант: тематические модели LDA (sklearn.decomposition.LatentDirichletAllocation).\n",
    "Используйте accuracy и F-measure для оценки качества классификации. (Эта часть задания может быть сделана с использованием sklearn).\n",
    "\n",
    "1-ый вариант\n",
    "𝑡𝑓−𝑖𝑑𝑓"
   ]
  },
  {
   "cell_type": "code",
   "execution_count": 130,
   "id": "8aec1820",
   "metadata": {},
   "outputs": [],
   "source": [
    "clf_tf_idf = Pipeline(\n",
    "    [('vect', CountVectorizer()),\n",
    "     ('tfidf', TfidfTransformer()),\n",
    "     ('clf', LogisticRegression())]\n",
    ")\n",
    "\n",
    "params_tf_idf={\n",
    "    'vect__analyzer': ['word'],\n",
    "    'vect__max_df': (0.5, 0.75, 1.0),\n",
    "    'vect__ngram_range': [(1, 1), (2, 2), (3, 3)],\n",
    "    'tfidf__use_idf': (True, False),\n",
    "    'clf__C': np.logspace(-3, 3, 7),\n",
    "    'clf__penalty': ['l1', 'l2']\n",
    "}\n",
    "\n",
    "scores=['accuracy','f1']"
   ]
  },
  {
   "cell_type": "code",
   "execution_count": 131,
   "id": "25cf9868",
   "metadata": {},
   "outputs": [],
   "source": [
    "grid_tf_idf = GridSearchCV(\n",
    "    clf_tf_idf, \n",
    "    param_grid=params_tf_idf, \n",
    "    cv=3,\n",
    "    scoring=scores,\n",
    "    refit=scores[0],\n",
    "    n_jobs=-1, \n",
    "    verbose=1\n",
    ")"
   ]
  },
  {
   "cell_type": "code",
   "execution_count": 132,
   "id": "d1d7d428",
   "metadata": {},
   "outputs": [
    {
     "name": "stdout",
     "output_type": "stream",
     "text": [
      "Fitting 3 folds for each of 252 candidates, totalling 756 fits\n"
     ]
    },
    {
     "name": "stderr",
     "output_type": "stream",
     "text": [
      "C:\\Users\\SD\\anaconda3\\lib\\site-packages\\sklearn\\model_selection\\_search.py:918: UserWarning: One or more of the test scores are non-finite: [       nan        nan        nan        nan        nan        nan\n",
      "        nan        nan        nan        nan        nan        nan\n",
      "        nan        nan        nan        nan        nan        nan\n",
      " 0.50285712 0.50242857 0.50242857 0.50285712 0.50242857 0.50242857\n",
      " 0.50285712 0.50242857 0.50242857 0.56428555 0.50242857 0.50242857\n",
      " 0.56428555 0.50242857 0.50242857 0.56428555 0.50242857 0.50242857\n",
      "        nan        nan        nan        nan        nan        nan\n",
      "        nan        nan        nan        nan        nan        nan\n",
      "        nan        nan        nan        nan        nan        nan\n",
      " 0.58199982 0.50942859 0.50271431 0.58199982 0.50942859 0.50271431\n",
      " 0.58199982 0.50942859 0.50271431 0.57957124 0.52228584 0.5067857\n",
      " 0.57957124 0.52228584 0.5067857  0.57957124 0.52228584 0.5067857\n",
      "        nan        nan        nan        nan        nan        nan\n",
      "        nan        nan        nan        nan        nan        nan\n",
      "        nan        nan        nan        nan        nan        nan\n",
      " 0.62585702 0.61392858 0.54964299 0.62585702 0.61392858 0.54964299\n",
      " 0.62585702 0.61392858 0.54964299 0.62549988 0.61085726 0.54907147\n",
      " 0.62549988 0.61085726 0.54907147 0.62549988 0.61085726 0.54907147\n",
      "        nan        nan        nan        nan        nan        nan\n",
      "        nan        nan        nan        nan        nan        nan\n",
      "        nan        nan        nan        nan        nan        nan\n",
      " 0.64471421 0.62685719 0.61592827 0.64471421 0.62685719 0.61592827\n",
      " 0.64471421 0.62685719 0.61592827 0.64199991 0.6257142  0.61321401\n",
      " 0.64199991 0.6257142  0.61321401 0.64199991 0.6257142  0.61321401\n",
      "        nan        nan        nan        nan        nan        nan\n",
      "        nan        nan        nan        nan        nan        nan\n",
      "        nan        nan        nan        nan        nan        nan\n",
      " 0.64907137 0.63364283 0.61485681 0.64907137 0.63364283 0.61485681\n",
      " 0.64907137 0.63364283 0.61485681 0.64685711 0.63357139 0.61349975\n",
      " 0.64685711 0.63357139 0.61349975 0.64685711 0.63357139 0.61349975\n",
      "        nan        nan        nan        nan        nan        nan\n",
      "        nan        nan        nan        nan        nan        nan\n",
      "        nan        nan        nan        nan        nan        nan\n",
      " 0.64907134 0.63657139 0.61628538 0.64907134 0.63657139 0.61628538\n",
      " 0.64907134 0.63657139 0.61628538 0.64699992 0.63571428 0.61442831\n",
      " 0.64699992 0.63571428 0.61442831 0.64699992 0.63571428 0.61442831\n",
      "        nan        nan        nan        nan        nan        nan\n",
      "        nan        nan        nan        nan        nan        nan\n",
      "        nan        nan        nan        nan        nan        nan\n",
      " 0.64849991 0.63735713 0.61571397 0.64849991 0.63735713 0.61571397\n",
      " 0.64849991 0.63735713 0.61571397 0.64657143 0.63642859 0.61499975\n",
      " 0.64657143 0.63642859 0.61499975 0.64657143 0.63642859 0.61499975]\n",
      "  warnings.warn(\n",
      "C:\\Users\\SD\\anaconda3\\lib\\site-packages\\sklearn\\model_selection\\_search.py:918: UserWarning: One or more of the test scores are non-finite: [       nan        nan        nan        nan        nan        nan\n",
      "        nan        nan        nan        nan        nan        nan\n",
      "        nan        nan        nan        nan        nan        nan\n",
      " 0.66901276 0.6688219  0.6688219  0.66901276 0.6688219  0.6688219\n",
      " 0.66901276 0.6688219  0.6688219  0.43550088 0.6688219  0.6688219\n",
      " 0.43550088 0.6688219  0.6688219  0.43550088 0.6688219  0.6688219\n",
      "        nan        nan        nan        nan        nan        nan\n",
      "        nan        nan        nan        nan        nan        nan\n",
      "        nan        nan        nan        nan        nan        nan\n",
      " 0.44520764 0.67195278 0.66894914 0.44520764 0.67195278 0.66894914\n",
      " 0.44520764 0.67195278 0.66894914 0.44314481 0.67759694 0.67073578\n",
      " 0.44314481 0.67759694 0.67073578 0.44314481 0.67759694 0.67073578\n",
      "        nan        nan        nan        nan        nan        nan\n",
      "        nan        nan        nan        nan        nan        nan\n",
      "        nan        nan        nan        nan        nan        nan\n",
      " 0.46800789 0.46192142 0.68831895 0.46800789 0.46192142 0.68831895\n",
      " 0.46800789 0.46192142 0.68831895 0.46505285 0.45345247 0.68662239\n",
      " 0.46505285 0.45345247 0.68662239 0.46505285 0.45345247 0.68662239\n",
      "        nan        nan        nan        nan        nan        nan\n",
      "        nan        nan        nan        nan        nan        nan\n",
      "        nan        nan        nan        nan        nan        nan\n",
      " 0.47981536 0.46595666 0.43298676 0.47981536 0.46595666 0.43298676\n",
      " 0.47981536 0.46595666 0.43298676 0.47518338 0.45979039 0.42704923\n",
      " 0.47518338 0.45979039 0.42704923 0.47518338 0.45979039 0.42704923\n",
      "        nan        nan        nan        nan        nan        nan\n",
      "        nan        nan        nan        nan        nan        nan\n",
      "        nan        nan        nan        nan        nan        nan\n",
      " 0.48234954 0.46910128 0.42929883 0.48234954 0.46910128 0.42929883\n",
      " 0.48234954 0.46910128 0.42929883 0.4782585  0.46584659 0.42638026\n",
      " 0.4782585  0.46584659 0.42638026 0.4782585  0.46584659 0.42638026\n",
      "        nan        nan        nan        nan        nan        nan\n",
      "        nan        nan        nan        nan        nan        nan\n",
      "        nan        nan        nan        nan        nan        nan\n",
      " 0.480601   0.47154023 0.43500654 0.480601   0.47154023 0.43500654\n",
      " 0.480601   0.47154023 0.43500654 0.47670188 0.4675277  0.43131647\n",
      " 0.47670188 0.4675277  0.43131647 0.47670188 0.4675277  0.43131647\n",
      "        nan        nan        nan        nan        nan        nan\n",
      "        nan        nan        nan        nan        nan        nan\n",
      "        nan        nan        nan        nan        nan        nan\n",
      " 0.47843146 0.47175085 0.43582652 0.47843146 0.47175085 0.43582652\n",
      " 0.47843146 0.47175085 0.43582652 0.47439336 0.46834994 0.43382906\n",
      " 0.47439336 0.46834994 0.43382906 0.47439336 0.46834994 0.43382906]\n",
      "  warnings.warn(\n"
     ]
    },
    {
     "data": {
      "text/plain": [
       "GridSearchCV(cv=3,\n",
       "             estimator=Pipeline(steps=[('vect', CountVectorizer()),\n",
       "                                       ('tfidf', TfidfTransformer()),\n",
       "                                       ('clf', LogisticRegression())]),\n",
       "             n_jobs=-1,\n",
       "             param_grid={'clf__C': array([1.e-03, 1.e-02, 1.e-01, 1.e+00, 1.e+01, 1.e+02, 1.e+03]),\n",
       "                         'clf__penalty': ['l1', 'l2'],\n",
       "                         'tfidf__use_idf': (True, False),\n",
       "                         'vect__analyzer': ['word'],\n",
       "                         'vect__max_df': (0.5, 0.75, 1.0),\n",
       "                         'vect__ngram_range': [(1, 1), (2, 2), (3, 3)]},\n",
       "             refit='accuracy', scoring=['accuracy', 'f1'], verbose=1)"
      ]
     },
     "execution_count": 132,
     "metadata": {},
     "output_type": "execute_result"
    }
   ],
   "source": [
    "grid_tf_idf.fit(X_train, y_train)"
   ]
  },
  {
   "cell_type": "code",
   "execution_count": 133,
   "id": "2e14a148",
   "metadata": {},
   "outputs": [
    {
     "name": "stdout",
     "output_type": "stream",
     "text": [
      "Best score: 0.649\n"
     ]
    }
   ],
   "source": [
    "# print(grid_tf_idf.best_estimator_)\n",
    "print(\"Best score: %0.3f\" % grid_tf_idf.best_score_)"
   ]
  },
  {
   "cell_type": "code",
   "execution_count": 134,
   "id": "ea43798f",
   "metadata": {},
   "outputs": [],
   "source": [
    "predictions=grid_tf_idf.best_estimator_.predict(X_test)\n"
   ]
  },
  {
   "cell_type": "code",
   "execution_count": 135,
   "id": "47bfac17",
   "metadata": {},
   "outputs": [
    {
     "name": "stdout",
     "output_type": "stream",
     "text": [
      "Precision:   0.76\n",
      "Recall:      0.65\n",
      "F1_score:    0.61\n",
      "Accuracy:    0.65\n"
     ]
    }
   ],
   "source": [
    "print(\"Precision: {0:6.2f}\".format(precision_score(y_test, predictions, average='macro')))\n",
    "print(\"Recall:    {0:6.2f}\".format(recall_score(y_test, predictions, average='macro')))\n",
    "print(\"F1_score:  {0:6.2f}\".format(f1_score(y_test, predictions, average='macro')))\n",
    "print(\"Accuracy:  {0:6.2f}\".format(accuracy_score(y_test, predictions)))"
   ]
  },
  {
   "cell_type": "code",
   "execution_count": 136,
   "id": "42c2dbeb",
   "metadata": {},
   "outputs": [
    {
     "name": "stdout",
     "output_type": "stream",
     "text": [
      "              precision    recall  f1-score   support\n",
      "\n",
      "         1.0       0.93      0.33      0.48      2966\n",
      "         5.0       0.60      0.98      0.74      3034\n",
      "\n",
      "    accuracy                           0.65      6000\n",
      "   macro avg       0.76      0.65      0.61      6000\n",
      "weighted avg       0.76      0.65      0.61      6000\n",
      "\n"
     ]
    }
   ],
   "source": [
    "print(classification_report(y_test, predictions))"
   ]
  },
  {
   "cell_type": "code",
   "execution_count": 137,
   "id": "3324741b",
   "metadata": {},
   "outputs": [
    {
     "data": {
      "image/png": "[encoded data removed]",
      "text/plain": [
       "<Figure size 576x432 with 1 Axes>"
      ]
     },
     "metadata": {
      "needs_background": "light"
     },
     "output_type": "display_data"
    }
   ],
   "source": [
    "labels = grid_tf_idf.best_estimator_.classes_\n",
    "\n",
    "sns.heatmap(\n",
    "    data=confusion_matrix(y_test, predictions), \n",
    "    annot=True, \n",
    "    fmt=\"d\", \n",
    "    cbar=False, \n",
    "    xticklabels=labels, \n",
    "    yticklabels=labels\n",
    ")\n",
    "\n",
    "plt.title(\"Confusion matrix\")\n",
    "plt.show()"
   ]
  },
  {
   "cell_type": "markdown",
   "id": "cb2fea35",
   "metadata": {},
   "source": [
    "### Cингулярное разложение\n",
    "\n"
   ]
  },
  {
   "cell_type": "code",
   "execution_count": 138,
   "id": "3118964b",
   "metadata": {},
   "outputs": [],
   "source": [
    "clf_tf_idf_TruncatedSVD = Pipeline(\n",
    "    [('vect', CountVectorizer()),\n",
    "     ('tfidf', TfidfTransformer()),\n",
    "     ('tsvd', TruncatedSVD()),\n",
    "     ('clf', LogisticRegression())]\n",
    ")\n",
    "\n",
    "params_tf_idf_TruncatedSVD={\n",
    "    'vect__analyzer': ['word'],\n",
    "    'vect__ngram_range': [(1, 1), (2, 2), (3, 3)],\n",
    "    'tsvd__n_components': [5, 10, 25, 50, 100],\n",
    "    'clf__C': np.logspace(-3, 3, 7),\n",
    "    'clf__penalty': ['l1', 'l2']\n",
    "}\n",
    "\n",
    "scores=['accuracy','f1']"
   ]
  },
  {
   "cell_type": "code",
   "execution_count": 139,
   "id": "c4560817",
   "metadata": {},
   "outputs": [],
   "source": [
    "grid_tf_idf_TruncatedSVD = GridSearchCV(\n",
    "    clf_tf_idf_TruncatedSVD, \n",
    "    param_grid=params_tf_idf_TruncatedSVD, \n",
    "    cv=3,\n",
    "    scoring=scores,\n",
    "    refit=scores[0],\n",
    "    n_jobs=-1, \n",
    "    verbose=1\n",
    ")"
   ]
  },
  {
   "cell_type": "code",
   "execution_count": 140,
   "id": "ab4b4d80",
   "metadata": {},
   "outputs": [
    {
     "name": "stdout",
     "output_type": "stream",
     "text": [
      "Fitting 3 folds for each of 210 candidates, totalling 630 fits\n"
     ]
    },
    {
     "name": "stderr",
     "output_type": "stream",
     "text": [
      "C:\\Users\\SD\\anaconda3\\lib\\site-packages\\sklearn\\model_selection\\_search.py:918: UserWarning: One or more of the test scores are non-finite: [       nan        nan        nan        nan        nan        nan\n",
      "        nan        nan        nan        nan        nan        nan\n",
      "        nan        nan        nan 0.50242857 0.50242857 0.50242857\n",
      " 0.50242857 0.50242857 0.50242857 0.50278571 0.50242857 0.50242857\n",
      " 0.50278571 0.50242857 0.50242857 0.50285714 0.50242857 0.50242857\n",
      "        nan        nan        nan        nan        nan        nan\n",
      "        nan        nan        nan        nan        nan        nan\n",
      "        nan        nan        nan 0.57357118 0.5044285  0.50242857\n",
      " 0.57628545 0.50414282 0.50242857 0.58049982 0.5062143  0.50242857\n",
      " 0.58078559 0.50764282 0.50242857 0.5815713  0.50828577 0.50242857\n",
      "        nan        nan        nan        nan        nan        nan\n",
      "        nan        nan        nan        nan        nan        nan\n",
      "        nan        nan        nan 0.60035692 0.59049974 0.50550033\n",
      " 0.61042828 0.59442847 0.50457153 0.62121431 0.6024286  0.50721432\n",
      " 0.62342853 0.60635729 0.51107148 0.62471423 0.60814296 0.51514294\n",
      "        nan        nan        nan        nan        nan        nan\n",
      "        nan        nan        nan        nan        nan        nan\n",
      "        nan        nan        nan 0.60885693 0.59964258 0.52278626\n",
      " 0.62142838 0.60642847 0.53128849 0.63671433 0.61499991 0.58185705\n",
      " 0.63942856 0.61857141 0.59092808 0.64164278 0.62250004 0.59464253\n",
      "        nan        nan        nan        nan        nan        nan\n",
      "        nan        nan        nan        nan        nan        nan\n",
      "        nan        nan        nan 0.60914258 0.60371397 0.54971122\n",
      " 0.62135691 0.61249983 0.57342907 0.64071429 0.62121431 0.58114343\n",
      " 0.64392849 0.62599996 0.59185678 0.64635719 0.63007145 0.59671433\n",
      "        nan        nan        nan        nan        nan        nan\n",
      "        nan        nan        nan        nan        nan        nan\n",
      "        nan        nan        nan 0.60892829 0.60614265 0.56764262\n",
      " 0.62192836 0.61192854 0.56949978 0.64042855 0.62114272 0.57950061\n",
      " 0.64428566 0.62878587 0.58949981 0.64678578 0.63335715 0.59349949\n",
      "        nan        nan        nan        nan        nan        nan\n",
      "        nan        nan        nan        nan        nan        nan\n",
      "        nan        nan        nan 0.60921399 0.60649963 0.57521449\n",
      " 0.62149977 0.61228572 0.57435688 0.63985723 0.62478559 0.58085697\n",
      " 0.64335708 0.63021411 0.58528611 0.64657146 0.63285716 0.59421438]\n",
      "  warnings.warn(\n",
      "C:\\Users\\SD\\anaconda3\\lib\\site-packages\\sklearn\\model_selection\\_search.py:918: UserWarning: One or more of the test scores are non-finite: [       nan        nan        nan        nan        nan        nan\n",
      "        nan        nan        nan        nan        nan        nan\n",
      "        nan        nan        nan 0.6688219  0.6688219  0.6688219\n",
      " 0.6688219  0.6688219  0.6688219  0.66898093 0.6688219  0.6688219\n",
      " 0.66898093 0.6688219  0.6688219  0.66901275 0.6688219  0.6688219\n",
      "        nan        nan        nan        nan        nan        nan\n",
      "        nan        nan        nan        nan        nan        nan\n",
      "        nan        nan        nan 0.43870333 0.66958772 0.6688219\n",
      " 0.44069968 0.6695546  0.6688219  0.44411064 0.67051166 0.6688219\n",
      " 0.44427746 0.67115159 0.6688219  0.44474166 0.6714397  0.6688219\n",
      "        nan        nan        nan        nan        nan        nan\n",
      "        nan        nan        nan        nan        nan        nan\n",
      "        nan        nan        nan 0.43909547 0.43833157 0.66975401\n",
      " 0.44852693 0.4416918  0.66968319 0.46287654 0.45010981 0.67033073\n",
      " 0.46531112 0.45397958 0.67200069 0.46702777 0.45618647 0.67393594\n",
      "        nan        nan        nan        nan        nan        nan\n",
      "        nan        nan        nan        nan        nan        nan\n",
      "        nan        nan        nan 0.43004074 0.43054801 0.6686632\n",
      " 0.44640378 0.43866808 0.58173139 0.46787711 0.44932138 0.41748886\n",
      " 0.47218317 0.45487606 0.42006913 0.47493174 0.45999245 0.42167117\n",
      "        nan        nan        nan        nan        nan        nan\n",
      "        nan        nan        nan        nan        nan        nan\n",
      "        nan        nan        nan 0.42578847 0.42732987 0.47475909\n",
      " 0.44191258 0.43810809 0.39643175 0.46996453 0.44903567 0.39784051\n",
      " 0.47443193 0.4559424  0.410552   0.47713483 0.46214504 0.41273052\n",
      "        nan        nan        nan        nan        nan        nan\n",
      "        nan        nan        nan        nan        nan        nan\n",
      "        nan        nan        nan 0.42529174 0.42812452 0.37590392\n",
      " 0.44217225 0.43493787 0.39917128 0.46752282 0.4469009  0.3943918\n",
      " 0.47279224 0.45723469 0.40620913 0.47555591 0.46301921 0.41067237\n",
      "        nan        nan        nan        nan        nan        nan\n",
      "        nan        nan        nan        nan        nan        nan\n",
      "        nan        nan        nan 0.42546815 0.42715454 0.38885813\n",
      " 0.44153644 0.43704729 0.39505578 0.46701183 0.45138421 0.39429309\n",
      " 0.4715827  0.45738894 0.40215953 0.47484731 0.45974393 0.41415362]\n",
      "  warnings.warn(\n"
     ]
    },
    {
     "data": {
      "text/plain": [
       "GridSearchCV(cv=3,\n",
       "             estimator=Pipeline(steps=[('vect', CountVectorizer()),\n",
       "                                       ('tfidf', TfidfTransformer()),\n",
       "                                       ('tsvd', TruncatedSVD()),\n",
       "                                       ('clf', LogisticRegression())]),\n",
       "             n_jobs=-1,\n",
       "             param_grid={'clf__C': array([1.e-03, 1.e-02, 1.e-01, 1.e+00, 1.e+01, 1.e+02, 1.e+03]),\n",
       "                         'clf__penalty': ['l1', 'l2'],\n",
       "                         'tsvd__n_components': [5, 10, 25, 50, 100],\n",
       "                         'vect__analyzer': ['word'],\n",
       "                         'vect__ngram_range': [(1, 1), (2, 2), (3, 3)]},\n",
       "             refit='accuracy', scoring=['accuracy', 'f1'], verbose=1)"
      ]
     },
     "execution_count": 140,
     "metadata": {},
     "output_type": "execute_result"
    }
   ],
   "source": [
    "grid_tf_idf_TruncatedSVD.fit(X_train, y_train)\n"
   ]
  },
  {
   "cell_type": "code",
   "execution_count": 141,
   "id": "19fc0b2f",
   "metadata": {},
   "outputs": [
    {
     "name": "stdout",
     "output_type": "stream",
     "text": [
      "Best score: 0.647\n"
     ]
    }
   ],
   "source": [
    "# print(grid_tf_idf_TruncatedSVD.best_estimator_)\n",
    "print(\"Best score: %0.3f\" % grid_tf_idf_TruncatedSVD.best_score_)"
   ]
  },
  {
   "cell_type": "code",
   "execution_count": 142,
   "id": "31137946",
   "metadata": {},
   "outputs": [],
   "source": [
    "predictions=grid_tf_idf_TruncatedSVD.best_estimator_.predict(X_test)\n"
   ]
  },
  {
   "cell_type": "code",
   "execution_count": 143,
   "id": "24f581d5",
   "metadata": {},
   "outputs": [
    {
     "name": "stdout",
     "output_type": "stream",
     "text": [
      "Precision:   0.76\n",
      "Recall:      0.65\n",
      "F1_score:    0.61\n",
      "Accuracy:    0.65\n"
     ]
    }
   ],
   "source": [
    "print(\"Precision: {0:6.2f}\".format(precision_score(y_test, predictions, average='macro')))\n",
    "print(\"Recall:    {0:6.2f}\".format(recall_score(y_test, predictions, average='macro')))\n",
    "print(\"F1_score:  {0:6.2f}\".format(f1_score(y_test, predictions, average='macro')))\n",
    "print(\"Accuracy:  {0:6.2f}\".format(accuracy_score(y_test, predictions)))"
   ]
  },
  {
   "cell_type": "code",
   "execution_count": 144,
   "id": "fb80f518",
   "metadata": {},
   "outputs": [
    {
     "name": "stdout",
     "output_type": "stream",
     "text": [
      "              precision    recall  f1-score   support\n",
      "\n",
      "         1.0       0.93      0.32      0.48      2966\n",
      "         5.0       0.59      0.98      0.74      3034\n",
      "\n",
      "    accuracy                           0.65      6000\n",
      "   macro avg       0.76      0.65      0.61      6000\n",
      "weighted avg       0.76      0.65      0.61      6000\n",
      "\n"
     ]
    }
   ],
   "source": [
    "print(classification_report(y_test, predictions))\n"
   ]
  },
  {
   "cell_type": "code",
   "execution_count": 145,
   "id": "5f681576",
   "metadata": {},
   "outputs": [
    {
     "data": {
      "image/png": "[encoded data removed]",
      "text/plain": [
       "<Figure size 576x432 with 1 Axes>"
      ]
     },
     "metadata": {
      "needs_background": "light"
     },
     "output_type": "display_data"
    }
   ],
   "source": [
    "labels = grid_tf_idf_TruncatedSVD.best_estimator_.classes_\n",
    "\n",
    "sns.heatmap(\n",
    "    data=confusion_matrix(y_test, predictions), \n",
    "    annot=True, \n",
    "    fmt=\"d\", \n",
    "    cbar=False, \n",
    "    xticklabels=labels, \n",
    "    yticklabels=labels\n",
    ")\n",
    "\n",
    "plt.title(\"Confusion matrix\")\n",
    "plt.show()"
   ]
  },
  {
   "cell_type": "markdown",
   "id": "8c1ec0eb",
   "metadata": {},
   "source": [
    "### 2-ой вариант\n",
    "LDA"
   ]
  },
  {
   "cell_type": "code",
   "execution_count": 157,
   "id": "350e404a",
   "metadata": {},
   "outputs": [],
   "source": [
    "clf_tf_idf_LDA = Pipeline(\n",
    "    [('vect', CountVectorizer()),\n",
    "     ('lda', LatentDirichletAllocation()),\n",
    "     ('clf', LogisticRegression(C=1, penalty='l1', solver='liblinear'))]\n",
    ")\n",
    "\n",
    "params_tf_idf_LDA={\n",
    "    'vect__analyzer': ['word'],\n",
    "    'vect__max_df': [0.75],\n",
    "    'vect__ngram_range': [(1, 1)],\n",
    "    'lda__n_components' : [25, 50, 100],\n",
    "    'clf__C': np.logspace(-3, 3, 7),\n",
    "    'clf__penalty': ['l1']\n",
    "}\n",
    "\n",
    "scores=['accuracy', 'f1']"
   ]
  },
  {
   "cell_type": "code",
   "execution_count": 158,
   "id": "e48d3d02",
   "metadata": {},
   "outputs": [],
   "source": [
    "grid_tf_idf_LDA = GridSearchCV(\n",
    "    clf_tf_idf_LDA, \n",
    "    param_grid=params_tf_idf_LDA, \n",
    "    cv=3,\n",
    "    scoring=scores,\n",
    "    refit=scores[0],\n",
    "    n_jobs=-1, \n",
    "    verbose=1\n",
    ")"
   ]
  },
  {
   "cell_type": "code",
   "execution_count": 159,
   "id": "f04e872c",
   "metadata": {},
   "outputs": [
    {
     "name": "stdout",
     "output_type": "stream",
     "text": [
      "Fitting 3 folds for each of 21 candidates, totalling 63 fits\n"
     ]
    },
    {
     "data": {
      "text/plain": [
       "GridSearchCV(cv=3,\n",
       "             estimator=Pipeline(steps=[('vect', CountVectorizer()),\n",
       "                                       ('lda', LatentDirichletAllocation()),\n",
       "                                       ('clf',\n",
       "                                        LogisticRegression(C=1, penalty='l1',\n",
       "                                                           solver='liblinear'))]),\n",
       "             n_jobs=-1,\n",
       "             param_grid={'clf__C': array([1.e-03, 1.e-02, 1.e-01, 1.e+00, 1.e+01, 1.e+02, 1.e+03]),\n",
       "                         'clf__penalty': ['l1'],\n",
       "                         'lda__n_components': [25, 50, 100],\n",
       "                         'vect__analyzer': ['word'], 'vect__max_df': [0.75],\n",
       "                         'vect__ngram_range': [(1, 1)]},\n",
       "             refit='accuracy', scoring=['accuracy', 'f1'], verbose=1)"
      ]
     },
     "execution_count": 159,
     "metadata": {},
     "output_type": "execute_result"
    }
   ],
   "source": [
    "grid_tf_idf_LDA.fit(X_train, y_train)\n"
   ]
  },
  {
   "cell_type": "code",
   "execution_count": 160,
   "id": "f483f8f0",
   "metadata": {},
   "outputs": [
    {
     "name": "stdout",
     "output_type": "stream",
     "text": [
      "Best score: 0.636\n"
     ]
    }
   ],
   "source": [
    "# print(grid_tf_idf_LDA.best_estimator_)\n",
    "print(\"Best score: %0.3f\" % grid_tf_idf_LDA.best_score_)"
   ]
  },
  {
   "cell_type": "code",
   "execution_count": 161,
   "id": "ed90ff4e",
   "metadata": {},
   "outputs": [],
   "source": [
    "predictions=grid_tf_idf_LDA.best_estimator_.predict(X_test)\n"
   ]
  },
  {
   "cell_type": "code",
   "execution_count": 162,
   "id": "93fc3b9a",
   "metadata": {},
   "outputs": [
    {
     "name": "stdout",
     "output_type": "stream",
     "text": [
      "Precision:   0.74\n",
      "Recall:      0.64\n",
      "F1_score:    0.60\n",
      "Accuracy:    0.64\n"
     ]
    }
   ],
   "source": [
    "print(\"Precision: {0:6.2f}\".format(precision_score(y_test, predictions, average='macro')))\n",
    "print(\"Recall:    {0:6.2f}\".format(recall_score(y_test, predictions, average='macro')))\n",
    "print(\"F1_score:  {0:6.2f}\".format(f1_score(y_test, predictions, average='macro')))\n",
    "print(\"Accuracy:  {0:6.2f}\".format(accuracy_score(y_test, predictions)))"
   ]
  },
  {
   "cell_type": "code",
   "execution_count": 163,
   "id": "903f1ec2",
   "metadata": {},
   "outputs": [
    {
     "name": "stdout",
     "output_type": "stream",
     "text": [
      "              precision    recall  f1-score   support\n",
      "\n",
      "         1.0       0.90      0.31      0.46      2966\n",
      "         5.0       0.59      0.97      0.73      3034\n",
      "\n",
      "    accuracy                           0.64      6000\n",
      "   macro avg       0.74      0.64      0.60      6000\n",
      "weighted avg       0.74      0.64      0.60      6000\n",
      "\n"
     ]
    }
   ],
   "source": [
    "print(classification_report(y_test, predictions))\n"
   ]
  },
  {
   "cell_type": "code",
   "execution_count": 164,
   "id": "ccf1c34a",
   "metadata": {},
   "outputs": [
    {
     "data": {
      "image/png": "[encoded data removed]",
      "text/plain": [
       "<Figure size 576x432 with 1 Axes>"
      ]
     },
     "metadata": {
      "needs_background": "light"
     },
     "output_type": "display_data"
    }
   ],
   "source": [
    "labels = grid_tf_idf_LDA.best_estimator_.classes_\n",
    "\n",
    "sns.heatmap(\n",
    "    data=confusion_matrix(y_test, predictions), \n",
    "    annot=True, \n",
    "    fmt=\"d\", \n",
    "    cbar=False,\n",
    "    xticklabels=labels,\n",
    "    yticklabels=labels\n",
    ")\n",
    "\n",
    "plt.title(\"Confusion matrix\")\n",
    "plt.show()"
   ]
  },
  {
   "cell_type": "markdown",
   "id": "1ca84364",
   "metadata": {},
   "source": [
    "## Итого:\n"
   ]
  },
  {
   "cell_type": "code",
   "execution_count": 165,
   "id": "c15d35db",
   "metadata": {},
   "outputs": [
    {
     "name": "stdout",
     "output_type": "stream",
     "text": [
      "cntv\n",
      "f1_score:  0.607\n",
      "Accuracy:  0.607\n",
      "\n",
      "\n",
      "tf_idf\n",
      "f1_score:  0.611\n",
      "Accuracy:  0.611\n",
      "\n",
      "\n",
      "tf_idf_TruncatedSVD\n",
      "f1_score:  0.607\n",
      "Accuracy:  0.607\n",
      "\n",
      "\n",
      "tf_idf_LDA\n",
      "f1_score:  0.597\n",
      "Accuracy:  0.597\n",
      "\n",
      "\n"
     ]
    }
   ],
   "source": [
    "models=['grid_cntv', 'grid_tf_idf', 'grid_tf_idf_TruncatedSVD', 'grid_tf_idf_LDA']\n",
    "\n",
    "for model in models:\n",
    "    print(model[5:])\n",
    "    predictions=eval(model).best_estimator_.predict(X_test)\n",
    "    print(\"f1_score: {0:6.3f}\\nAccuracy: {0:6.3f}\\n\\n\".format(\n",
    "        f1_score(y_test, predictions, average='macro'), \n",
    "        accuracy_score(y_test, predictions)))"
   ]
  },
  {
   "cell_type": "markdown",
   "id": "9ad92ffd",
   "metadata": {},
   "source": [
    "𝑡𝑓−𝑖𝑑𝑓 наиболее удачная модель\n",
    "\n"
   ]
  },
  {
   "cell_type": "code",
   "execution_count": 166,
   "id": "bf17a63f",
   "metadata": {},
   "outputs": [],
   "source": [
    "pass"
   ]
  },
  {
   "cell_type": "code",
   "execution_count": null,
   "id": "0b134849",
   "metadata": {},
   "outputs": [],
   "source": []
  },
  {
   "cell_type": "code",
   "execution_count": null,
   "id": "f9eb3844",
   "metadata": {},
   "outputs": [],
   "source": []
  }
 ],
 "metadata": {
  "kernelspec": {
   "display_name": "Python 3",
   "language": "python",
   "name": "python3"
  },
  "language_info": {
   "codemirror_mode": {
    "name": "ipython",
    "version": 3
   },
   "file_extension": ".py",
   "mimetype": "text/x-python",
   "name": "python",
   "nbconvert_exporter": "python",
   "pygments_lexer": "ipython3",
   "version": "3.8.8"
  }
 },
 "nbformat": 4,
 "nbformat_minor": 5
}
