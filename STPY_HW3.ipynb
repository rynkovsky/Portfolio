{
 "cells": [
  {
   "cell_type": "code",
   "execution_count": 3,
   "id": "55f2e099",
   "metadata": {},
   "outputs": [
    {
     "name": "stdout",
     "output_type": "stream",
     "text": [
      "802608 0.802608\n"
     ]
    }
   ],
   "source": [
    "import numpy as np\n",
    "trials = 1000000\n",
    "s = 0\n",
    "for i in range(trials):\n",
    "    random_score = np.random.randint(0, 1000)\n",
    "    if random_score == 777:\n",
    "        s += 200\n",
    "    elif random_score == 999:\n",
    "        s += 100\n",
    "    elif random_score == 555:\n",
    "        s += 50 \n",
    "    elif random_score == 333:\n",
    "        s += 15\n",
    "    elif random_score == 111:\n",
    "        s += 10\n",
    "    elif random_score % 100 == 77:\n",
    "        s += 5 \n",
    "    elif random_score % 10 == 7:\n",
    "        s += 3 \n",
    "    elif random_score % 100 == 0:\n",
    "        s += 2\n",
    "    elif random_score % 10 == 0:\n",
    "        s += 1\n",
    "p = s / trials\n",
    "print (s, p)"
   ]
  },
  {
   "cell_type": "markdown",
   "id": "fa9bca17",
   "metadata": {},
   "source": [
    "Игра не выгодна. В среднем игрок теряет 20 копеек за одну игру."
   ]
  },
  {
   "cell_type": "code",
   "execution_count": null,
   "id": "fba49025",
   "metadata": {},
   "outputs": [],
   "source": []
  }
 ],
 "metadata": {
  "kernelspec": {
   "display_name": "Python 3",
   "language": "python",
   "name": "python3"
  },
  "language_info": {
   "codemirror_mode": {
    "name": "ipython",
    "version": 3
   },
   "file_extension": ".py",
   "mimetype": "text/x-python",
   "name": "python",
   "nbconvert_exporter": "python",
   "pygments_lexer": "ipython3",
   "version": "3.8.8"
  }
 },
 "nbformat": 4,
 "nbformat_minor": 5
}
