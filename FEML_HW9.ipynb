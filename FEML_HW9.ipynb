{
 "cells": [
  {
   "cell_type": "code",
   "execution_count": 2,
   "metadata": {
    "id": "zqHdTz2wPPKW"
   },
   "outputs": [],
   "source": [
    "import pandas as pd\n",
    "import numpy as np\n",
    "import seaborn as sns\n",
    "import matplotlib.pyplot as plt\n",
    "%matplotlib inline\n",
    "from sklearn.covariance import EllipticEnvelope\n",
    "from sklearn.svm import OneClassSVM\n",
    "import matplotlib.font_manager\n",
    "from sklearn import svm\n",
    "from sklearn.ensemble import IsolationForest\n",
    "import pandas as pd\n",
    "from sklearn.cluster import DBSCAN\n",
    "from sklearn import metrics\n",
    "from sklearn.datasets import make_blobs\n",
    "from sklearn.preprocessing import StandardScaler\n",
    "from sklearn.linear_model import LinearRegression\n",
    "from sklearn.model_selection import train_test_split\n",
    "from sklearn.linear_model import  Lasso\n",
    "from sklearn.linear_model import  Ridge\n",
    "from sklearn.preprocessing import StandardScaler\n",
    "import warnings\n",
    "warnings.filterwarnings('ignore')"
   ]
  },
  {
   "cell_type": "markdown",
   "metadata": {
    "id": "lvM0J0AaPPKc"
   },
   "source": [
    "## Kobe Bryant  shot selection"
   ]
  },
  {
   "cell_type": "markdown",
   "metadata": {
    "id": "hVjPZ_ukPPKc"
   },
   "source": [
    "Cсылка на соревнование: https://www.kaggle.com/c/kobe-bryant-shot-selection"
   ]
  },
  {
   "cell_type": "markdown",
   "metadata": {
    "id": "qgn5s7NFPPKd"
   },
   "source": [
    "Goal: Fun and education"
   ]
  },
  {
   "cell_type": "markdown",
   "metadata": {
    "id": "4bIkh2ACPPKd"
   },
   "source": [
    "Using 20 years of data on Kobe's swishes and misses, can you predict which shots will find the bottom of the net? This competition is well suited for practicing classification basics, feature engineering, and time series analysis. Practice got Kobe an eight-figure contract and 5 championship rings. What will it get you?"
   ]
  },
  {
   "cell_type": "markdown",
   "metadata": {
    "id": "JYgEsdafPPKd"
   },
   "source": [
    "This data contains the location and circumstances of every field goal attempted by Kobe Bryant took during his 20-year career. Your task is to predict whether the basket went in (shot_made_flag).\n",
    "\n",
    "We have removed 5000 of the shot_made_flags (represented as missing values in the csv file). These are the test set shots for which you must submit a prediction. You are provided a sample submission file with the correct shot_ids needed for a valid prediction."
   ]
  },
  {
   "cell_type": "code",
   "execution_count": 3,
   "metadata": {
    "id": "LVq90rI-PPKe"
   },
   "outputs": [],
   "source": [
    "data = pd.read_csv('E:\\\\Python\\\\AML\\\\HW9\\\\Kobe.csv')"
   ]
  },
  {
   "cell_type": "code",
   "execution_count": 4,
   "metadata": {
    "id": "S6q19ap7PPKe",
    "outputId": "54cc12f8-335a-40d1-c820-b3030b3129af"
   },
   "outputs": [
    {
     "data": {
      "text/html": [
       "<div>\n",
       "<style scoped>\n",
       "    .dataframe tbody tr th:only-of-type {\n",
       "        vertical-align: middle;\n",
       "    }\n",
       "\n",
       "    .dataframe tbody tr th {\n",
       "        vertical-align: top;\n",
       "    }\n",
       "\n",
       "    .dataframe thead th {\n",
       "        text-align: right;\n",
       "    }\n",
       "</style>\n",
       "<table border=\"1\" class=\"dataframe\">\n",
       "  <thead>\n",
       "    <tr style=\"text-align: right;\">\n",
       "      <th></th>\n",
       "      <th>action_type</th>\n",
       "      <th>combined_shot_type</th>\n",
       "      <th>game_event_id</th>\n",
       "      <th>game_id</th>\n",
       "      <th>lat</th>\n",
       "      <th>loc_x</th>\n",
       "      <th>loc_y</th>\n",
       "      <th>lon</th>\n",
       "      <th>minutes_remaining</th>\n",
       "      <th>period</th>\n",
       "      <th>...</th>\n",
       "      <th>shot_type</th>\n",
       "      <th>shot_zone_area</th>\n",
       "      <th>shot_zone_basic</th>\n",
       "      <th>shot_zone_range</th>\n",
       "      <th>team_id</th>\n",
       "      <th>team_name</th>\n",
       "      <th>game_date</th>\n",
       "      <th>matchup</th>\n",
       "      <th>opponent</th>\n",
       "      <th>shot_id</th>\n",
       "    </tr>\n",
       "  </thead>\n",
       "  <tbody>\n",
       "    <tr>\n",
       "      <th>0</th>\n",
       "      <td>Jump Shot</td>\n",
       "      <td>Jump Shot</td>\n",
       "      <td>10</td>\n",
       "      <td>20000012</td>\n",
       "      <td>33.9723</td>\n",
       "      <td>167</td>\n",
       "      <td>72</td>\n",
       "      <td>-118.1028</td>\n",
       "      <td>10</td>\n",
       "      <td>1</td>\n",
       "      <td>...</td>\n",
       "      <td>2PT Field Goal</td>\n",
       "      <td>Right Side(R)</td>\n",
       "      <td>Mid-Range</td>\n",
       "      <td>16-24 ft.</td>\n",
       "      <td>1610612747</td>\n",
       "      <td>Los Angeles Lakers</td>\n",
       "      <td>2000-10-31</td>\n",
       "      <td>LAL @ POR</td>\n",
       "      <td>POR</td>\n",
       "      <td>1</td>\n",
       "    </tr>\n",
       "    <tr>\n",
       "      <th>1</th>\n",
       "      <td>Jump Shot</td>\n",
       "      <td>Jump Shot</td>\n",
       "      <td>12</td>\n",
       "      <td>20000012</td>\n",
       "      <td>34.0443</td>\n",
       "      <td>-157</td>\n",
       "      <td>0</td>\n",
       "      <td>-118.4268</td>\n",
       "      <td>10</td>\n",
       "      <td>1</td>\n",
       "      <td>...</td>\n",
       "      <td>2PT Field Goal</td>\n",
       "      <td>Left Side(L)</td>\n",
       "      <td>Mid-Range</td>\n",
       "      <td>8-16 ft.</td>\n",
       "      <td>1610612747</td>\n",
       "      <td>Los Angeles Lakers</td>\n",
       "      <td>2000-10-31</td>\n",
       "      <td>LAL @ POR</td>\n",
       "      <td>POR</td>\n",
       "      <td>2</td>\n",
       "    </tr>\n",
       "    <tr>\n",
       "      <th>2</th>\n",
       "      <td>Jump Shot</td>\n",
       "      <td>Jump Shot</td>\n",
       "      <td>35</td>\n",
       "      <td>20000012</td>\n",
       "      <td>33.9093</td>\n",
       "      <td>-101</td>\n",
       "      <td>135</td>\n",
       "      <td>-118.3708</td>\n",
       "      <td>7</td>\n",
       "      <td>1</td>\n",
       "      <td>...</td>\n",
       "      <td>2PT Field Goal</td>\n",
       "      <td>Left Side Center(LC)</td>\n",
       "      <td>Mid-Range</td>\n",
       "      <td>16-24 ft.</td>\n",
       "      <td>1610612747</td>\n",
       "      <td>Los Angeles Lakers</td>\n",
       "      <td>2000-10-31</td>\n",
       "      <td>LAL @ POR</td>\n",
       "      <td>POR</td>\n",
       "      <td>3</td>\n",
       "    </tr>\n",
       "    <tr>\n",
       "      <th>3</th>\n",
       "      <td>Jump Shot</td>\n",
       "      <td>Jump Shot</td>\n",
       "      <td>43</td>\n",
       "      <td>20000012</td>\n",
       "      <td>33.8693</td>\n",
       "      <td>138</td>\n",
       "      <td>175</td>\n",
       "      <td>-118.1318</td>\n",
       "      <td>6</td>\n",
       "      <td>1</td>\n",
       "      <td>...</td>\n",
       "      <td>2PT Field Goal</td>\n",
       "      <td>Right Side Center(RC)</td>\n",
       "      <td>Mid-Range</td>\n",
       "      <td>16-24 ft.</td>\n",
       "      <td>1610612747</td>\n",
       "      <td>Los Angeles Lakers</td>\n",
       "      <td>2000-10-31</td>\n",
       "      <td>LAL @ POR</td>\n",
       "      <td>POR</td>\n",
       "      <td>4</td>\n",
       "    </tr>\n",
       "    <tr>\n",
       "      <th>4</th>\n",
       "      <td>Driving Dunk Shot</td>\n",
       "      <td>Dunk</td>\n",
       "      <td>155</td>\n",
       "      <td>20000012</td>\n",
       "      <td>34.0443</td>\n",
       "      <td>0</td>\n",
       "      <td>0</td>\n",
       "      <td>-118.2698</td>\n",
       "      <td>6</td>\n",
       "      <td>2</td>\n",
       "      <td>...</td>\n",
       "      <td>2PT Field Goal</td>\n",
       "      <td>Center(C)</td>\n",
       "      <td>Restricted Area</td>\n",
       "      <td>Less Than 8 ft.</td>\n",
       "      <td>1610612747</td>\n",
       "      <td>Los Angeles Lakers</td>\n",
       "      <td>2000-10-31</td>\n",
       "      <td>LAL @ POR</td>\n",
       "      <td>POR</td>\n",
       "      <td>5</td>\n",
       "    </tr>\n",
       "  </tbody>\n",
       "</table>\n",
       "<p>5 rows × 25 columns</p>\n",
       "</div>"
      ],
      "text/plain": [
       "         action_type combined_shot_type  game_event_id   game_id      lat  \\\n",
       "0          Jump Shot          Jump Shot             10  20000012  33.9723   \n",
       "1          Jump Shot          Jump Shot             12  20000012  34.0443   \n",
       "2          Jump Shot          Jump Shot             35  20000012  33.9093   \n",
       "3          Jump Shot          Jump Shot             43  20000012  33.8693   \n",
       "4  Driving Dunk Shot               Dunk            155  20000012  34.0443   \n",
       "\n",
       "   loc_x  loc_y       lon  minutes_remaining  period  ...       shot_type  \\\n",
       "0    167     72 -118.1028                 10       1  ...  2PT Field Goal   \n",
       "1   -157      0 -118.4268                 10       1  ...  2PT Field Goal   \n",
       "2   -101    135 -118.3708                  7       1  ...  2PT Field Goal   \n",
       "3    138    175 -118.1318                  6       1  ...  2PT Field Goal   \n",
       "4      0      0 -118.2698                  6       2  ...  2PT Field Goal   \n",
       "\n",
       "          shot_zone_area  shot_zone_basic  shot_zone_range     team_id  \\\n",
       "0          Right Side(R)        Mid-Range        16-24 ft.  1610612747   \n",
       "1           Left Side(L)        Mid-Range         8-16 ft.  1610612747   \n",
       "2   Left Side Center(LC)        Mid-Range        16-24 ft.  1610612747   \n",
       "3  Right Side Center(RC)        Mid-Range        16-24 ft.  1610612747   \n",
       "4              Center(C)  Restricted Area  Less Than 8 ft.  1610612747   \n",
       "\n",
       "            team_name   game_date    matchup opponent  shot_id  \n",
       "0  Los Angeles Lakers  2000-10-31  LAL @ POR      POR        1  \n",
       "1  Los Angeles Lakers  2000-10-31  LAL @ POR      POR        2  \n",
       "2  Los Angeles Lakers  2000-10-31  LAL @ POR      POR        3  \n",
       "3  Los Angeles Lakers  2000-10-31  LAL @ POR      POR        4  \n",
       "4  Los Angeles Lakers  2000-10-31  LAL @ POR      POR        5  \n",
       "\n",
       "[5 rows x 25 columns]"
      ]
     },
     "execution_count": 4,
     "metadata": {},
     "output_type": "execute_result"
    }
   ],
   "source": [
    "data.head()"
   ]
  },
  {
   "cell_type": "code",
   "execution_count": 5,
   "metadata": {
    "id": "mRhHolq9PPKf"
   },
   "outputs": [],
   "source": [
    "target = 'shot_made_flag'"
   ]
  },
  {
   "cell_type": "markdown",
   "metadata": {
    "id": "QthCIdDVPPKf"
   },
   "source": [
    "**Задания:**\n",
    "\n",
    "1. Провести анализ данных. Много хороших примеров анализа можно посмотреть здесь https://www.kaggle.com/c/kobe-bryant-shot-selection/kernels\n",
    "2. Подготовить фичи для обучения модели - нагенерить признаков, обработать пропущенные значения, проверить на возможные выбросы, обработать категориальные признаки и др.\n",
    "3. Обучить линейную модель, Lasso, Ridge (с встроеной регуляризацией) на тех же признаках - построить сравнительную таблицу или график коэффициентов, сделать заключения о том, как меняется величина коэффициентов, какие зануляются. \n",
    "\n",
    "**Дополнительно**\n",
    "4. Сравнить результаты на тестовом наборе данных - сделать train_test_split в самом начале, подготовить переменные, сравнить результаты работы классификаторов (те же 3), метрика ROC AUC\n",
    "5. Построить PCA на подготовленных признаках, посмотреть, какие компоненты составляют наибольшую часть дисперсии целевой переменной"
   ]
  },
  {
   "cell_type": "markdown",
   "metadata": {},
   "source": [
    "# Проводим анализ данных."
   ]
  },
  {
   "cell_type": "code",
   "execution_count": 6,
   "metadata": {
    "id": "IcdHTiXxP5al"
   },
   "outputs": [
    {
     "data": {
      "text/plain": [
       "(30697, 25)"
      ]
     },
     "execution_count": 6,
     "metadata": {},
     "output_type": "execute_result"
    }
   ],
   "source": [
    "# Size of the dataset\n",
    "\n",
    "data.shape"
   ]
  },
  {
   "cell_type": "code",
   "execution_count": 7,
   "metadata": {},
   "outputs": [
    {
     "name": "stdout",
     "output_type": "stream",
     "text": [
      "<class 'pandas.core.frame.DataFrame'>\n",
      "RangeIndex: 30697 entries, 0 to 30696\n",
      "Data columns (total 25 columns):\n",
      " #   Column              Non-Null Count  Dtype  \n",
      "---  ------              --------------  -----  \n",
      " 0   action_type         30697 non-null  object \n",
      " 1   combined_shot_type  30697 non-null  object \n",
      " 2   game_event_id       30697 non-null  int64  \n",
      " 3   game_id             30697 non-null  int64  \n",
      " 4   lat                 30697 non-null  float64\n",
      " 5   loc_x               30697 non-null  int64  \n",
      " 6   loc_y               30697 non-null  int64  \n",
      " 7   lon                 30697 non-null  float64\n",
      " 8   minutes_remaining   30697 non-null  int64  \n",
      " 9   period              30697 non-null  int64  \n",
      " 10  playoffs            30697 non-null  int64  \n",
      " 11  season              30697 non-null  object \n",
      " 12  seconds_remaining   30697 non-null  int64  \n",
      " 13  shot_distance       30697 non-null  int64  \n",
      " 14  shot_made_flag      25697 non-null  float64\n",
      " 15  shot_type           30697 non-null  object \n",
      " 16  shot_zone_area      30697 non-null  object \n",
      " 17  shot_zone_basic     30697 non-null  object \n",
      " 18  shot_zone_range     30697 non-null  object \n",
      " 19  team_id             30697 non-null  int64  \n",
      " 20  team_name           30697 non-null  object \n",
      " 21  game_date           30697 non-null  object \n",
      " 22  matchup             30697 non-null  object \n",
      " 23  opponent            30697 non-null  object \n",
      " 24  shot_id             30697 non-null  int64  \n",
      "dtypes: float64(3), int64(11), object(11)\n",
      "memory usage: 5.9+ MB\n"
     ]
    }
   ],
   "source": [
    "data.info()"
   ]
  },
  {
   "cell_type": "code",
   "execution_count": 8,
   "metadata": {},
   "outputs": [
    {
     "data": {
      "text/html": [
       "<div>\n",
       "<style scoped>\n",
       "    .dataframe tbody tr th:only-of-type {\n",
       "        vertical-align: middle;\n",
       "    }\n",
       "\n",
       "    .dataframe tbody tr th {\n",
       "        vertical-align: top;\n",
       "    }\n",
       "\n",
       "    .dataframe thead th {\n",
       "        text-align: right;\n",
       "    }\n",
       "</style>\n",
       "<table border=\"1\" class=\"dataframe\">\n",
       "  <thead>\n",
       "    <tr style=\"text-align: right;\">\n",
       "      <th></th>\n",
       "      <th>featurs</th>\n",
       "      <th>is null</th>\n",
       "    </tr>\n",
       "  </thead>\n",
       "  <tbody>\n",
       "    <tr>\n",
       "      <th>action_type</th>\n",
       "      <td>object</td>\n",
       "      <td>0</td>\n",
       "    </tr>\n",
       "    <tr>\n",
       "      <th>combined_shot_type</th>\n",
       "      <td>object</td>\n",
       "      <td>0</td>\n",
       "    </tr>\n",
       "    <tr>\n",
       "      <th>game_event_id</th>\n",
       "      <td>int64</td>\n",
       "      <td>0</td>\n",
       "    </tr>\n",
       "    <tr>\n",
       "      <th>game_id</th>\n",
       "      <td>int64</td>\n",
       "      <td>0</td>\n",
       "    </tr>\n",
       "    <tr>\n",
       "      <th>lat</th>\n",
       "      <td>float64</td>\n",
       "      <td>0</td>\n",
       "    </tr>\n",
       "    <tr>\n",
       "      <th>loc_x</th>\n",
       "      <td>int64</td>\n",
       "      <td>0</td>\n",
       "    </tr>\n",
       "    <tr>\n",
       "      <th>loc_y</th>\n",
       "      <td>int64</td>\n",
       "      <td>0</td>\n",
       "    </tr>\n",
       "    <tr>\n",
       "      <th>lon</th>\n",
       "      <td>float64</td>\n",
       "      <td>0</td>\n",
       "    </tr>\n",
       "    <tr>\n",
       "      <th>minutes_remaining</th>\n",
       "      <td>int64</td>\n",
       "      <td>0</td>\n",
       "    </tr>\n",
       "    <tr>\n",
       "      <th>period</th>\n",
       "      <td>int64</td>\n",
       "      <td>0</td>\n",
       "    </tr>\n",
       "    <tr>\n",
       "      <th>playoffs</th>\n",
       "      <td>int64</td>\n",
       "      <td>0</td>\n",
       "    </tr>\n",
       "    <tr>\n",
       "      <th>season</th>\n",
       "      <td>object</td>\n",
       "      <td>0</td>\n",
       "    </tr>\n",
       "    <tr>\n",
       "      <th>seconds_remaining</th>\n",
       "      <td>int64</td>\n",
       "      <td>0</td>\n",
       "    </tr>\n",
       "    <tr>\n",
       "      <th>shot_distance</th>\n",
       "      <td>int64</td>\n",
       "      <td>0</td>\n",
       "    </tr>\n",
       "    <tr>\n",
       "      <th>shot_made_flag</th>\n",
       "      <td>float64</td>\n",
       "      <td>5000</td>\n",
       "    </tr>\n",
       "    <tr>\n",
       "      <th>shot_type</th>\n",
       "      <td>object</td>\n",
       "      <td>0</td>\n",
       "    </tr>\n",
       "    <tr>\n",
       "      <th>shot_zone_area</th>\n",
       "      <td>object</td>\n",
       "      <td>0</td>\n",
       "    </tr>\n",
       "    <tr>\n",
       "      <th>shot_zone_basic</th>\n",
       "      <td>object</td>\n",
       "      <td>0</td>\n",
       "    </tr>\n",
       "    <tr>\n",
       "      <th>shot_zone_range</th>\n",
       "      <td>object</td>\n",
       "      <td>0</td>\n",
       "    </tr>\n",
       "    <tr>\n",
       "      <th>team_id</th>\n",
       "      <td>int64</td>\n",
       "      <td>0</td>\n",
       "    </tr>\n",
       "    <tr>\n",
       "      <th>team_name</th>\n",
       "      <td>object</td>\n",
       "      <td>0</td>\n",
       "    </tr>\n",
       "    <tr>\n",
       "      <th>game_date</th>\n",
       "      <td>object</td>\n",
       "      <td>0</td>\n",
       "    </tr>\n",
       "    <tr>\n",
       "      <th>matchup</th>\n",
       "      <td>object</td>\n",
       "      <td>0</td>\n",
       "    </tr>\n",
       "    <tr>\n",
       "      <th>opponent</th>\n",
       "      <td>object</td>\n",
       "      <td>0</td>\n",
       "    </tr>\n",
       "    <tr>\n",
       "      <th>shot_id</th>\n",
       "      <td>int64</td>\n",
       "      <td>0</td>\n",
       "    </tr>\n",
       "  </tbody>\n",
       "</table>\n",
       "</div>"
      ],
      "text/plain": [
       "                    featurs  is null\n",
       "action_type          object        0\n",
       "combined_shot_type   object        0\n",
       "game_event_id         int64        0\n",
       "game_id               int64        0\n",
       "lat                 float64        0\n",
       "loc_x                 int64        0\n",
       "loc_y                 int64        0\n",
       "lon                 float64        0\n",
       "minutes_remaining     int64        0\n",
       "period                int64        0\n",
       "playoffs              int64        0\n",
       "season               object        0\n",
       "seconds_remaining     int64        0\n",
       "shot_distance         int64        0\n",
       "shot_made_flag      float64     5000\n",
       "shot_type            object        0\n",
       "shot_zone_area       object        0\n",
       "shot_zone_basic      object        0\n",
       "shot_zone_range      object        0\n",
       "team_id               int64        0\n",
       "team_name            object        0\n",
       "game_date            object        0\n",
       "matchup              object        0\n",
       "opponent             object        0\n",
       "shot_id               int64        0"
      ]
     },
     "execution_count": 8,
     "metadata": {},
     "output_type": "execute_result"
    }
   ],
   "source": [
    "# типы данных и количество нулевых значений\n",
    "pd.DataFrame(data = {\"featurs\":data.dtypes.values,\n",
    "                     \"is null\":data.isnull().sum().values},\n",
    "             index = data.dtypes.index)"
   ]
  },
  {
   "cell_type": "code",
   "execution_count": 9,
   "metadata": {},
   "outputs": [],
   "source": [
    "Shots_to_predict = data[data['shot_made_flag'].isnull()]\n",
    "Shots_to_train = data[data['shot_made_flag'].notna()]"
   ]
  },
  {
   "cell_type": "code",
   "execution_count": 10,
   "metadata": {},
   "outputs": [],
   "source": [
    "def get_boxplot(X, columns=[]):\n",
    "    for i in columns:\n",
    "        sns.boxplot(x=X[i])\n",
    "    pass  \n",
    "\n",
    "def get_pairplot(X, columns=None):\n",
    "    if columns is None:\n",
    "        columns = list(X.columns)\n",
    "    sns.pairplot(X[columns])\n",
    "    pass  "
   ]
  },
  {
   "cell_type": "code",
   "execution_count": 11,
   "metadata": {},
   "outputs": [],
   "source": [
    "def get_value(X, column, mode='mean', value=0, columns_for_reg=None):\n",
    "  if mode == 'value':\n",
    "    X.loc[X[X[column].isna()].index ,column] = value\n",
    "  elif mode == 'max':\n",
    "    X.loc[X[X[column].isna()].index ,column] = X[column].max()\n",
    "  elif mode == 'min':\n",
    "    X.loc[X[X[column].isna()].index ,column] = X[column].min()\n",
    "  elif mode == 'median':\n",
    "    X.loc[X[X[column].isna()].index ,column] = X[column].median()    \n",
    "  elif mode == 'mode':\n",
    "    X.loc[X[X[column].isna()].index, column] = X[column].mode()[0]  \n",
    "  elif mode == 'indicator':\n",
    "    X.loc[X[X[column].isna()].index, column] = 0\n",
    "    X['ind_'+str(column)] = 1\n",
    "    X.loc[X[X[column].isna()].index, 'ind_'+str(column)] = 0\n",
    "  elif mode == 'linreg':\n",
    "    if columns_for_reg is None:\n",
    "      cols = list(X.select_dtypes([np.number]).columns) \n",
    "      cols.remove(column)\n",
    "    X_tmp = X.dropna()  \n",
    "    m = LinearRegression().fit(X_tmp[cols], X_tmp[column])\n",
    "    X.loc[X[X[column].isna()].index, column] = m.predict(X[X[column].isna()][cols])\n",
    "  else:\n",
    "    X.loc[X[X[column].isna()].index, column] = X[column].mean()\n",
    "  return X  "
   ]
  },
  {
   "cell_type": "code",
   "execution_count": 12,
   "metadata": {},
   "outputs": [],
   "source": [
    "def get_one_hot(X, cols):\n",
    "    for each in cols:\n",
    "        dummies = pd.get_dummies(X[each], prefix=each, drop_first=False)\n",
    "        X = pd.concat([X, dummies], axis=1)\n",
    "    return X"
   ]
  },
  {
   "cell_type": "code",
   "execution_count": 13,
   "metadata": {},
   "outputs": [
    {
     "data": {
      "text/plain": [
       "array(['Jump Shot', 'Driving Dunk Shot', 'Layup Shot',\n",
       "       'Running Jump Shot', 'Driving Layup Shot', 'Reverse Layup Shot',\n",
       "       'Reverse Dunk Shot', 'Slam Dunk Shot', 'Turnaround Jump Shot',\n",
       "       'Tip Shot', 'Running Hook Shot', 'Alley Oop Dunk Shot',\n",
       "       'Dunk Shot', 'Alley Oop Layup shot', 'Running Dunk Shot',\n",
       "       'Driving Finger Roll Shot', 'Running Layup Shot',\n",
       "       'Finger Roll Shot', 'Fadeaway Jump Shot', 'Follow Up Dunk Shot',\n",
       "       'Hook Shot', 'Turnaround Hook Shot', 'Running Tip Shot',\n",
       "       'Jump Hook Shot', 'Running Finger Roll Shot', 'Jump Bank Shot',\n",
       "       'Turnaround Finger Roll Shot', 'Hook Bank Shot',\n",
       "       'Driving Hook Shot', 'Running Reverse Layup Shot',\n",
       "       'Driving Finger Roll Layup Shot', 'Fadeaway Bank shot',\n",
       "       'Pullup Jump shot', 'Finger Roll Layup Shot',\n",
       "       'Turnaround Fadeaway shot', 'Driving Reverse Layup Shot',\n",
       "       'Driving Slam Dunk Shot', 'Step Back Jump shot',\n",
       "       'Reverse Slam Dunk Shot', 'Turnaround Bank shot',\n",
       "       'Running Finger Roll Layup Shot', 'Floating Jump shot',\n",
       "       'Putback Slam Dunk Shot', 'Running Bank shot', 'Driving Bank shot',\n",
       "       'Putback Layup Shot', 'Driving Jump shot', 'Putback Dunk Shot',\n",
       "       'Pullup Bank shot', 'Running Slam Dunk Shot', 'Cutting Layup Shot',\n",
       "       'Driving Floating Jump Shot', 'Running Pull-Up Jump Shot',\n",
       "       'Tip Layup Shot', 'Driving Floating Bank Jump Shot',\n",
       "       'Turnaround Fadeaway Bank Jump Shot',\n",
       "       'Cutting Finger Roll Layup Shot'], dtype=object)"
      ]
     },
     "execution_count": 13,
     "metadata": {},
     "output_type": "execute_result"
    }
   ],
   "source": [
    "data['action_type'].unique()"
   ]
  },
  {
   "cell_type": "code",
   "execution_count": 14,
   "metadata": {},
   "outputs": [
    {
     "data": {
      "text/html": [
       "<div>\n",
       "<style scoped>\n",
       "    .dataframe tbody tr th:only-of-type {\n",
       "        vertical-align: middle;\n",
       "    }\n",
       "\n",
       "    .dataframe tbody tr th {\n",
       "        vertical-align: top;\n",
       "    }\n",
       "\n",
       "    .dataframe thead th {\n",
       "        text-align: right;\n",
       "    }\n",
       "</style>\n",
       "<table border=\"1\" class=\"dataframe\">\n",
       "  <thead>\n",
       "    <tr style=\"text-align: right;\">\n",
       "      <th></th>\n",
       "      <th>action_type</th>\n",
       "      <th>combined_shot_type</th>\n",
       "      <th>game_event_id</th>\n",
       "      <th>game_id</th>\n",
       "      <th>lat</th>\n",
       "      <th>loc_x</th>\n",
       "      <th>loc_y</th>\n",
       "      <th>lon</th>\n",
       "      <th>minutes_remaining</th>\n",
       "      <th>period</th>\n",
       "      <th>...</th>\n",
       "      <th>opponent_PHI</th>\n",
       "      <th>opponent_PHX</th>\n",
       "      <th>opponent_POR</th>\n",
       "      <th>opponent_SAC</th>\n",
       "      <th>opponent_SAS</th>\n",
       "      <th>opponent_SEA</th>\n",
       "      <th>opponent_TOR</th>\n",
       "      <th>opponent_UTA</th>\n",
       "      <th>opponent_VAN</th>\n",
       "      <th>opponent_WAS</th>\n",
       "    </tr>\n",
       "  </thead>\n",
       "  <tbody>\n",
       "    <tr>\n",
       "      <th>0</th>\n",
       "      <td>Jump Shot</td>\n",
       "      <td>Jump Shot</td>\n",
       "      <td>10</td>\n",
       "      <td>20000012</td>\n",
       "      <td>33.9723</td>\n",
       "      <td>167</td>\n",
       "      <td>72</td>\n",
       "      <td>-118.1028</td>\n",
       "      <td>10</td>\n",
       "      <td>1</td>\n",
       "      <td>...</td>\n",
       "      <td>0</td>\n",
       "      <td>0</td>\n",
       "      <td>1</td>\n",
       "      <td>0</td>\n",
       "      <td>0</td>\n",
       "      <td>0</td>\n",
       "      <td>0</td>\n",
       "      <td>0</td>\n",
       "      <td>0</td>\n",
       "      <td>0</td>\n",
       "    </tr>\n",
       "    <tr>\n",
       "      <th>1</th>\n",
       "      <td>Jump Shot</td>\n",
       "      <td>Jump Shot</td>\n",
       "      <td>12</td>\n",
       "      <td>20000012</td>\n",
       "      <td>34.0443</td>\n",
       "      <td>-157</td>\n",
       "      <td>0</td>\n",
       "      <td>-118.4268</td>\n",
       "      <td>10</td>\n",
       "      <td>1</td>\n",
       "      <td>...</td>\n",
       "      <td>0</td>\n",
       "      <td>0</td>\n",
       "      <td>1</td>\n",
       "      <td>0</td>\n",
       "      <td>0</td>\n",
       "      <td>0</td>\n",
       "      <td>0</td>\n",
       "      <td>0</td>\n",
       "      <td>0</td>\n",
       "      <td>0</td>\n",
       "    </tr>\n",
       "    <tr>\n",
       "      <th>2</th>\n",
       "      <td>Jump Shot</td>\n",
       "      <td>Jump Shot</td>\n",
       "      <td>35</td>\n",
       "      <td>20000012</td>\n",
       "      <td>33.9093</td>\n",
       "      <td>-101</td>\n",
       "      <td>135</td>\n",
       "      <td>-118.3708</td>\n",
       "      <td>7</td>\n",
       "      <td>1</td>\n",
       "      <td>...</td>\n",
       "      <td>0</td>\n",
       "      <td>0</td>\n",
       "      <td>1</td>\n",
       "      <td>0</td>\n",
       "      <td>0</td>\n",
       "      <td>0</td>\n",
       "      <td>0</td>\n",
       "      <td>0</td>\n",
       "      <td>0</td>\n",
       "      <td>0</td>\n",
       "    </tr>\n",
       "    <tr>\n",
       "      <th>3</th>\n",
       "      <td>Jump Shot</td>\n",
       "      <td>Jump Shot</td>\n",
       "      <td>43</td>\n",
       "      <td>20000012</td>\n",
       "      <td>33.8693</td>\n",
       "      <td>138</td>\n",
       "      <td>175</td>\n",
       "      <td>-118.1318</td>\n",
       "      <td>6</td>\n",
       "      <td>1</td>\n",
       "      <td>...</td>\n",
       "      <td>0</td>\n",
       "      <td>0</td>\n",
       "      <td>1</td>\n",
       "      <td>0</td>\n",
       "      <td>0</td>\n",
       "      <td>0</td>\n",
       "      <td>0</td>\n",
       "      <td>0</td>\n",
       "      <td>0</td>\n",
       "      <td>0</td>\n",
       "    </tr>\n",
       "    <tr>\n",
       "      <th>4</th>\n",
       "      <td>Driving Dunk Shot</td>\n",
       "      <td>Dunk</td>\n",
       "      <td>155</td>\n",
       "      <td>20000012</td>\n",
       "      <td>34.0443</td>\n",
       "      <td>0</td>\n",
       "      <td>0</td>\n",
       "      <td>-118.2698</td>\n",
       "      <td>6</td>\n",
       "      <td>2</td>\n",
       "      <td>...</td>\n",
       "      <td>0</td>\n",
       "      <td>0</td>\n",
       "      <td>1</td>\n",
       "      <td>0</td>\n",
       "      <td>0</td>\n",
       "      <td>0</td>\n",
       "      <td>0</td>\n",
       "      <td>0</td>\n",
       "      <td>0</td>\n",
       "      <td>0</td>\n",
       "    </tr>\n",
       "  </tbody>\n",
       "</table>\n",
       "<p>5 rows × 236 columns</p>\n",
       "</div>"
      ],
      "text/plain": [
       "         action_type combined_shot_type  game_event_id   game_id      lat  \\\n",
       "0          Jump Shot          Jump Shot             10  20000012  33.9723   \n",
       "1          Jump Shot          Jump Shot             12  20000012  34.0443   \n",
       "2          Jump Shot          Jump Shot             35  20000012  33.9093   \n",
       "3          Jump Shot          Jump Shot             43  20000012  33.8693   \n",
       "4  Driving Dunk Shot               Dunk            155  20000012  34.0443   \n",
       "\n",
       "   loc_x  loc_y       lon  minutes_remaining  period  ...  opponent_PHI  \\\n",
       "0    167     72 -118.1028                 10       1  ...             0   \n",
       "1   -157      0 -118.4268                 10       1  ...             0   \n",
       "2   -101    135 -118.3708                  7       1  ...             0   \n",
       "3    138    175 -118.1318                  6       1  ...             0   \n",
       "4      0      0 -118.2698                  6       2  ...             0   \n",
       "\n",
       "  opponent_PHX  opponent_POR  opponent_SAC  opponent_SAS opponent_SEA  \\\n",
       "0            0             1             0             0            0   \n",
       "1            0             1             0             0            0   \n",
       "2            0             1             0             0            0   \n",
       "3            0             1             0             0            0   \n",
       "4            0             1             0             0            0   \n",
       "\n",
       "  opponent_TOR opponent_UTA opponent_VAN  opponent_WAS  \n",
       "0            0            0            0             0  \n",
       "1            0            0            0             0  \n",
       "2            0            0            0             0  \n",
       "3            0            0            0             0  \n",
       "4            0            0            0             0  \n",
       "\n",
       "[5 rows x 236 columns]"
      ]
     },
     "execution_count": 14,
     "metadata": {},
     "output_type": "execute_result"
    }
   ],
   "source": [
    "data_processed = get_one_hot(data, cols=['action_type', 'combined_shot_type','season', 'shot_type', 'shot_zone_area', \n",
    "                                         'shot_zone_basic', 'shot_zone_range', 'team_name', 'matchup', 'opponent'])\n",
    "data_processed.head()"
   ]
  },
  {
   "cell_type": "code",
   "execution_count": 15,
   "metadata": {},
   "outputs": [],
   "source": [
    "exclude_columns = ['action_type', 'combined_shot_type', 'season', 'shot_type', 'shot_zone_area', \n",
    "                                         'shot_zone_basic', 'shot_zone_range', 'team_name', 'matchup', 'opponent']"
   ]
  },
  {
   "cell_type": "code",
   "execution_count": 16,
   "metadata": {},
   "outputs": [],
   "source": [
    "data_processed = data_processed.drop(columns=exclude_columns)"
   ]
  },
  {
   "cell_type": "code",
   "execution_count": 17,
   "metadata": {},
   "outputs": [
    {
     "data": {
      "text/plain": [
       "<matplotlib.axes._subplots.AxesSubplot at 0x2055bcb3eb0>"
      ]
     },
     "execution_count": 17,
     "metadata": {},
     "output_type": "execute_result"
    },
    {
     "data": {
      "image/png": "[encoded data removed]",
      "text/plain": [
       "<Figure size 864x648 with 1 Axes>"
      ]
     },
     "metadata": {
      "needs_background": "light"
     },
     "output_type": "display_data"
    }
   ],
   "source": [
    "data_processed['minutes_remaining'].hist(bins=25, figsize=(12,9))"
   ]
  },
  {
   "cell_type": "code",
   "execution_count": 18,
   "metadata": {},
   "outputs": [
    {
     "data": {
      "image/png": "[encoded data removed]",
      "text/plain": [
       "<Figure size 864x648 with 1 Axes>"
      ]
     },
     "metadata": {
      "needs_background": "light"
     },
     "output_type": "display_data"
    }
   ],
   "source": [
    "red_square = dict(markerfacecolor='r', marker='s') # выделим предполагаемые выбросы\n",
    "fig, ax = plt.subplots(figsize=(12,9))\n",
    "ax.boxplot(data_processed['minutes_remaining'], vert=False, flierprops=red_square)\n",
    "plt.show()"
   ]
  },
  {
   "cell_type": "code",
   "execution_count": 19,
   "metadata": {},
   "outputs": [],
   "source": [
    "data_processed['game_date'] = pd.to_datetime(data_processed['game_date'])"
   ]
  },
  {
   "cell_type": "code",
   "execution_count": 20,
   "metadata": {},
   "outputs": [],
   "source": [
    "data_processed['game_date'] = [t.timestamp() for t in data_processed['game_date']]"
   ]
  },
  {
   "cell_type": "code",
   "execution_count": 21,
   "metadata": {},
   "outputs": [],
   "source": [
    "data_processed['game_date'] -= data_processed['game_date'].mean()\n",
    "data_processed['game_date'] /= data_processed['game_date'].std()"
   ]
  },
  {
   "cell_type": "code",
   "execution_count": 22,
   "metadata": {},
   "outputs": [
    {
     "data": {
      "text/plain": [
       "0       -1.174219\n",
       "1       -1.174219\n",
       "2       -1.174219\n",
       "3       -1.174219\n",
       "4       -1.174219\n",
       "           ...   \n",
       "30692   -1.249976\n",
       "30693   -1.249976\n",
       "30694   -1.249976\n",
       "30695   -1.249976\n",
       "30696   -1.249976\n",
       "Name: game_date, Length: 30697, dtype: float64"
      ]
     },
     "execution_count": 22,
     "metadata": {},
     "output_type": "execute_result"
    }
   ],
   "source": [
    "data_processed['game_date']"
   ]
  },
  {
   "cell_type": "code",
   "execution_count": 23,
   "metadata": {},
   "outputs": [],
   "source": [
    "Shots_to_predict = data_processed[data_processed['shot_made_flag'].isnull()]\n",
    "Shots_to_train = data_processed[data_processed['shot_made_flag'].notna()]"
   ]
  },
  {
   "cell_type": "markdown",
   "metadata": {},
   "source": [
    "# Обучаем линейную модель, Lasso, Ridge "
   ]
  },
  {
   "cell_type": "code",
   "execution_count": 24,
   "metadata": {},
   "outputs": [],
   "source": [
    "X = Shots_to_train.drop(columns='shot_made_flag')\n",
    "y = Shots_to_train['shot_made_flag']"
   ]
  },
  {
   "cell_type": "code",
   "execution_count": 25,
   "metadata": {},
   "outputs": [
    {
     "data": {
      "text/plain": [
       "LinearRegression()"
      ]
     },
     "execution_count": 25,
     "metadata": {},
     "output_type": "execute_result"
    }
   ],
   "source": [
    "lin_regr = LinearRegression()\n",
    "lin_regr.fit(X, y)"
   ]
  },
  {
   "cell_type": "code",
   "execution_count": 101,
   "metadata": {},
   "outputs": [
    {
     "data": {
      "image/png": "[encoded data removed]",
      "text/plain": [
       "<Figure size 720x432 with 1 Axes>"
      ]
     },
     "metadata": {
      "needs_background": "light"
     },
     "output_type": "display_data"
    }
   ],
   "source": [
    "X_sc = StandardScaler().fit_transform(X)\n",
    "lg_l,pred_l = [], []\n",
    "\n",
    "list_l=list(2**np.linspace(-10,10,100))\n",
    "\n",
    "for i in range(len(list_l)):\n",
    "  m_l = Lasso(alpha=list_l[i]).fit(X_sc, y)\n",
    "  lg_l.append(m_l)\n",
    "  pred_l.append(m_l.coef_)\n",
    "\n",
    "plt.figure(figsize=[10,6])\n",
    "x_l = np.linspace(0,len(pred_l),len(pred_l))\n",
    "for i in np.vstack(pred_l).T:\n",
    "    plt.plot(x_l,np.sign(i)*np.abs(i)) \n",
    "plt.ylim(-0.05,0.06)       \n",
    "plt.grid() "
   ]
  },
  {
   "cell_type": "code",
   "execution_count": 106,
   "metadata": {},
   "outputs": [
    {
     "data": {
      "image/png": "[encoded data removed]",
      "text/plain": [
       "<Figure size 720x432 with 1 Axes>"
      ]
     },
     "metadata": {
      "needs_background": "light"
     },
     "output_type": "display_data"
    }
   ],
   "source": [
    "X_sc = StandardScaler().fit_transform(X)\n",
    "lg_r,pred_r = [], []\n",
    "\n",
    "list_r=list(2**np.linspace(-10,10,100))\n",
    "\n",
    "for i in range(len(list_r)):\n",
    "  m_r = Ridge(alpha=list_r[i]).fit(X_sc, y)\n",
    "  lg_r.append(m_l)\n",
    "  pred_r.append(m_r.coef_)\n",
    "\n",
    "plt.figure(figsize=[10,6])\n",
    "x_r = np.linspace(0,len(pred_r),len(pred_r))\n",
    "for i in np.vstack(pred_r).T:\n",
    "    plt.plot(x_r,np.sign(i)*np.abs(i)) \n",
    "plt.ylim(-0.05,0.06)       \n",
    "plt.grid() "
   ]
  },
  {
   "cell_type": "code",
   "execution_count": null,
   "metadata": {},
   "outputs": [],
   "source": []
  },
  {
   "cell_type": "markdown",
   "metadata": {},
   "source": [
    "# Строим PCA на подготовленных признаках,"
   ]
  },
  {
   "cell_type": "code",
   "execution_count": 26,
   "metadata": {},
   "outputs": [],
   "source": [
    "from sklearn.decomposition import PCA\n",
    "\n",
    "pca = PCA(n_components = 1)\n",
    "XPCAreduced = pca.fit_transform(np.transpose(X))"
   ]
  },
  {
   "cell_type": "code",
   "execution_count": 27,
   "metadata": {},
   "outputs": [
    {
     "data": {
      "text/plain": [
       "array([[-1.16509085e+09],\n",
       "       [ 2.80100116e+09],\n",
       "       [-1.16512538e+09],\n",
       "       [-1.16512968e+09],\n",
       "       [-1.16511620e+09],\n",
       "       [-1.16514978e+09],\n",
       "       [-1.16513004e+09],\n",
       "       [-1.16513042e+09],\n",
       "       [-1.16513080e+09],\n",
       "       [-1.16512629e+09],\n",
       "       [-1.16512867e+09],\n",
       "       [ 2.57020664e+11],\n",
       "       [-1.16513082e+09],\n",
       "       [-1.16267362e+09],\n",
       "       [-1.16513082e+09],\n",
       "       [-1.16513082e+09],\n",
       "       [-1.16513082e+09],\n",
       "       [-1.16513082e+09],\n",
       "       [-1.16513082e+09],\n",
       "       [-1.16513082e+09],\n",
       "       [-1.16513082e+09],\n",
       "       [-1.16513082e+09],\n",
       "       [-1.16513082e+09],\n",
       "       [-1.16513082e+09],\n",
       "       [-1.16513082e+09],\n",
       "       [-1.16513082e+09],\n",
       "       [-1.16513081e+09],\n",
       "       [-1.16513082e+09],\n",
       "       [-1.16513082e+09],\n",
       "       [-1.16513082e+09],\n",
       "       [-1.16513082e+09],\n",
       "       [-1.16513082e+09],\n",
       "       [-1.16513082e+09],\n",
       "       [-1.16513082e+09],\n",
       "       [-1.16513082e+09],\n",
       "       [-1.16513082e+09],\n",
       "       [-1.16513082e+09],\n",
       "       [-1.16513082e+09],\n",
       "       [-1.16513082e+09],\n",
       "       [-1.16513082e+09],\n",
       "       [-1.16513073e+09],\n",
       "       [-1.16513081e+09],\n",
       "       [-1.16513082e+09],\n",
       "       [-1.16513082e+09],\n",
       "       [-1.16513082e+09],\n",
       "       [-1.16513082e+09],\n",
       "       [-1.16513082e+09],\n",
       "       [-1.16513082e+09],\n",
       "       [-1.16513082e+09],\n",
       "       [-1.16513082e+09],\n",
       "       [-1.16513082e+09],\n",
       "       [-1.16513082e+09],\n",
       "       [-1.16513082e+09],\n",
       "       [-1.16513082e+09],\n",
       "       [-1.16513082e+09],\n",
       "       [-1.16513082e+09],\n",
       "       [-1.16513082e+09],\n",
       "       [-1.16513082e+09],\n",
       "       [-1.16513082e+09],\n",
       "       [-1.16513082e+09],\n",
       "       [-1.16513082e+09],\n",
       "       [-1.16513082e+09],\n",
       "       [-1.16513082e+09],\n",
       "       [-1.16513082e+09],\n",
       "       [-1.16513082e+09],\n",
       "       [-1.16513082e+09],\n",
       "       [-1.16513082e+09],\n",
       "       [-1.16513082e+09],\n",
       "       [-1.16513082e+09],\n",
       "       [-1.16513082e+09],\n",
       "       [-1.16513082e+09],\n",
       "       [-1.16513082e+09],\n",
       "       [-1.16513082e+09],\n",
       "       [-1.16513082e+09],\n",
       "       [-1.16513070e+09],\n",
       "       [-1.16513080e+09],\n",
       "       [-1.16513082e+09],\n",
       "       [-1.16513082e+09],\n",
       "       [-1.16513082e+09],\n",
       "       [-1.16513082e+09],\n",
       "       [-1.16513082e+09],\n",
       "       [-1.16513081e+09],\n",
       "       [-1.16513081e+09],\n",
       "       [-1.16513081e+09],\n",
       "       [-1.16513082e+09],\n",
       "       [-1.16513082e+09],\n",
       "       [-1.16513081e+09],\n",
       "       [-1.16513081e+09],\n",
       "       [-1.16513081e+09],\n",
       "       [-1.16513081e+09],\n",
       "       [-1.16513081e+09],\n",
       "       [-1.16513081e+09],\n",
       "       [-1.16513082e+09],\n",
       "       [-1.16513082e+09],\n",
       "       [-1.16513082e+09],\n",
       "       [-1.16513082e+09],\n",
       "       [-1.16513082e+09],\n",
       "       [-1.16513070e+09],\n",
       "       [-1.16513079e+09],\n",
       "       [-1.16513082e+09],\n",
       "       [-1.16513075e+09],\n",
       "       [-1.16513080e+09],\n",
       "       [-1.16513080e+09],\n",
       "       [-1.16513080e+09],\n",
       "       [-1.16513080e+09],\n",
       "       [-1.16513079e+09],\n",
       "       [-1.16513082e+09],\n",
       "       [-1.16513080e+09],\n",
       "       [-1.16513082e+09],\n",
       "       [-1.16513076e+09],\n",
       "       [-1.16513079e+09],\n",
       "       [-1.16513082e+09],\n",
       "       [-1.16513078e+09],\n",
       "       [-1.16513079e+09],\n",
       "       [-1.16513079e+09],\n",
       "       [-1.16513082e+09],\n",
       "       [-1.16513078e+09],\n",
       "       [-1.16513066e+09],\n",
       "       [-1.16513082e+09],\n",
       "       [-1.16513082e+09],\n",
       "       [-1.16513082e+09],\n",
       "       [-1.16513082e+09],\n",
       "       [-1.16513082e+09],\n",
       "       [-1.16513082e+09],\n",
       "       [-1.16513082e+09],\n",
       "       [-1.16513082e+09],\n",
       "       [-1.16513082e+09],\n",
       "       [-1.16513082e+09],\n",
       "       [-1.16513082e+09],\n",
       "       [-1.16513082e+09],\n",
       "       [-1.16513082e+09],\n",
       "       [-1.16513082e+09],\n",
       "       [-1.16513082e+09],\n",
       "       [-1.16513082e+09],\n",
       "       [-1.16513082e+09],\n",
       "       [-1.16513082e+09],\n",
       "       [-1.16513082e+09],\n",
       "       [-1.16513082e+09],\n",
       "       [-1.16513082e+09],\n",
       "       [-1.16513082e+09],\n",
       "       [-1.16513082e+09],\n",
       "       [-1.16513082e+09],\n",
       "       [-1.16513082e+09],\n",
       "       [-1.16513082e+09],\n",
       "       [-1.16513082e+09],\n",
       "       [-1.16513082e+09],\n",
       "       [-1.16513082e+09],\n",
       "       [-1.16513082e+09],\n",
       "       [-1.16513082e+09],\n",
       "       [-1.16513082e+09],\n",
       "       [-1.16513082e+09],\n",
       "       [-1.16513082e+09],\n",
       "       [-1.16513082e+09],\n",
       "       [-1.16513082e+09],\n",
       "       [-1.16513082e+09],\n",
       "       [-1.16513082e+09],\n",
       "       [-1.16513082e+09],\n",
       "       [-1.16513082e+09],\n",
       "       [-1.16513082e+09],\n",
       "       [-1.16513082e+09],\n",
       "       [-1.16513082e+09],\n",
       "       [-1.16513082e+09],\n",
       "       [-1.16513082e+09],\n",
       "       [-1.16513082e+09],\n",
       "       [-1.16513082e+09],\n",
       "       [-1.16513082e+09],\n",
       "       [-1.16513082e+09],\n",
       "       [-1.16513082e+09],\n",
       "       [-1.16513082e+09],\n",
       "       [-1.16513082e+09],\n",
       "       [-1.16513082e+09],\n",
       "       [-1.16513082e+09],\n",
       "       [-1.16513082e+09],\n",
       "       [-1.16513082e+09],\n",
       "       [-1.16513082e+09],\n",
       "       [-1.16513082e+09],\n",
       "       [-1.16513082e+09],\n",
       "       [-1.16513082e+09],\n",
       "       [-1.16513082e+09],\n",
       "       [-1.16513082e+09],\n",
       "       [-1.16513082e+09],\n",
       "       [-1.16513082e+09],\n",
       "       [-1.16513082e+09],\n",
       "       [-1.16513082e+09],\n",
       "       [-1.16513082e+09],\n",
       "       [-1.16513082e+09],\n",
       "       [-1.16513082e+09],\n",
       "       [-1.16513082e+09],\n",
       "       [-1.16513082e+09],\n",
       "       [-1.16513082e+09],\n",
       "       [-1.16513082e+09],\n",
       "       [-1.16513082e+09],\n",
       "       [-1.16513082e+09],\n",
       "       [-1.16513082e+09],\n",
       "       [-1.16513082e+09],\n",
       "       [-1.16513082e+09],\n",
       "       [-1.16513082e+09],\n",
       "       [-1.16513082e+09],\n",
       "       [-1.16513082e+09],\n",
       "       [-1.16513082e+09],\n",
       "       [-1.16513082e+09],\n",
       "       [-1.16513082e+09],\n",
       "       [-1.16513082e+09],\n",
       "       [-1.16513082e+09],\n",
       "       [-1.16513082e+09],\n",
       "       [-1.16513082e+09],\n",
       "       [-1.16513082e+09],\n",
       "       [-1.16513082e+09],\n",
       "       [-1.16513082e+09],\n",
       "       [-1.16513082e+09],\n",
       "       [-1.16513082e+09],\n",
       "       [-1.16513082e+09],\n",
       "       [-1.16513082e+09],\n",
       "       [-1.16513082e+09],\n",
       "       [-1.16513082e+09],\n",
       "       [-1.16513082e+09],\n",
       "       [-1.16513081e+09],\n",
       "       [-1.16513082e+09],\n",
       "       [-1.16513082e+09],\n",
       "       [-1.16513081e+09],\n",
       "       [-1.16513082e+09],\n",
       "       [-1.16513082e+09],\n",
       "       [-1.16513082e+09],\n",
       "       [-1.16513082e+09],\n",
       "       [-1.16513082e+09]])"
      ]
     },
     "execution_count": 27,
     "metadata": {},
     "output_type": "execute_result"
    }
   ],
   "source": [
    "XPCAreduced"
   ]
  },
  {
   "cell_type": "code",
   "execution_count": null,
   "metadata": {},
   "outputs": [],
   "source": []
  }
 ],
 "metadata": {
  "colab": {
   "name": "HW_Kobe.ipynb",
   "provenance": []
  },
  "kernelspec": {
   "display_name": "Python 3",
   "language": "python",
   "name": "python3"
  },
  "language_info": {
   "codemirror_mode": {
    "name": "ipython",
    "version": 3
   },
   "file_extension": ".py",
   "mimetype": "text/x-python",
   "name": "python",
   "nbconvert_exporter": "python",
   "pygments_lexer": "ipython3",
   "version": "3.8.3"
  }
 },
 "nbformat": 4,
 "nbformat_minor": 1
}
